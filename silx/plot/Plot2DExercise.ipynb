{
 "cells": [
  {
   "cell_type": "markdown",
   "metadata": {},
   "source": [
    "# Simple plot of a 2D image\n",
    "![plot2D](img/plot2D_sino.png)\n",
    "\n",
    "\n",
    "- http://www.silx.org/doc/silx/dev/modules/gui/plot/plotwindow.html\n",
    "\n",
    "- http://www.silx.org/doc/silx/dev/modules/gui/plot/getting_started.html"
   ]
  },
  {
   "cell_type": "markdown",
   "metadata": {},
   "source": [
    "## load data from data/lena.hdf5"
   ]
  },
  {
   "cell_type": "code",
   "execution_count": null,
   "metadata": {
    "collapsed": false
   },
   "outputs": [],
   "source": [
    "import numpy\n",
    "from silx.gui.plot import Plot2D\n",
    "\n",
    "import fabio \n",
    "data=fabio.open('data/sinogram.edf').data"
   ]
  },
  {
   "cell_type": "markdown",
   "metadata": {},
   "source": [
    "## Plot the image\n",
    "\n",
    "- using Plot2D class\n",
    "    - addImage"
   ]
  },
  {
   "cell_type": "code",
   "execution_count": null,
   "metadata": {
    "collapsed": false
   },
   "outputs": [],
   "source": [
    "..."
   ]
  },
  {
   "cell_type": "markdown",
   "metadata": {},
   "source": [
    "## Change the color map\n",
    "\n",
    "- using setDefaultColormap\n",
    "    - a colormap id defined by a dictionnary : \n",
    "       - colormap = {'name': 'inferno', 'normalization': 'linear',\n",
    "            'autoscale': True, 'vmin': 0.0, 'vmax': 1.0}"
   ]
  },
  {
   "cell_type": "code",
   "execution_count": null,
   "metadata": {
    "collapsed": true
   },
   "outputs": [],
   "source": [
    "..."
   ]
  },
  {
   "cell_type": "markdown",
   "metadata": {},
   "source": [
    "## origin keyword\n",
    "- define the center of the image to (100, 100) during the call of addImage(..., origin=(...), ...)"
   ]
  },
  {
   "cell_type": "code",
   "execution_count": null,
   "metadata": {
    "collapsed": false
   },
   "outputs": [],
   "source": [
    "..."
   ]
  },
  {
   "cell_type": "markdown",
   "metadata": {},
   "source": [
    "## scale keyword\n",
    "- scale the image of a factor (0.1, 0.1) during the call of addImage"
   ]
  },
  {
   "cell_type": "code",
   "execution_count": null,
   "metadata": {
    "collapsed": false
   },
   "outputs": [],
   "source": [
    "..."
   ]
  },
  {
   "cell_type": "markdown",
   "metadata": {},
   "source": [
    "# multiple image\n",
    "\n",
    "create the lenas plot (data is in data/ascent.h5) using only :\n",
    "\n",
    "- data\n",
    "- Plot2D functions\n",
    "\n",
    "![lenas plot](img/plot2D_ascent_double.png)"
   ]
  },
  {
   "cell_type": "markdown",
   "metadata": {},
   "source": [
    "## load data"
   ]
  },
  {
   "cell_type": "code",
   "execution_count": 12,
   "metadata": {
    "collapsed": false
   },
   "outputs": [],
   "source": [
    "# input using .hdf5\n",
    "import h5py\n",
    "dataPath='data/ascent.h5'\n",
    "f=h5py.File(dataPath)\n",
    "data=data = numpy.array(f['data'], dtype='float64') "
   ]
  },
  {
   "cell_type": "markdown",
   "metadata": {},
   "source": [
    "## plot data"
   ]
  },
  {
   "cell_type": "code",
   "execution_count": null,
   "metadata": {
    "collapsed": false
   },
   "outputs": [],
   "source": [
    "..."
   ]
  },
  {
   "cell_type": "markdown",
   "metadata": {},
   "source": [
    "## Control axes\n",
    "- change title, X and Y labels\n",
    "    - setGraphTitle\n",
    "    - setGraphXLabel\n",
    "    - setGraphYLabel"
   ]
  },
  {
   "cell_type": "code",
   "execution_count": null,
   "metadata": {
    "collapsed": true
   },
   "outputs": [],
   "source": [
    "..."
   ]
  },
  {
   "cell_type": "markdown",
   "metadata": {},
   "source": [
    "## x and y limits\n",
    "\n",
    "get the following display:\n",
    "    - using setGraphXLimits\n",
    "    - using setGraphYLimits\n",
    "\n",
    "![lena](img/plot2D_ascent_area.png)\n",
    "\n",
    "."
   ]
  },
  {
   "cell_type": "code",
   "execution_count": null,
   "metadata": {
    "collapsed": false
   },
   "outputs": [],
   "source": [
    "..."
   ]
  },
  {
   "cell_type": "markdown",
   "metadata": {},
   "source": [
    "Plot class diagram\n",
    "\n",
    "![plot class diagram](img/plotGraph.png)"
   ]
  },
  {
   "cell_type": "code",
   "execution_count": null,
   "metadata": {
    "collapsed": true
   },
   "outputs": [],
   "source": []
  }
 ],
 "metadata": {
  "kernelspec": {
   "display_name": "Python 3",
   "language": "python",
   "name": "python3"
  },
  "language_info": {
   "codemirror_mode": {
    "name": "ipython",
    "version": 3
   },
   "file_extension": ".py",
   "mimetype": "text/x-python",
   "name": "python",
   "nbconvert_exporter": "python",
   "pygments_lexer": "ipython3",
   "version": "3.5.2"
  }
 },
 "nbformat": 4,
 "nbformat_minor": 1
}
