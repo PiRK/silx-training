{
 "metadata": {
  "kernelspec": {
   "display_name": "Python 3",
   "language": "python",
   "name": "python3"
  },
  "language_info": {
   "codemirror_mode": {
    "name": "ipython",
    "version": 3
   },
   "file_extension": ".py",
   "mimetype": "text/x-python",
   "name": "python",
   "nbconvert_exporter": "python",
   "pygments_lexer": "ipython3",
   "version": "3.5.2"
  },
  "name": ""
 },
 "nbformat": 3,
 "nbformat_minor": 0,
 "worksheets": [
  {
   "cells": [
    {
     "cell_type": "markdown",
     "metadata": {},
     "source": [
      "The goal is to add an action to the plot window\n",
      "For example : \n",
      "   - shift the selected curve\n",
      "   - inverte x and y\n",
      "   - ..."
     ]
    },
    {
     "cell_type": "markdown",
     "metadata": {},
     "source": [
      "# create your own plot action\n",
      "\n",
      "- heritate from PlotAction\n",
      "\n",
      "- redefine the triggered function\n",
      "\n",
      "- http://www.silx.org/doc/silx/dev/modules/gui/plot/actions/examples.html"
     ]
    },
    {
     "cell_type": "code",
     "collapsed": true,
     "input": [
      "from silx.gui import qt\n",
      "%gui qt"
     ],
     "language": "python",
     "metadata": {},
     "outputs": [],
     "prompt_number": null
    },
    {
     "cell_type": "code",
     "collapsed": false,
     "input": [
      "from silx.gui.plot.actions import PlotAction \n",
      "class ShiftUpAction(PlotAction):\n",
      "    \"\"\"QAction shifting up a curve by one unit\n",
      "\n",
      "    :param plot: :class:`.PlotWidget` instance on which to operate\n",
      "    :param parent: See :class:`QAction`\n",
      "    \"\"\"\n",
      "    def __init__(self, plot, parent=None):\n",
      "        PlotAction.__init__(self,\n",
      "                            plot,\n",
      "                            icon='shape-circle',\n",
      "                            text='Shift up',\n",
      "                            tooltip='Shift active curve up by one unit',\n",
      "                            triggered=self.shiftActiveCurveUp,\n",
      "                            parent=parent)\n",
      "\n",
      "    def shiftActiveCurveUp(self):\n",
      "        \"\"\"Get the active curve, add 1 to all y values, use this new y\n",
      "        array to replace the original curve\"\"\"\n",
      "        # By inheriting from PlotAction, we get access to attribute \n",
      "        # self.plot\n",
      "        # which is a reference to the PlotWindow\n",
      "        activeCurve = self.plot.getActiveCurve()\n",
      "\n",
      "        if activeCurve is not None:\n",
      "            # Unpack curve data.\n",
      "            # Each curve is represented by a tuple of 5 variables:\n",
      "            #  - x and y are the array of abscissa and ordinate values\n",
      "            #  - legend is a unique text identifying a curve\n",
      "            #  - info and params are dictionaries of additional data\n",
      "            #    (user defined, curve style and color...)\n",
      "            x0, y0, legend, info, _params = activeCurve\n",
      "\n",
      "            # Add 1 to all values in the y array\n",
      "            # and assign the result to a new array y1\n",
      "            #(do not modify y0 if you want to preserve the original curve)\n",
      "            y1 = y0 + 1.0\n",
      "\n",
      "            # Re-using the same legend causes the original curve\n",
      "            # to be replaced\n",
      "            self.plot.addCurve(x0, y1, legend=legend,\n",
      "                               info=info)"
     ],
     "language": "python",
     "metadata": {},
     "outputs": [],
     "prompt_number": null
    },
    {
     "cell_type": "heading",
     "level": 1,
     "metadata": {},
     "source": [
      "Integrate the action in a plot window"
     ]
    },
    {
     "cell_type": "heading",
     "level": 2,
     "metadata": {},
     "source": [
      "define the plot window"
     ]
    },
    {
     "cell_type": "code",
     "collapsed": true,
     "input": [
      "from silx.gui.plot import Plot1D\n",
      "import numpy\n",
      "def createPlot():\n",
      "    plot=Plot1D()\n",
      "    x=numpy.linspace(0, numpy.pi, 1000)\n",
      "    y=numpy.sin(x)\n",
      "    plot.addCurve(x, y, legend='curve')\n",
      "    plot.setActiveCurve('curve')\n",
      "    return plot"
     ],
     "language": "python",
     "metadata": {},
     "outputs": [],
     "prompt_number": null
    },
    {
     "cell_type": "markdown",
     "metadata": {},
     "source": [
      "## add it to the toolBar\n",
      "![plot action integrated into a toolBar](img/plotaction_toolbar.png)"
     ]
    },
    {
     "cell_type": "code",
     "collapsed": false,
     "input": [
      "plot=createPlot()\n",
      "toolBar=plot.toolBar()\n",
      "myaction = ShiftUpAction(plot)\n",
      "toolBar.addAction(myaction)\n",
      "plot.show()"
     ],
     "language": "python",
     "metadata": {},
     "outputs": [],
     "prompt_number": null
    }
   ],
   "metadata": {}
  }
 ]
}
