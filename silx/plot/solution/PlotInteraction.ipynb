{
 "cells": [
  {
   "cell_type": "code",
   "execution_count": 1,
   "metadata": {
    "collapsed": true
   },
   "outputs": [],
   "source": [
    "from silx.gui import qt\n",
    "%gui qt"
   ]
  },
  {
   "cell_type": "markdown",
   "metadata": {},
   "source": [
    "# simple plot of a 2D image \n",
    "\n",
    "- using Plot2D"
   ]
  },
  {
   "cell_type": "markdown",
   "metadata": {},
   "source": [
    "## load data from data/lena.hdf5"
   ]
  },
  {
   "cell_type": "code",
   "execution_count": 2,
   "metadata": {
    "collapsed": false
   },
   "outputs": [
    {
     "data": {
      "text/plain": [
       "'<HDF5 dataset \"data\": shape (512, 512), type \"<i8\">\\n'"
      ]
     },
     "execution_count": 2,
     "metadata": {},
     "output_type": "execute_result"
    }
   ],
   "source": [
    "# input using .hdf5\n",
    "import h5py\n",
    "import numpy\n",
    "dataPath='../data/ascent.h5'\n",
    "f=h5py.File(dataPath)\n",
    "from silx.io.utils import h5ls\n",
    "h5ls(dataPath)"
   ]
  },
  {
   "cell_type": "code",
   "execution_count": 3,
   "metadata": {
    "collapsed": false
   },
   "outputs": [],
   "source": [
    "image=numpy.array(f['data'], dtype='float32')"
   ]
  },
  {
   "cell_type": "markdown",
   "metadata": {},
   "source": [
    "## plot the image\n",
    "![ascent image](../img/plot_ascent.png)"
   ]
  },
  {
   "cell_type": "code",
   "execution_count": 4,
   "metadata": {
    "collapsed": false
   },
   "outputs": [
    {
     "name": "stderr",
     "output_type": "stream",
     "text": [
      "WARNING:fabioimage:PIL is not installed ... trying to do without\n",
      "WARNING:tifimage:PIL is not installed ... trying to do without\n",
      "WARNING:bruker100image:PIL is not installed ... trying to do without\n",
      "WARNING:xsdimage:lxml library is probably not part of your python installation: disabling xsdimage format\n"
     ]
    }
   ],
   "source": [
    "from silx.gui.plot import Plot2D\n",
    "plotImage=Plot2D()\n",
    "plotImage.addImage(image, origin=(0, 0), legend='sino') \n",
    "plotImage.show()"
   ]
  },
  {
   "cell_type": "markdown",
   "metadata": {},
   "source": [
    "# display the pixel intensity distribution"
   ]
  },
  {
   "cell_type": "markdown",
   "metadata": {},
   "source": [
    "## create the histogramnd \n",
    "- using silx.math.histogram.Histogramnd\n",
    "\n",
    "- http://www.silx.org/doc/silx/dev/modules/math/histogram.html"
   ]
  },
  {
   "cell_type": "code",
   "execution_count": 5,
   "metadata": {
    "collapsed": false
   },
   "outputs": [],
   "source": [
    "from silx.math.histogram import Histogramnd\n",
    "histo, w_histo, edges = Histogramnd(image.flatten(), \n",
    "                                    n_bins=256, \n",
    "                                    histo_range=[0,256])"
   ]
  },
  {
   "cell_type": "markdown",
   "metadata": {},
   "source": [
    "## plot the histogram\n",
    "- using silx.gui.plot.Plot1d"
   ]
  },
  {
   "cell_type": "code",
   "execution_count": 6,
   "metadata": {
    "collapsed": false
   },
   "outputs": [],
   "source": [
    "from silx.gui.plot import Plot1D\n",
    "plotHisto = Plot1D()\n",
    "plotHisto.addCurve(range(256), histo, legend='intensity')\n",
    "plotHisto.show()"
   ]
  },
  {
   "cell_type": "markdown",
   "metadata": {},
   "source": [
    "# create a PlotAction which plot the histogram for the current image\n",
    "\n",
    "- using silx.gui.plot.PlotActions.PlotAction\n",
    "\n",
    "- doc@ http://www.silx.org/doc/silx/dev/modules/gui/plot/plotactions_examples.html\n",
    "    \n",
    "![simple-image](../img/plot_image-pixel_intensity.png)"
   ]
  },
  {
   "cell_type": "code",
   "execution_count": 7,
   "metadata": {
    "collapsed": false
   },
   "outputs": [],
   "source": [
    "from silx.gui.plot.PlotActions import PlotAction \n",
    "from silx.math.histogram import Histogramnd \n",
    "from silx.gui.plot import Plot1D\n",
    "\n",
    "class ComputeHistogramAction(PlotAction):\n",
    "    \"\"\"Computes the intensity distribution on the current image\n",
    "\n",
    "    :param plot: :class:`.PlotWidget` instance on which to operate\n",
    "    :param parent: See :class:`QAction`\n",
    "    \"\"\"\n",
    "    def __init__(self, plot, parent=None):\n",
    "        PlotAction.__init__(self,\n",
    "                            plot,\n",
    "                            icon='shape-circle',\n",
    "                            text='pixels intensity',\n",
    "                            tooltip='Compute image intensity distribution',\n",
    "                            triggered=self.computeIntensityDistribution,\n",
    "                            parent=parent)\n",
    "        self.plotHistogram=Plot1D()\n",
    "    \n",
    "    def computeIntensityDistribution(self):\n",
    "        \"\"\"Get the active image and compute the image \n",
    "        intensity distribution\"\"\"\n",
    "        # By inheriting from PlotAction, we get access to attribute \n",
    "        # self.plot\n",
    "        # which is a reference to the PlotWindow\n",
    "        activeImage = self.plot.getActiveImage()\n",
    "    \n",
    "        if activeImage is not None:\n",
    "                \n",
    "            histo, w_histo, edges = Histogramnd(activeImage[0].flatten(), \n",
    "                                              n_bins=256, \n",
    "                                              histo_range=[0,256])\n",
    "                \n",
    "            self.plotHistogram.addCurve(range(256), \n",
    "                                        histo, \n",
    "                                        legend='pixel intensity')\n",
    "            self.plotHistogram.show()"
   ]
  },
  {
   "cell_type": "markdown",
   "metadata": {},
   "source": [
    "## Add this action into the toolBar of the window"
   ]
  },
  {
   "cell_type": "code",
   "execution_count": 8,
   "metadata": {
    "collapsed": false
   },
   "outputs": [],
   "source": [
    "plotHisto.clear()\n",
    "myaction=ComputeHistogramAction(plotImage)\n",
    "toolBar=plotImage.toolBar()\n",
    "toolBar.addAction(myaction)\n",
    "plotImage.show()"
   ]
  },
  {
   "cell_type": "markdown",
   "metadata": {},
   "source": [
    "# show automatically the histogram when the image change\n",
    "\n",
    "- using plotImage.sigActiveImageChanged.connect(plotHisto)"
   ]
  },
  {
   "cell_type": "code",
   "execution_count": 9,
   "metadata": {
    "collapsed": false
   },
   "outputs": [],
   "source": [
    "from silx.math.histogram import Histogramnd \n",
    "\n",
    "def computeIntensityDistribution():\n",
    "        \"\"\"Get the active image and compute the image \n",
    "        intensity distribution\"\"\"\n",
    "        # By inheriting from PlotAction, we get access to attribute \n",
    "        # self.plot\n",
    "        # which is a reference to the PlotWindow\n",
    "        activeImage = plotImage.getActiveImage()\n",
    "\n",
    "        if activeImage is not None:\n",
    "            histo, w_histo, edges = Histogramnd(activeImage[0].flatten(), \n",
    "                                                n_bins=256, \n",
    "                                                histo_range=[0,256])\n",
    "            \n",
    "            from silx.gui.plot import Plot1D\n",
    "            plotHistogram = Plot1D()\n",
    "            plotHistogram.addCurve(range(256), \n",
    "                                   histo, \n",
    "                                   legend='pixel intensity')\n",
    "            plotHistogram.show()"
   ]
  },
  {
   "cell_type": "code",
   "execution_count": 10,
   "metadata": {
    "collapsed": false
   },
   "outputs": [
    {
     "data": {
      "text/plain": [
       "'lena'"
      ]
     },
     "execution_count": 10,
     "metadata": {},
     "output_type": "execute_result"
    }
   ],
   "source": [
    "plotImage=Plot2D()\n",
    "plotImage.sigActiveImageChanged.connect(computeIntensityDistribution)\n",
    "plotImage.addImage(image, origin=(0, 0), legend='lena') "
   ]
  },
  {
   "cell_type": "code",
   "execution_count": 11,
   "metadata": {
    "collapsed": true
   },
   "outputs": [],
   "source": [
    "from silx.gui.plot.PlotActions import PlotAction \n",
    "from silx.math.histogram import Histogramnd\n",
    "from silx.gui.plot import Plot1D\n",
    "\n",
    "class ComputeHistogramAction(PlotAction):\n",
    "    \"\"\"Computes the intensity distribution on the current image\n",
    "\n",
    "    :param plot: :class:`.PlotWidget` instance on which to operate\n",
    "    :param parent: See :class:`QAction`\n",
    "    \"\"\"\n",
    "    def __init__(self, plot, parent=None):\n",
    "        PlotAction.__init__(self,\n",
    "                            plot,\n",
    "                            icon='shape-circle',\n",
    "                            text='pixels intensity',\n",
    "                            tooltip='Compute image intensity distribution',\n",
    "                            triggered=self.computeIntensityDistribution,\n",
    "                            checkable=True,\n",
    "                            parent=parent)\n",
    "        self.plotHistogram=Plot1D()\n",
    "        self.plot.sigActiveImageChanged.connect(self.update)\n",
    "        \n",
    "    def update(self):\n",
    "        # By inheriting from PlotAction, we get access to attribute \n",
    "        # self.plot\n",
    "        # which is a reference to the PlotWindow\n",
    "        activeImage = self.plot.getActiveImage()\n",
    "\n",
    "        if activeImage is not None:\n",
    "            \n",
    "            histo, w_histo, edges = Histogramnd(activeImage[0].flatten(), \n",
    "                                                          n_bins=256, \n",
    "                                                          histo_range=[0,256])\n",
    "            \n",
    "            self.plotHistogram.addCurve(range(256), \n",
    "                                        histo, \n",
    "                                        legend='pixel intensity')\n",
    "            \n",
    "    def computeIntensityDistribution(self):\n",
    "        \"\"\"Get the active image and compute the image intensity distribution\"\"\"\n",
    "        if self.isChecked():\n",
    "            self.update()\n",
    "            self.plotHistogram.show()\n",
    "        else:\n",
    "            self.plotHistogram.hide()"
   ]
  },
  {
   "cell_type": "code",
   "execution_count": 13,
   "metadata": {
    "collapsed": false
   },
   "outputs": [],
   "source": [
    "plotImage=Plot2D()\n",
    "myaction=ComputeHistogramAction(plotImage)\n",
    "toolBar=plotImage.toolBar()\n",
    "toolBar.addAction(myaction)\n",
    "plotImage.addImage(image, origin=(0, 0), legend='ascent')  \n",
    "plotImage.show()"
   ]
  },
  {
   "cell_type": "code",
   "execution_count": 14,
   "metadata": {
    "collapsed": false
   },
   "outputs": [
    {
     "data": {
      "text/plain": [
       "'ascent'"
      ]
     },
     "execution_count": 14,
     "metadata": {},
     "output_type": "execute_result"
    }
   ],
   "source": [
    "plotImage.addImage(image/2.0, origin=(0, 0), legend='ascent')  "
   ]
  },
  {
   "cell_type": "markdown",
   "metadata": {},
   "source": [
    "Note : This feature has been added into silx as the 'intensityHistoAction'\n",
    "    \n",
    "Some code to access it :"
   ]
  },
  {
   "cell_type": "code",
   "execution_count": 17,
   "metadata": {
    "collapsed": false
   },
   "outputs": [
    {
     "name": "stderr",
     "output_type": "stream",
     "text": [
      "WARNING:silx.gui.plot.Plot:xerror and yerror won't be displayed for histogram display\n"
     ]
    }
   ],
   "source": [
    "import scipy.misc\n",
    "image=scipy.misc.ascent()\n",
    "\n",
    "plotImage=Plot2D()\n",
    "plotImage.addImage(image, scale=(1, 1))\n",
    "plotImage.getIntensityHistogramAction().setVisible(True)\n",
    "plotImage.show()"
   ]
  },
  {
   "cell_type": "markdown",
   "metadata": {},
   "source": [
    "# For information : the class diagram of the Plot module"
   ]
  },
  {
   "cell_type": "markdown",
   "metadata": {},
   "source": [
    "![plot class diagram](../img/plotGraph.png)"
   ]
  },
  {
   "cell_type": "code",
   "execution_count": null,
   "metadata": {
    "collapsed": true
   },
   "outputs": [],
   "source": []
  }
 ],
 "metadata": {
  "kernelspec": {
   "display_name": "Python 3",
   "language": "python",
   "name": "python3"
  },
  "language_info": {
   "codemirror_mode": {
    "name": "ipython",
    "version": 3
   },
   "file_extension": ".py",
   "mimetype": "text/x-python",
   "name": "python",
   "nbconvert_exporter": "python",
   "pygments_lexer": "ipython3",
   "version": "3.5.2"
  }
 },
 "nbformat": 4,
 "nbformat_minor": 1
}
