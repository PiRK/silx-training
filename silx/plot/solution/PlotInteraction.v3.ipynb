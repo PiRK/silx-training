{
 "metadata": {
  "kernelspec": {
   "display_name": "Python 3",
   "language": "python",
   "name": "python3"
  },
  "language_info": {
   "codemirror_mode": {
    "name": "ipython",
    "version": 3
   },
   "file_extension": ".py",
   "mimetype": "text/x-python",
   "name": "python",
   "nbconvert_exporter": "python",
   "pygments_lexer": "ipython3",
   "version": "3.5.2"
  },
  "name": ""
 },
 "nbformat": 3,
 "nbformat_minor": 0,
 "worksheets": [
  {
   "cells": [
    {
     "cell_type": "code",
     "collapsed": true,
     "input": [
      "from silx.gui import qt\n",
      "%gui qt"
     ],
     "language": "python",
     "metadata": {},
     "outputs": [],
     "prompt_number": null
    },
    {
     "cell_type": "markdown",
     "metadata": {},
     "source": [
      "# simple plot of a 2D image \n",
      "\n",
      "- using Plot2D"
     ]
    },
    {
     "cell_type": "heading",
     "level": 2,
     "metadata": {},
     "source": [
      "load data from data/lena.hdf5"
     ]
    },
    {
     "cell_type": "code",
     "collapsed": false,
     "input": [
      "# input using .hdf5\n",
      "import h5py\n",
      "import numpy\n",
      "dataPath='../data/ascent.h5'\n",
      "f=h5py.File(dataPath)\n",
      "from silx.io.utils import h5ls\n",
      "h5ls(dataPath)"
     ],
     "language": "python",
     "metadata": {},
     "outputs": [],
     "prompt_number": null
    },
    {
     "cell_type": "code",
     "collapsed": false,
     "input": [
      "image=numpy.array(f['data'], dtype='float32')"
     ],
     "language": "python",
     "metadata": {},
     "outputs": [],
     "prompt_number": null
    },
    {
     "cell_type": "markdown",
     "metadata": {},
     "source": [
      "## plot the image\n",
      "![ascent image](../img/plot_ascent.png)"
     ]
    },
    {
     "cell_type": "code",
     "collapsed": false,
     "input": [
      "from silx.gui.plot import Plot2D\n",
      "plotImage=Plot2D()\n",
      "plotImage.addImage(image, origin=(0, 0), legend='sino') \n",
      "plotImage.show()"
     ],
     "language": "python",
     "metadata": {},
     "outputs": [],
     "prompt_number": null
    },
    {
     "cell_type": "heading",
     "level": 1,
     "metadata": {},
     "source": [
      "display the pixel intensity distribution"
     ]
    },
    {
     "cell_type": "markdown",
     "metadata": {},
     "source": [
      "## create the histogramnd \n",
      "- using silx.math.histogram.Histogramnd\n",
      "\n",
      "- http://www.silx.org/doc/silx/dev/modules/math/histogram.html"
     ]
    },
    {
     "cell_type": "code",
     "collapsed": false,
     "input": [
      "from silx.math.histogram import Histogramnd\n",
      "histo, w_histo, edges = Histogramnd(image.flatten(), \n",
      "                                    n_bins=256, \n",
      "                                    histo_range=[0,256])"
     ],
     "language": "python",
     "metadata": {},
     "outputs": [],
     "prompt_number": null
    },
    {
     "cell_type": "markdown",
     "metadata": {},
     "source": [
      "## plot the histogram\n",
      "- using silx.gui.plot.Plot1d"
     ]
    },
    {
     "cell_type": "code",
     "collapsed": false,
     "input": [
      "from silx.gui.plot import Plot1D\n",
      "plotHisto = Plot1D()\n",
      "plotHisto.addCurve(range(256), histo, legend='intensity')\n",
      "plotHisto.show()"
     ],
     "language": "python",
     "metadata": {},
     "outputs": [],
     "prompt_number": null
    },
    {
     "cell_type": "markdown",
     "metadata": {},
     "source": [
      "# create a PlotAction which plot the histogram for the current image\n",
      "\n",
      "- using silx.gui.plot.actions.PlotAction\n",
      "\n",
      "- doc@ http://www.silx.org/doc/silx/dev/modules/gui/plot/actions/examples.html\n",
      "    \n",
      "![simple-image](../img/plot_image-pixel_intensity.png)"
     ]
    },
    {
     "cell_type": "code",
     "collapsed": false,
     "input": [
      "from silx.gui.plot.actions import PlotAction \n",
      "from silx.math.histogram import Histogramnd \n",
      "from silx.gui.plot import Plot1D\n",
      "\n",
      "class ComputeHistogramAction(PlotAction):\n",
      "    \"\"\"Computes the intensity distribution on the current image\n",
      "\n",
      "    :param plot: :class:`.PlotWidget` instance on which to operate\n",
      "    :param parent: See :class:`QAction`\n",
      "    \"\"\"\n",
      "    def __init__(self, plot, parent=None):\n",
      "        PlotAction.__init__(self,\n",
      "                            plot,\n",
      "                            icon='shape-circle',\n",
      "                            text='pixels intensity',\n",
      "                            tooltip='Compute image intensity distribution',\n",
      "                            triggered=self.computeIntensityDistribution,\n",
      "                            parent=parent)\n",
      "        self.plotHistogram=Plot1D()\n",
      "    \n",
      "    def computeIntensityDistribution(self):\n",
      "        \"\"\"Get the active image and compute the image \n",
      "        intensity distribution\"\"\"\n",
      "        # By inheriting from PlotAction, we get access to attribute \n",
      "        # self.plot\n",
      "        # which is a reference to the PlotWindow\n",
      "        activeImage = self.plot.getActiveImage()\n",
      "    \n",
      "        if activeImage is not None:\n",
      "                \n",
      "            histo, w_histo, edges = Histogramnd(activeImage[0].flatten(), \n",
      "                                              n_bins=256, \n",
      "                                              histo_range=[0,256])\n",
      "                \n",
      "            self.plotHistogram.addCurve(range(256), \n",
      "                                        histo, \n",
      "                                        legend='pixel intensity')\n",
      "            self.plotHistogram.show()"
     ],
     "language": "python",
     "metadata": {},
     "outputs": [],
     "prompt_number": null
    },
    {
     "cell_type": "heading",
     "level": 2,
     "metadata": {},
     "source": [
      "Add this action into the toolBar of the window"
     ]
    },
    {
     "cell_type": "code",
     "collapsed": false,
     "input": [
      "plotHisto.clear()\n",
      "myaction=ComputeHistogramAction(plotImage)\n",
      "toolBar=plotImage.toolBar()\n",
      "toolBar.addAction(myaction)\n",
      "plotImage.show()"
     ],
     "language": "python",
     "metadata": {},
     "outputs": [],
     "prompt_number": null
    },
    {
     "cell_type": "markdown",
     "metadata": {},
     "source": [
      "# show automatically the histogram when the image change\n",
      "\n",
      "- using plotImage.sigActiveImageChanged.connect(plotHisto)"
     ]
    },
    {
     "cell_type": "code",
     "collapsed": false,
     "input": [
      "from silx.math.histogram import Histogramnd \n",
      "\n",
      "def computeIntensityDistribution():\n",
      "        \"\"\"Get the active image and compute the image \n",
      "        intensity distribution\"\"\"\n",
      "        # By inheriting from PlotAction, we get access to attribute \n",
      "        # self.plot\n",
      "        # which is a reference to the PlotWindow\n",
      "        activeImage = plotImage.getActiveImage()\n",
      "\n",
      "        if activeImage is not None:\n",
      "            histo, w_histo, edges = Histogramnd(activeImage[0].flatten(), \n",
      "                                                n_bins=256, \n",
      "                                                histo_range=[0,256])\n",
      "            \n",
      "            from silx.gui.plot import Plot1D\n",
      "            plotHistogram = Plot1D()\n",
      "            plotHistogram.addCurve(range(256), \n",
      "                                   histo, \n",
      "                                   legend='pixel intensity')\n",
      "            plotHistogram.show()"
     ],
     "language": "python",
     "metadata": {},
     "outputs": [],
     "prompt_number": null
    },
    {
     "cell_type": "code",
     "collapsed": false,
     "input": [
      "plotImage=Plot2D()\n",
      "plotImage.sigActiveImageChanged.connect(computeIntensityDistribution)\n",
      "plotImage.addImage(image, origin=(0, 0), legend='lena') "
     ],
     "language": "python",
     "metadata": {},
     "outputs": [],
     "prompt_number": null
    },
    {
     "cell_type": "code",
     "collapsed": true,
     "input": [
      "from silx.gui.plot.actions import PlotAction \n",
      "from silx.math.histogram import Histogramnd\n",
      "from silx.gui.plot import Plot1D\n",
      "\n",
      "class ComputeHistogramAction(PlotAction):\n",
      "    \"\"\"Computes the intensity distribution on the current image\n",
      "\n",
      "    :param plot: :class:`.PlotWidget` instance on which to operate\n",
      "    :param parent: See :class:`QAction`\n",
      "    \"\"\"\n",
      "    def __init__(self, plot, parent=None):\n",
      "        PlotAction.__init__(self,\n",
      "                            plot,\n",
      "                            icon='shape-circle',\n",
      "                            text='pixels intensity',\n",
      "                            tooltip='Compute image intensity distribution',\n",
      "                            triggered=self.computeIntensityDistribution,\n",
      "                            checkable=True,\n",
      "                            parent=parent)\n",
      "        self.plotHistogram=Plot1D()\n",
      "        self.plot.sigActiveImageChanged.connect(self.update)\n",
      "        \n",
      "    def update(self):\n",
      "        # By inheriting from PlotAction, we get access to attribute \n",
      "        # self.plot\n",
      "        # which is a reference to the PlotWindow\n",
      "        activeImage = self.plot.getActiveImage()\n",
      "\n",
      "        if activeImage is not None:\n",
      "            \n",
      "            histo, w_histo, edges = Histogramnd(activeImage[0].flatten(), \n",
      "                                                          n_bins=256, \n",
      "                                                          histo_range=[0,256])\n",
      "            \n",
      "            self.plotHistogram.addCurve(range(256), \n",
      "                                        histo, \n",
      "                                        legend='pixel intensity')\n",
      "            \n",
      "    def computeIntensityDistribution(self):\n",
      "        \"\"\"Get the active image and compute the image intensity distribution\"\"\"\n",
      "        if self.isChecked():\n",
      "            self.update()\n",
      "            self.plotHistogram.show()\n",
      "        else:\n",
      "            self.plotHistogram.hide()"
     ],
     "language": "python",
     "metadata": {},
     "outputs": [],
     "prompt_number": null
    },
    {
     "cell_type": "code",
     "collapsed": false,
     "input": [
      "plotImage=Plot2D()\n",
      "myaction=ComputeHistogramAction(plotImage)\n",
      "toolBar=plotImage.toolBar()\n",
      "toolBar.addAction(myaction)\n",
      "plotImage.addImage(image, origin=(0, 0), legend='ascent')  \n",
      "plotImage.show()"
     ],
     "language": "python",
     "metadata": {},
     "outputs": [],
     "prompt_number": null
    },
    {
     "cell_type": "code",
     "collapsed": false,
     "input": [
      "plotImage.addImage(image/2.0, origin=(0, 0), legend='ascent')  "
     ],
     "language": "python",
     "metadata": {},
     "outputs": [],
     "prompt_number": null
    },
    {
     "cell_type": "markdown",
     "metadata": {},
     "source": [
      "Note : This feature has been added into silx as the 'intensityHistoAction'\n",
      "    \n",
      "Some code to access it :"
     ]
    },
    {
     "cell_type": "code",
     "collapsed": false,
     "input": [
      "import scipy.misc\n",
      "image=scipy.misc.ascent()\n",
      "\n",
      "plotImage=Plot2D()\n",
      "plotImage.addImage(image, scale=(1, 1))\n",
      "plotImage.getIntensityHistogramAction().setVisible(True)\n",
      "plotImage.show()"
     ],
     "language": "python",
     "metadata": {},
     "outputs": [],
     "prompt_number": null
    },
    {
     "cell_type": "heading",
     "level": 1,
     "metadata": {},
     "source": [
      "For information : the class diagram of the Plot module"
     ]
    },
    {
     "cell_type": "markdown",
     "metadata": {},
     "source": [
      "![plot class diagram](../img/plotGraph.png)"
     ]
    },
    {
     "cell_type": "code",
     "collapsed": true,
     "input": [],
     "language": "python",
     "metadata": {},
     "outputs": [],
     "prompt_number": null
    }
   ],
   "metadata": {}
  }
 ]
}
