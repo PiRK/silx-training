{
 "cells": [
  {
   "cell_type": "markdown",
   "metadata": {},
   "source": [
    "# One curve\n",
    "## plot a simple curve and play with it\n",
    "- $x=[0, pi]$\n",
    "\n",
    "- $y=e^x$\n",
    "\n",
    "- see documentation: \n",
    "    - http://www.silx.org/doc/silx/dev/modules/gui/plot/plotwindow.html#silx.gui.plot.PlotWindow.Plot1D\n",
    "\n",
    "- see tutorial: \n",
    "    - http://www.silx.org/doc/silx/dev/modules/gui/plot/getting_started.html\n",
    "    \n",
    "![larger-iso-surface-using-silx-plot3d](img/plot_exp.png)\n",
    "\n",
    "play with the interface:\n",
    "    - log scale\n",
    "    - grid\n",
    "    - display points\n",
    "    - ..."
   ]
  },
  {
   "cell_type": "code",
   "execution_count": null,
   "metadata": {
    "collapsed": false
   },
   "outputs": [],
   "source": [
    "%gui qt\n",
    "import numpy\n",
    "from silx.gui.plot import Plot1D"
   ]
  },
  {
   "cell_type": "code",
   "execution_count": null,
   "metadata": {
    "collapsed": false
   },
   "outputs": [],
   "source": [
    "x=numpy.linspace(0, numpy.pi, 1000)\n",
    "y=numpy.exp(x)"
   ]
  },
  {
   "cell_type": "code",
   "execution_count": null,
   "metadata": {
    "collapsed": false
   },
   "outputs": [],
   "source": [
    "p=Plot1D()\n",
    "p.addCurve(x, y, legend='exp')\n",
    "p.show()"
   ]
  },
  {
   "cell_type": "markdown",
   "metadata": {},
   "source": [
    "## Shift the curve\n",
    "get back the curve and add an offset in y axis\n",
    "\n",
    "- $y=y+100.0$\n",
    "- get all needed data from the 'Plot1D' object\n",
    "\n",
    "![shift exponential](img/plot1D_shiftCurveExp.png)"
   ]
  },
  {
   "cell_type": "code",
   "execution_count": null,
   "metadata": {
    "collapsed": false
   },
   "outputs": [],
   "source": [
    "x, y, legend, info, _params=p.getCurve('exp')\n",
    "y=y+100\n",
    "p.show()\n",
    "p.addCurve(x, y, color='yellow', legend='exp')\n",
    "p.show()"
   ]
  },
  {
   "cell_type": "markdown",
   "metadata": {},
   "source": [
    "# Many curves"
   ]
  },
  {
   "cell_type": "markdown",
   "metadata": {},
   "source": [
    "## plot the following functionin the same plot window\n",
    "- $y=sin(x)$\n",
    "\n",
    "- $y=cos(x)$\n",
    "\n",
    "- $y=x $\n",
    "\n",
    "- play with the curve selection from options->legend\n",
    "\n",
    "![plot_legends](img/plot_curves_legend.png)"
   ]
  },
  {
   "cell_type": "code",
   "execution_count": null,
   "metadata": {
    "collapsed": false
   },
   "outputs": [],
   "source": [
    "y_sin = numpy.sin(x)\n",
    "y_cos = numpy.cos(x)\n",
    "p.clear()\n",
    "p.addCurve(x, y_sin, color='green', legend='sin')\n",
    "p.addCurve(x, y_cos, color='red', legend='cos', linestyle=' ', symbol='o')\n",
    "p.addCurve(x, x, color='blue', legend='x', linestyle='-', symbol='s')\n",
    "p.show()"
   ]
  },
  {
   "cell_type": "markdown",
   "metadata": {},
   "source": [
    "## remove one curve by the id\n",
    "\n",
    "- using the 'Plot1D' object"
   ]
  },
  {
   "cell_type": "code",
   "execution_count": null,
   "metadata": {
    "collapsed": true
   },
   "outputs": [],
   "source": [
    "p.remove('x')\n",
    "p.show()"
   ]
  },
  {
   "cell_type": "markdown",
   "metadata": {},
   "source": [
    "## shift curves by 30 in the x axis \n",
    "- by using the functions of the 'Plot1D' object\n",
    "- keep at least the color of the curve\n",
    "- Result should be close to\n",
    "\n",
    "![plot1D_shiftcurves](img/plot1D_shiftCurves.png)"
   ]
  },
  {
   "cell_type": "code",
   "execution_count": null,
   "metadata": {
    "collapsed": false
   },
   "outputs": [],
   "source": [
    "curves=p.getAllCurves()\n",
    "p.clear()\n",
    "for curve in curves:\n",
    "    x, y, legend, info, params=curve\n",
    "    x=x+10.0\n",
    "    p.addCurve(x, y, legend=legend, color=params['color'] )\n",
    "    \n",
    "p.show()"
   ]
  },
  {
   "cell_type": "markdown",
   "metadata": {},
   "source": [
    "# ROI\n"
   ]
  },
  {
   "cell_type": "markdown",
   "metadata": {},
   "source": [
    "## load data from data/spectrum.dat"
   ]
  },
  {
   "cell_type": "code",
   "execution_count": null,
   "metadata": {
    "collapsed": false
   },
   "outputs": [],
   "source": [
    "import silx.io\n",
    "sf = silx.io.open(\"data/spectrum.dat\")\n",
    "x_data=sf['1.1/measurement/channel']\n",
    "y_data=sf['1.1/measurement/counts']"
   ]
  },
  {
   "cell_type": "markdown",
   "metadata": {},
   "source": [
    "## Plot the data"
   ]
  },
  {
   "cell_type": "code",
   "execution_count": null,
   "metadata": {
    "collapsed": false
   },
   "outputs": [],
   "source": [
    "plot=Plot1D()\n",
    "x=numpy.linspace(0.0, numpy.pi)\n",
    "y=numpy.sin(x)\n",
    "plot.addCurve(x_data, y_data)\n",
    "plot.setYAxisLogarithmic(True)\n",
    "plot.show()"
   ]
  },
  {
   "cell_type": "markdown",
   "metadata": {},
   "source": [
    "options -> ROI -> add ROI -> select min and max limits.\n",
    "estimate integral between lower and upper limits\n",
    "    - Raw counts\n",
    "![raw_counts](img/plot_ROI_raw_counts.png)\n",
    "    - Net counts\n",
    "![raw_counts](img/plot_ROI_net_counts.png)"
   ]
  },
  {
   "cell_type": "code",
   "execution_count": null,
   "metadata": {
    "collapsed": true
   },
   "outputs": [],
   "source": []
  }
 ],
 "metadata": {
  "kernelspec": {
   "display_name": "Python 3",
   "language": "python",
   "name": "python3"
  },
  "language_info": {
   "codemirror_mode": {
    "name": "ipython",
    "version": 3
   },
   "file_extension": ".py",
   "mimetype": "text/x-python",
   "name": "python",
   "nbconvert_exporter": "python",
   "pygments_lexer": "ipython3",
   "version": "3.5.2"
  }
 },
 "nbformat": 4,
 "nbformat_minor": 1
}
