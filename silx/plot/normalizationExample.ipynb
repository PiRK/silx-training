{
 "cells": [
  {
   "cell_type": "code",
   "execution_count": 2,
   "metadata": {
    "collapsed": true
   },
   "outputs": [],
   "source": [
    "%gui qt"
   ]
  },
  {
   "cell_type": "markdown",
   "metadata": {},
   "source": [
    "Same exercise as ... but with interaction"
   ]
  },
  {
   "cell_type": "markdown",
   "metadata": {},
   "source": [
    "# Create two functions\n",
    "\n",
    "- one to select the background\n",
    "- one to select the flatfield\n",
    "\n",
    "To do this use the ImageFileDialog class\n",
    "\n",
    "- see doc: http://www.silx.org/doc/silx/latest/modules/gui/dialog/imagefiledialog.html\n",
    "- related example: examples/fileDialog.py"
   ]
  },
  {
   "cell_type": "code",
   "execution_count": 20,
   "metadata": {
    "collapsed": true
   },
   "outputs": [],
   "source": [
    "from silx.gui.dialog.ImageFileDialog import ImageFileDialog"
   ]
  },
  {
   "cell_type": "code",
   "execution_count": 34,
   "metadata": {
    "collapsed": false
   },
   "outputs": [],
   "source": [
    "import os\n",
    "def getImage():\n",
    "    dialog = ImageFileDialog()\n",
    "    dir_ = 'data'\n",
    "    assert os.path.isdir(dir_)\n",
    "    dialog.setDirectory(dir_)\n",
    "    if not dialog.exec_():\n",
    "        return None\n",
    "    else:\n",
    "        return dialog.selectedImage()"
   ]
  },
  {
   "cell_type": "code",
   "execution_count": 35,
   "metadata": {
    "collapsed": true
   },
   "outputs": [],
   "source": [
    "def getFlatfield():\n",
    "    return getImage()"
   ]
  },
  {
   "cell_type": "code",
   "execution_count": 36,
   "metadata": {
    "collapsed": true
   },
   "outputs": [],
   "source": [
    "def getBackground():\n",
    "    return getImage()"
   ]
  },
  {
   "cell_type": "markdown",
   "metadata": {},
   "source": [
    "# Create a function to correct an image from flatfield and background\n",
    "\n",
    "take as input an image, background and flatfield. Return the normalized image"
   ]
  },
  {
   "cell_type": "code",
   "execution_count": 37,
   "metadata": {
    "collapsed": true
   },
   "outputs": [],
   "source": [
    "def normalized(image, flatfield, background):\n",
    "    return (image - background) / (flatfield - background)"
   ]
  },
  {
   "cell_type": "markdown",
   "metadata": {},
   "source": [
    "# Select an image and display it raw and normalized"
   ]
  },
  {
   "cell_type": "code",
   "execution_count": 38,
   "metadata": {
    "collapsed": true
   },
   "outputs": [],
   "source": [
    "from silx.gui.plot import Plot2D\n",
    "def showRawAndCorrected(raw, corrected):\n",
    "    plot = Plot2D()\n",
    "    plot.addImage(image=raw, replace=False, legend='raw')\n",
    "    plot.addImage(image=corrected, replace=False,\n",
    "                  legend='corrected', offset=(0, raw.shape[0]))\n",
    "    plot.show()"
   ]
  },
  {
   "cell_type": "code",
   "execution_count": 39,
   "metadata": {
    "collapsed": false
   },
   "outputs": [],
   "source": [
    "image = getImage()\n",
    "background = getBackground()\n",
    "flatfield = getFlatfield()\n",
    "if image and background and flatfield:\n",
    "    corrected = normalized(image,\n",
    "                           flatfield=flatfield,\n",
    "                           background=background)\n",
    "    showRawAndCorrected(raw=image, corrected=corrected)"
   ]
  },
  {
   "cell_type": "markdown",
   "metadata": {},
   "source": [
    "# Add an action to apply the correction on a stack of image"
   ]
  },
  {
   "cell_type": "markdown",
   "metadata": {},
   "source": [
    "Here is the sample code to plot the stack of image"
   ]
  },
  {
   "cell_type": "code",
   "execution_count": 52,
   "metadata": {
    "collapsed": false
   },
   "outputs": [],
   "source": [
    "from silx.gui.plot.StackView import StackViewMainWindow\n",
    "import numpy\n",
    "# TODO: load data\n",
    "# synthetic data, stack of 100 images of size 200x300\n",
    "mystack = numpy.fromfunction(\n",
    "    lambda i, j, k: numpy.sin(i/15.) + numpy.cos(j/4.) + 2 * numpy.sin(k/6.),\n",
    "    (100, 200, 300)\n",
    ")\n",
    "\n",
    "\n",
    "sv = StackViewMainWindow()\n",
    "sv.setStack(mystack)"
   ]
  },
  {
   "cell_type": "markdown",
   "metadata": {},
   "source": [
    "Here is a function to apply the corection on the stack"
   ]
  },
  {
   "cell_type": "code",
   "execution_count": 63,
   "metadata": {
    "collapsed": true
   },
   "outputs": [],
   "source": [
    "def applyCorrection(images, flatfield, background):\n",
    "    for image in images:\n",
    "        image = normalized(images, flatfield=flatfield, background=background)"
   ]
  },
  {
   "cell_type": "markdown",
   "metadata": {},
   "source": [
    "To define an action:\n",
    "    - heritate from PlotAction\n",
    "    - redefine the triggered function\n",
    "    - See the tutorial on how to add an action see: http://www.silx.org/doc/silx/dev/modules/gui/plot/actions/examples.html\n",
    "    - you can also use the PlotAction tutorial.ipynb"
   ]
  },
  {
   "cell_type": "code",
   "execution_count": 68,
   "metadata": {
    "collapsed": false
   },
   "outputs": [],
   "source": [
    "from silx.gui.plot.actions import PlotAction \n",
    "class CorrectImageAction(PlotAction):\n",
    "    \"\"\"QAction applying the correction algorithm\n",
    "\n",
    "    :param plot: :class:`.PlotWidget` instance on which to operate\n",
    "    :param parent: See :class:`QAction`\n",
    "    \"\"\"\n",
    "    def __init__(self, plot, sv, parent=None):\n",
    "        PlotAction.__init__(self,\n",
    "                            plot,\n",
    "                            icon='shape-circle',\n",
    "                            text='process correction',\n",
    "                            tooltip='apply the correction algorithm',\n",
    "                            triggered=self.applyAction,\n",
    "                            parent=parent)\n",
    "\n",
    "    def applyAction(self):\n",
    "        flatfield = getFlatfield('flat field')\n",
    "        background = getBackground('background')\n",
    "        applyCorrection(sv.getStack(),\n",
    "                        flatfield=flatfield,\n",
    "                        background=background)"
   ]
  },
  {
   "cell_type": "code",
   "execution_count": 69,
   "metadata": {
    "collapsed": false
   },
   "outputs": [
    {
     "ename": "TypeError",
     "evalue": "'method' object is not connected",
     "output_type": "error",
     "traceback": [
      "\u001b[0;31m---------------------------------------------------------------------------\u001b[0m",
      "\u001b[0;31mTypeError\u001b[0m                                 Traceback (most recent call last)",
      "\u001b[0;32m/usr/local/lib/python3.5/site-packages/silx/gui/plot/ColorBar.py\u001b[0m in \u001b[0;36mhideEvent\u001b[0;34m(self, event)\u001b[0m\n\u001b[1;32m    140\u001b[0m \u001b[0;34m\u001b[0m\u001b[0m\n\u001b[1;32m    141\u001b[0m     \u001b[0;32mdef\u001b[0m \u001b[0mhideEvent\u001b[0m\u001b[0;34m(\u001b[0m\u001b[0mself\u001b[0m\u001b[0;34m,\u001b[0m \u001b[0mevent\u001b[0m\u001b[0;34m)\u001b[0m\u001b[0;34m:\u001b[0m\u001b[0;34m\u001b[0m\u001b[0m\n\u001b[0;32m--> 142\u001b[0;31m         \u001b[0mself\u001b[0m\u001b[0;34m.\u001b[0m\u001b[0m_disconnectPlot\u001b[0m\u001b[0;34m(\u001b[0m\u001b[0;34m)\u001b[0m\u001b[0;34m\u001b[0m\u001b[0m\n\u001b[0m\u001b[1;32m    143\u001b[0m \u001b[0;34m\u001b[0m\u001b[0m\n\u001b[1;32m    144\u001b[0m     \u001b[0;32mdef\u001b[0m \u001b[0mgetColormap\u001b[0m\u001b[0;34m(\u001b[0m\u001b[0mself\u001b[0m\u001b[0;34m)\u001b[0m\u001b[0;34m:\u001b[0m\u001b[0;34m\u001b[0m\u001b[0m\n",
      "\u001b[0;32m/usr/local/lib/python3.5/site-packages/silx/gui/plot/ColorBar.py\u001b[0m in \u001b[0;36m_disconnectPlot\u001b[0;34m(self)\u001b[0m\n\u001b[1;32m    114\u001b[0m             \u001b[0mself\u001b[0m\u001b[0;34m.\u001b[0m\u001b[0m_isConnected\u001b[0m \u001b[0;34m=\u001b[0m \u001b[0;32mFalse\u001b[0m\u001b[0;34m\u001b[0m\u001b[0m\n\u001b[1;32m    115\u001b[0m             self._plot.sigActiveImageChanged.disconnect(\n\u001b[0;32m--> 116\u001b[0;31m                 self._activeImageChanged)\n\u001b[0m\u001b[1;32m    117\u001b[0m             \u001b[0mself\u001b[0m\u001b[0;34m.\u001b[0m\u001b[0m_plot\u001b[0m\u001b[0;34m.\u001b[0m\u001b[0msigPlotSignal\u001b[0m\u001b[0;34m.\u001b[0m\u001b[0mdisconnect\u001b[0m\u001b[0;34m(\u001b[0m\u001b[0mself\u001b[0m\u001b[0;34m.\u001b[0m\u001b[0m_defaultColormapChanged\u001b[0m\u001b[0;34m)\u001b[0m\u001b[0;34m\u001b[0m\u001b[0m\n\u001b[1;32m    118\u001b[0m \u001b[0;34m\u001b[0m\u001b[0m\n",
      "\u001b[0;31mTypeError\u001b[0m: 'method' object is not connected"
     ]
    }
   ],
   "source": [
    "sv = StackViewMainWindow()\n",
    "sv.setStack(mystack)\n",
    "\n",
    "toolBar = sv.getPlot().toolBar()\n",
    "myaction = CorrectImageAction(sv.getPlot(), sv)\n",
    "toolBar.addAction(myaction)\n",
    "sv.show()"
   ]
  },
  {
   "cell_type": "code",
   "execution_count": null,
   "metadata": {
    "collapsed": true
   },
   "outputs": [],
   "source": []
  }
 ],
 "metadata": {
  "kernelspec": {
   "display_name": "Python 3",
   "language": "python",
   "name": "python3"
  },
  "language_info": {
   "codemirror_mode": {
    "name": "ipython",
    "version": 3
   },
   "file_extension": ".py",
   "mimetype": "text/x-python",
   "name": "python",
   "nbconvert_exporter": "python",
   "pygments_lexer": "ipython3",
   "version": "3.5.2"
  }
 },
 "nbformat": 4,
 "nbformat_minor": 1
}
