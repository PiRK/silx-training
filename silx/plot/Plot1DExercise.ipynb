{
 "cells": [
  {
   "cell_type": "markdown",
   "metadata": {},
   "source": [
    "# One curve\n",
    "## plot a simple curve and play with it\n",
    "\n",
    "- $x=[0, pi]$\n",
    "\n",
    "- $y=e^x$\n",
    "\n",
    "- see documentation: http://www.silx.org/doc/silx/dev/modules/gui/plot/plotwindow.html#silx.gui.plot.PlotWindow.Plot1D\n",
    "\n",
    "- see tutorial: http://www.silx.org/doc/silx/dev/modules/gui/plot/getting_started.html\n",
    "\n",
    "- use Plot1D and Plot1D.addCurve\n",
    "    - legend is used as the ID of the curve. So if a new curve is setted with an existing id it will erase the first curve\n",
    "\n",
    "![larger-iso-surface-using-silx-plot3d](img/plot_exp.png)\n",
    "\n",
    "play with the interface:\n",
    "- log scale\n",
    "- grid\n",
    "- display points\n",
    "- ..."
   ]
  },
  {
   "cell_type": "code",
   "execution_count": null,
   "metadata": {
    "collapsed": false
   },
   "outputs": [],
   "source": [
    "import numpy\n",
    "x=numpy.linspace(0, numpy.pi, 1000)\n",
    "y=numpy.exp(x)"
   ]
  },
  {
   "cell_type": "code",
   "execution_count": null,
   "metadata": {
    "collapsed": false
   },
   "outputs": [],
   "source": [
    "..."
   ]
  },
  {
   "cell_type": "markdown",
   "metadata": {},
   "source": [
    "\\clearpage\n",
    "\n",
    "## Shift the curve\n",
    "get back the curve and add an offset in y axis\n",
    "\n",
    "- $y=y+100.0$\n",
    "- get all needed data from the 'Plot1D' object\n",
    "- use getCurve([curveID]) function. Return : \n",
    "    - x\n",
    "    - y\n",
    "    - legend\n",
    "    - info (if some informations has been added)\n",
    "    - params (color, linewidth...)\n",
    "\n",
    "![shift exponential](img/plot1D_shiftCurveExp.png)"
   ]
  },
  {
   "cell_type": "code",
   "execution_count": null,
   "metadata": {
    "collapsed": false
   },
   "outputs": [],
   "source": [
    "..."
   ]
  },
  {
   "cell_type": "markdown",
   "metadata": {},
   "source": [
    "# Many curves"
   ]
  },
  {
   "cell_type": "markdown",
   "metadata": {},
   "source": [
    "## plot the following functionin the same plot window\n",
    "- $y=sin(x)$\n",
    "\n",
    "- $y=cos(x)$\n",
    "\n",
    "- $y=x $\n",
    "\n",
    "- play with the curve selection from options->legend\n",
    "\n",
    "![plot_legends](img/plot_curves_legend.png)"
   ]
  },
  {
   "cell_type": "code",
   "execution_count": null,
   "metadata": {
    "collapsed": false
   },
   "outputs": [],
   "source": [
    "..."
   ]
  },
  {
   "cell_type": "markdown",
   "metadata": {},
   "source": [
    "## remove one curve by the id\n",
    "\n",
    "- using the 'Plot1D' function 'remove([curveID])'"
   ]
  },
  {
   "cell_type": "code",
   "execution_count": null,
   "metadata": {
    "collapsed": true
   },
   "outputs": [],
   "source": [
    "..."
   ]
  },
  {
   "cell_type": "markdown",
   "metadata": {},
   "source": [
    "## shift curves by 30 in the x axis \n",
    "- by using the functions of the 'Plot1D' object\n",
    "    - getAllCurves\n",
    "    - addCurve\n",
    "- keep at least the color of the curve\n",
    "- Result should be close to\n",
    "\n",
    "![plot1D_shiftcurves](img/plot1D_shiftCurves.png)"
   ]
  },
  {
   "cell_type": "code",
   "execution_count": null,
   "metadata": {
    "collapsed": false
   },
   "outputs": [],
   "source": [
    "..."
   ]
  },
  {
   "cell_type": "markdown",
   "metadata": {},
   "source": [
    "# ROI\n"
   ]
  },
  {
   "cell_type": "markdown",
   "metadata": {},
   "source": [
    "## load data from data/spectrum.dat"
   ]
  },
  {
   "cell_type": "code",
   "execution_count": null,
   "metadata": {
    "collapsed": false
   },
   "outputs": [],
   "source": [
    "from silx.io import spech5\n",
    "sf = spech5.SpecH5(\"data/spectrum.dat\")\n",
    "#print(specfile['1.1/measurement/'].keys())\n",
    "x_data=sf['1.1/measurement/channel']\n",
    "y_data=sf['1.1/measurement/counts']"
   ]
  },
  {
   "cell_type": "markdown",
   "metadata": {},
   "source": [
    "## Plot the data"
   ]
  },
  {
   "cell_type": "code",
   "execution_count": null,
   "metadata": {
    "collapsed": false
   },
   "outputs": [],
   "source": [
    "plot=Plot1D()\n",
    "x=numpy.linspace(0.0, numpy.pi)\n",
    "y=numpy.sin(x)\n",
    "plot.addCurve(x_data, y_data)\n",
    "plot.setYAxisLogarithmic(True)\n",
    "plot.show()"
   ]
  },
  {
   "cell_type": "markdown",
   "metadata": {},
   "source": [
    "options -> ROI -> add ROI -> select min and max limits.\n",
    "estimate integral between lower and upper limits\n",
    "    - Raw counts\n",
    "![raw_counts](img/plot_ROI_raw_counts.png)\n",
    "    - Net counts\n",
    "![raw_counts](img/plot_ROI_net_counts.png)"
   ]
  },
  {
   "cell_type": "code",
   "execution_count": null,
   "metadata": {
    "collapsed": true
   },
   "outputs": [],
   "source": []
  }
 ],
 "metadata": {
  "kernelspec": {
   "display_name": "Python 3",
   "language": "python",
   "name": "python3"
  },
  "language_info": {
   "codemirror_mode": {
    "name": "ipython",
    "version": 3
   },
   "file_extension": ".py",
   "mimetype": "text/x-python",
   "name": "python",
   "nbconvert_exporter": "python",
   "pygments_lexer": "ipython3",
   "version": "3.5.2"
  }
 },
 "nbformat": 4,
 "nbformat_minor": 1
}
