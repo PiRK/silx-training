{
 "cells": [
  {
   "cell_type": "code",
   "execution_count": null,
   "metadata": {
    "collapsed": true
   },
   "outputs": [],
   "source": [
    "%gui qt"
   ]
  },
  {
   "cell_type": "markdown",
   "metadata": {},
   "source": [
    "Required knowledges\n",
    "===================\n",
    "\n",
    "* ``numpy`` (basic knowledge)\n",
    "* ``Qt`` (basic knowledge)\n",
    "* ``h5py`` (optionally)\n",
    "\n",
    "Useful silx resources\n",
    "=====================\n",
    "\n",
    "* Getting start with the Hdf5 ([http://pythonhosted.org/silx/modules/gui/hdf5/getting_started.html](http://pythonhosted.org/silx/modules/gui/hdf5/getting_started.html))\n",
    "\n",
    "Exercises summary\n",
    "=================\n",
    "\n",
    "1. Features provided by Hdf5TreeView\n",
    "      * Learn how to create an ``Hdf5TreeView``\n",
    "2. Create a HDF5 viewer\n",
    "      * Learn how to use a dataset displayed by the tree\n",
    "3. Create a tool to aggregate dataset and to create a diffraction mask\n",
    "      * Use multi-selection node of the tree\n",
    "      * Use features of the mask\n",
    "4. Create a phase contrast viewer\n",
    "      * Learn how to add context menu to the tree nodes\n"
   ]
  },
  {
   "cell_type": "markdown",
   "metadata": {},
   "source": [
    "How to do the exercises?\n",
    "=================\n",
    "\n",
    "All the exercies are available as script and from this notebook.\n",
    "\n",
    "- As scripts, exercies are available from ``./exercices`` and each example is self contained into a single file.\n",
    "- As notebook, the example is symplified to only display missing part of the code.\n",
    "- You also can copy-paste the example from the file to the notebook using the ``%load`` macro."
   ]
  },
  {
   "cell_type": "markdown",
   "metadata": {},
   "source": [
    "Features provided by Hdf5TreeView\n",
    "================================="
   ]
  },
  {
   "cell_type": "markdown",
   "metadata": {},
   "source": [
    "![HDF5 Tree](images/display.png)"
   ]
  },
  {
   "cell_type": "markdown",
   "metadata": {
    "collapsed": false,
    "scrolled": true
   },
   "source": [
    "```python\n",
    "from silx.gui import qt\n",
    "from silx.gui import hdf5\n",
    "app = qt.QApplication([])\n",
    "tree = hdf5.Hdf5TreeView()\n",
    "tree.setVisible(True)\n",
    "app.exec_()\n",
    "```"
   ]
  },
  {
   "cell_type": "markdown",
   "metadata": {
    "collapsed": false
   },
   "source": [
    "Exercise 0\n",
    "----------\n",
    "\n",
    "> 1. Execute this script\n",
    "> 2. Drag and drop an HDF5 file and play with it"
   ]
  },
  {
   "cell_type": "markdown",
   "metadata": {},
   "source": [
    "Exercise 1\n",
    "----------\n",
    "\n",
    "> You can use `exercise/ex1_display.py` as skeleton\n",
    ">\n",
    "> 1. Create an application to load HDF5 file provided on the command line\n",
    ">       * Use [getting started with HDF5 widgets](http://pythonhosted.org/silx/modules/gui/hdf5/getting_started.html)"
   ]
  },
  {
   "cell_type": "code",
   "execution_count": null,
   "metadata": {
    "collapsed": false
   },
   "outputs": [],
   "source": [
    "from silx.gui import qt\n",
    "from silx.gui import hdf5\n",
    "\n",
    "def main(filenames):\n",
    "    tree = hdf5.Hdf5TreeView()\n",
    "    model = tree.findHdf5TreeModel()\n",
    "    for filename in filenames:\n",
    "        #\n",
    "        # TODO: Load each filename into the model tree\n",
    "        #\n",
    "        print(\"Load %s\" % filename)\n",
    "    tree.setVisible(True)"
   ]
  },
  {
   "cell_type": "code",
   "execution_count": null,
   "metadata": {
    "collapsed": false
   },
   "outputs": [],
   "source": [
    "main(['data/nexus-20110325.h5'])"
   ]
  },
  {
   "cell_type": "markdown",
   "metadata": {},
   "source": [
    "Solution\n",
    "--------"
   ]
  },
  {
   "cell_type": "code",
   "execution_count": null,
   "metadata": {
    "collapsed": false
   },
   "outputs": [],
   "source": [
    "!./solution/ex1_display.py data/nexus-20110325.h5"
   ]
  },
  {
   "cell_type": "markdown",
   "metadata": {},
   "source": [
    "Create an HDF5 viewer\n",
    "====================="
   ]
  },
  {
   "cell_type": "markdown",
   "metadata": {},
   "source": [
    "This exercise you how to use the `Hdf5TreeView` to browse and display datasets.\n",
    "We provide a `DataViewer` widget to help you to display the data."
   ]
  },
  {
   "cell_type": "markdown",
   "metadata": {},
   "source": [
    "![HDF5 viewer](images/viewer.png)"
   ]
  },
  {
   "cell_type": "markdown",
   "metadata": {},
   "source": [
    "DataViewer class\n",
    "----------------\n",
    "\n",
    "We provide a `DataViewer` widget, to display data using `Silx` plots."
   ]
  },
  {
   "cell_type": "markdown",
   "metadata": {},
   "source": [
    "Here is an example of use."
   ]
  },
  {
   "cell_type": "code",
   "execution_count": null,
   "metadata": {
    "collapsed": false
   },
   "outputs": [],
   "source": [
    "from exercises.ex2_viewer import DataViewer\n",
    "viewer = DataViewer()\n",
    "viewer.setVisible(True)\n",
    "\n",
    "import numpy"
   ]
  },
  {
   "cell_type": "code",
   "execution_count": null,
   "metadata": {
    "collapsed": false
   },
   "outputs": [],
   "source": [
    "# To display an image\n",
    "viewer.show(numpy.random.rand(100, 100))"
   ]
  },
  {
   "cell_type": "code",
   "execution_count": null,
   "metadata": {
    "collapsed": true
   },
   "outputs": [],
   "source": [
    "# or a curve\n",
    "viewer.show(numpy.random.rand(100))"
   ]
  },
  {
   "cell_type": "code",
   "execution_count": null,
   "metadata": {
    "collapsed": false
   },
   "outputs": [],
   "source": [
    "# or a value\n",
    "viewer.show(numpy.random.rand(1)[0])"
   ]
  },
  {
   "cell_type": "markdown",
   "metadata": {},
   "source": [
    "Viewer class\n",
    "------------\n",
    "\n",
    "We also provide a `Viewer` class. This class display together an `Hdf5TreeView` and a `DataViewer`."
   ]
  },
  {
   "cell_type": "code",
   "execution_count": null,
   "metadata": {
    "collapsed": true
   },
   "outputs": [],
   "source": [
    "window = qt.QSplitter()\n",
    "tree = hdf5.Hdf5TreeView(window)\n",
    "viewer = DataViewer(window)\n",
    "window.addWidget(tree)\n",
    "window.addWidget(viewer)\n",
    "window.setStretchFactor(1, 1)\n",
    "window.setVisible(True)"
   ]
  },
  {
   "cell_type": "markdown",
   "metadata": {},
   "source": [
    "Exercise 2\n",
    "----------\n",
    "\n",
    "> You can use `exercises/ex2_viewer.py` as skeleton\n",
    ">\n",
    "> 1. Connect the tree to the viewer together\n",
    ">       * Use [getting started with HDF5 widgets](http://pythonhosted.org/silx/modules/gui/hdf5/getting_started.html)"
   ]
  },
  {
   "cell_type": "code",
   "execution_count": null,
   "metadata": {
    "collapsed": false
   },
   "outputs": [],
   "source": [
    "import exercises.ex2_viewer\n",
    "\n",
    "class WorkingViewer(exercises.ex2_viewer.Viewer):\n",
    "    \n",
    "    def __init__(self, parent=None):\n",
    "        exercises.ex2_viewer.Viewer.__init__(self, parent)\n",
    "\n",
    "        #\n",
    "        # TODO: Connect onTreeActivated the tree event\n",
    "        #\n",
    "\n",
    "    def onTreeActivated(self):\n",
    "\n",
    "        #\n",
    "        # TODO: Reach selected objects from the tree\n",
    "        #\n",
    "\n",
    "        #\n",
    "        # TODO: If it is a dataset, show it in the dataViewer\n",
    "        #\n",
    "        pass"
   ]
  },
  {
   "cell_type": "code",
   "execution_count": null,
   "metadata": {
    "collapsed": false
   },
   "outputs": [],
   "source": [
    "viewer = WorkingViewer()\n",
    "viewer.appendFile('data/nexus-20110325.h5')\n",
    "viewer.setVisible(True)"
   ]
  },
  {
   "cell_type": "markdown",
   "metadata": {},
   "source": [
    "Solution\n",
    "--------"
   ]
  },
  {
   "cell_type": "code",
   "execution_count": null,
   "metadata": {
    "collapsed": false
   },
   "outputs": [],
   "source": [
    "!./solution/ex2_viewer.py data/nexus-20110325.h5"
   ]
  },
  {
   "cell_type": "markdown",
   "metadata": {},
   "source": [
    "Create an aggregation from diffraction acquisition\n",
    "================================================"
   ]
  },
  {
   "cell_type": "markdown",
   "metadata": {},
   "source": [
    "This exercise show how to configure and use the `Hdf5TreeView` with multi-selection. It will be used to compute an aggregation on images. The use case is an aggregation of diffraction acquisitions in order to create a better mask."
   ]
  },
  {
   "cell_type": "markdown",
   "metadata": {},
   "source": [
    "![HDF5 diffraction mask](images/diffraction_mask_log.png)"
   ]
  },
  {
   "cell_type": "markdown",
   "metadata": {},
   "source": [
    "Creating an aggregation\n",
    "-----------------------\n",
    "\n",
    "A sum of many images can be done like that with `numpy`. It is not the better way to have the best contrast for a diffraction mask, but is is enough for this exercice."
   ]
  },
  {
   "cell_type": "code",
   "execution_count": null,
   "metadata": {
    "collapsed": false
   },
   "outputs": [],
   "source": [
    "import numpy\n",
    "a = numpy.random.rand(5, 5)\n",
    "b = numpy.random.rand(5, 5)\n",
    "c = numpy.random.rand(5, 5)\n",
    "aggregate = numpy.sum([a, b, c], axis=0)"
   ]
  },
  {
   "cell_type": "markdown",
   "metadata": {},
   "source": [
    "Exercise 3\n",
    "----------\n",
    "\n",
    "> You can use `exercises/ex3_diffraction_mask.py` as skeleton\n",
    ">\n",
    "> 1. Configure the tree as multi-selectable\n",
    ">       * Use [`QAbstractItemView` documentation](http://doc.qt.io/qt-4.8/qabstractitemview.html#selectionMode-prop)\n",
    "> 2. Aggregate selected datasets on `onTreeActivated`\n",
    "> 3. Show the result in the viewer\n",
    "> 4. With the GUI, use the mask tool to create a mask from aggregated images"
   ]
  },
  {
   "cell_type": "code",
   "execution_count": null,
   "metadata": {
    "collapsed": true
   },
   "outputs": [],
   "source": [
    "import exercises.ex3_diffraction_mask\n",
    "\n",
    "class DiffractionMaskViewer(exercises.ex3_diffraction_mask.Viewer):\n",
    "\n",
    "    def __init__(self, parent=None):\n",
    "        exercises.ex3_diffraction_mask.Viewer.__init__(self, parent)\n",
    "\n",
    "        #\n",
    "        # TODO: Connect onTreeActivated the tree event\n",
    "        #\n",
    "\n",
    "        #\n",
    "        # TODO: Configure the tree to enable multi-selection\n",
    "        #\n",
    "\n",
    "    def onTreeActivated(self):\n",
    "        #\n",
    "        # TODO: Reach selected objects from the tree\n",
    "        #\n",
    "\n",
    "        #\n",
    "        # TODO: If many objects are selected aggregate everything and show it in the viewer\n",
    "        #\n",
    "\n",
    "        # here is one way to do a sum on many images\n",
    "        a = numpy.random.rand(5, 5)\n",
    "        b = numpy.random.rand(5, 5)\n",
    "        c = numpy.random.rand(5, 5)\n",
    "        aggregate = numpy.sum([a, b, c], axis=0)\n",
    "\n",
    "        #\n",
    "        # TODO: Else, if it is a dataset, show it in the viewer\n",
    "        #\n",
    "        pass"
   ]
  },
  {
   "cell_type": "code",
   "execution_count": null,
   "metadata": {
    "collapsed": true
   },
   "outputs": [],
   "source": [
    "viewer = DiffractionMaskViewer()\n",
    "viewer.appendFile('data/ID22_ma2909_Ti37Nb_450_72h_1.h5')\n",
    "viewer.setVisible(True)"
   ]
  },
  {
   "cell_type": "markdown",
   "metadata": {},
   "source": [
    "Solution\n",
    "--------"
   ]
  },
  {
   "cell_type": "code",
   "execution_count": null,
   "metadata": {
    "collapsed": false
   },
   "outputs": [],
   "source": [
    "!./solution/ex3_diffraction_mask.py data/ID22_ma2909_Ti37Nb_450_72h_1.h5"
   ]
  },
  {
   "cell_type": "markdown",
   "metadata": {},
   "source": [
    "Create an phase contrast viewer\n",
    "==============================="
   ]
  },
  {
   "cell_type": "markdown",
   "metadata": {},
   "source": [
    "This exercice show how to use the `Hdf5TreeView` context menu to a custom use. The use case is the phase contrast acquisition, in order to display better images from the raw data. To correct this images, we have to remove a background and apply a flat field. We can use the context menu to identify this dataset from an HDF5 file. The exercice provides few functions to help the computation."
   ]
  },
  {
   "cell_type": "markdown",
   "metadata": {},
   "source": [
    "![HDF5 phase contrast viewer](images/phase_contrast_corrected.png)"
   ]
  },
  {
   "cell_type": "markdown",
   "metadata": {},
   "source": [
    "Provided functions\n",
    "------------------"
   ]
  },
  {
   "cell_type": "markdown",
   "metadata": {},
   "source": [
    "The computation of corrected images is done using this equation using `raw`, `flatfield`, and `background` information.\n",
    "\n",
    "$$corrected = \\frac{raw - background}{flatfield - background}$$"
   ]
  },
  {
   "cell_type": "code",
   "execution_count": null,
   "metadata": {
    "collapsed": true
   },
   "outputs": [],
   "source": [
    "    def computeCorrectedImage(self, raw):\n",
    "        if self.flatfield is None:\n",
    "            raise RuntimeError(\"Flatfield is not defined\")\n",
    "        if self.background is None:\n",
    "            raise RuntimeError(\"Background is not defined\")\n",
    "\n",
    "        raw = numpy.array(raw, dtype=numpy.float32)\n",
    "        flatfield = numpy.array(self.flatfield.value, dtype=numpy.float32)\n",
    "        background = self.background.value\n",
    "        return (raw - background) / (flatfield - background)\n",
    "\n",
    "    def setBackground(self, dataset):\n",
    "        self.background = dataset\n",
    "\n",
    "    def setFlatField(self, dataset):\n",
    "        self.flatfield = dataset"
   ]
  },
  {
   "cell_type": "markdown",
   "metadata": {},
   "source": [
    "Exercise 4\n",
    "----------\n",
    "\n",
    "> You can use `exercises/ex4_phase_contrast.py` as skeleton\n",
    ">\n",
    "> 1. Register a callback function for the context menu of the tree\n",
    ">       * Use [getting started with HDF5 widgets](http://pythonhosted.org/silx/modules/gui/hdf5/getting_started.html)\n",
    "> 2. Create action to the menu to use the hovered dataset as backround of flatfield\n",
    ">       * Use [getting started with HDF5 widgets](http://pythonhosted.org/silx/modules/gui/hdf5/getting_started.html)\n",
    "> 3. Try to compute the corrected image when an image is selected in the tree and show it in the viewer"
   ]
  },
  {
   "cell_type": "code",
   "execution_count": 1,
   "metadata": {
    "collapsed": true
   },
   "outputs": [],
   "source": [
    "import exercises.ex4_phase_contrast\n",
    "\n",
    "class PhaseContrastViewer(exercises.ex4_phase_contrast.Viewer):\n",
    "\n",
    "    def __init__(self, parent=None):\n",
    "        exercises.ex4_phase_contrast.Viewer.__init__(self, parent)\n",
    "\n",
    "        #\n",
    "        # TODO: Connect the event tree to onTreeActivated\n",
    "        #\n",
    "\n",
    "        #\n",
    "        # TODO: Register populateContextMenu to the context menu callback of the tree\n",
    "        #\n",
    "\n",
    "    def populateContextMenu(self, event):\n",
    "        \"\"\"Called to populate the context menu\n",
    "\n",
    "        :param silx.gui.hdf5.Hdf5ContextMenuEvent event: Event\n",
    "            containing expected information to populate the context menu\n",
    "        \"\"\"\n",
    "\n",
    "        selectedObjects = list(event.source().selectedH5Nodes())\n",
    "        if len(selectedObjects) == 0:\n",
    "            return\n",
    "        if len(selectedObjects) > 1:\n",
    "            return\n",
    "        obj = selectedObjects[0]\n",
    "        # obj = event.hoveredObject()  # THis should work but there is a bug in Silx 0.3\n",
    "\n",
    "        if obj.ntype is not h5py.Dataset:\n",
    "            return\n",
    "\n",
    "        menu = event.menu()\n",
    "\n",
    "        isNumber = obj.shape == tuple() and numpy.issubdtype(obj.dtype, numpy.number)\n",
    "        isImage = len(obj.shape) == 2 and numpy.issubdtype(obj.dtype, numpy.number)\n",
    "\n",
    "        #\n",
    "        # TODO: Create an action connected to setBackground\n",
    "        #\n",
    "\n",
    "        #\n",
    "        # TODO: Create an action connected to setFlatField\n",
    "        #"
   ]
  },
  {
   "cell_type": "code",
   "execution_count": null,
   "metadata": {
    "collapsed": true
   },
   "outputs": [],
   "source": [
    "viewer = PhaseContrastViewer()\n",
    "viewer.appendFile('data/ID16B_diatomee.h5')\n",
    "viewer.setVisible(True)"
   ]
  },
  {
   "cell_type": "markdown",
   "metadata": {},
   "source": [
    "Solution\n",
    "--------"
   ]
  },
  {
   "cell_type": "code",
   "execution_count": null,
   "metadata": {
    "collapsed": false
   },
   "outputs": [],
   "source": [
    "!./solution/ex4_phase_contrast.py data/ID16B_diatomee.h5"
   ]
  }
 ],
 "metadata": {
  "kernelspec": {
   "display_name": "Python 3",
   "language": "python",
   "name": "python3"
  },
  "language_info": {
   "codemirror_mode": {
    "name": "ipython",
    "version": 3
   },
   "file_extension": ".py",
   "mimetype": "text/x-python",
   "name": "python",
   "nbconvert_exporter": "python",
   "pygments_lexer": "ipython3",
   "version": "3.5.2"
  }
 },
 "nbformat": 4,
 "nbformat_minor": 1
}
