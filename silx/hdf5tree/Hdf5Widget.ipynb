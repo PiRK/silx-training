{
 "cells": [
  {
   "cell_type": "code",
   "execution_count": null,
   "metadata": {
    "collapsed": true
   },
   "outputs": [],
   "source": [
    "%gui qt"
   ]
  },
  {
   "cell_type": "markdown",
   "metadata": {},
   "source": [
    "Required knowledges\n",
    "===================\n",
    "\n",
    "* ``numpy`` (basic knowledge)\n",
    "* ``Qt`` (basic knowledge)\n",
    "* ``h5py`` (optionally)\n",
    "\n",
    "Useful silx resources\n",
    "=====================\n",
    "\n",
    "* Getting start with the Hdf5 ([http://pythonhosted.org/silx/modules/gui/hdf5/getting_started.html](http://pythonhosted.org/silx/modules/gui/hdf5/getting_started.html))\n",
    "\n",
    "Exercises summary\n",
    "=================\n",
    "\n",
    "1. Features provided by Hdf5TreeView\n",
    "      * Learn how to create an ``Hdf5TreeView``\n",
    "2. Create a HDF5 viewer\n",
    "      * Learn how to use a dataset displayed by the tree\n",
    "3. Create a tool to aggregate dataset and to create a diffraction mask\n",
    "      * Use multi-selection node of the tree\n",
    "      * Use features of the mask\n",
    "4. Create a phase contrast viewer\n",
    "      * Learn how to add context menu to the tree nodes\n"
   ]
  },
  {
   "cell_type": "markdown",
   "metadata": {},
   "source": [
    "Features provided by Hdf5TreeView\n",
    "================================="
   ]
  },
  {
   "cell_type": "markdown",
   "metadata": {},
   "source": [
    "![HDF5 Tree](images/display.png)"
   ]
  },
  {
   "cell_type": "markdown",
   "metadata": {
    "collapsed": false,
    "scrolled": true
   },
   "source": [
    "```python\n",
    "from silx.gui import qt\n",
    "from silx.gui import hdf5\n",
    "app = qt.QApplication([])\n",
    "tree = hdf5.Hdf5TreeView()\n",
    "tree.setVisible(True)\n",
    "app.exec_()\n",
    "```"
   ]
  },
  {
   "cell_type": "markdown",
   "metadata": {
    "collapsed": false
   },
   "source": [
    "Exercise 0\n",
    "----------\n",
    "\n",
    "> 1. Execute this script\n",
    "> 2. Drag and drop an HDF5 file and play with it"
   ]
  },
  {
   "cell_type": "markdown",
   "metadata": {},
   "source": [
    "Exercise 1\n",
    "----------\n",
    "\n",
    "> You can use `exercise/ex1_display.py` as skeleton\n",
    ">\n",
    "> 1. Create an application to load HDF5 file provided on the command line\n",
    ">       * Use [getting started with HDF5 widgets](http://pythonhosted.org/silx/modules/gui/hdf5/getting_started.html)\n",
    "\n",
    "```python\n",
    "    for filename in filenames:\n",
    "        #\n",
    "        # TODO: Load each filename into the model tree\n",
    "        #\n",
    "        print(\"Load %s\" % filename)\n",
    "```"
   ]
  },
  {
   "cell_type": "markdown",
   "metadata": {},
   "source": [
    "Solution\n",
    "--------"
   ]
  },
  {
   "cell_type": "code",
   "execution_count": null,
   "metadata": {
    "collapsed": false
   },
   "outputs": [],
   "source": [
    "!./solution/ex1_display.py nexus-20110325.h5"
   ]
  },
  {
   "cell_type": "markdown",
   "metadata": {},
   "source": [
    "Create an HDF5 viewer\n",
    "====================="
   ]
  },
  {
   "cell_type": "markdown",
   "metadata": {},
   "source": [
    "This exercise you how to use the `Hdf5TreeView` to browse and display datasets.\n",
    "We provide a `DataViewer` widget to help you to display the data."
   ]
  },
  {
   "cell_type": "markdown",
   "metadata": {},
   "source": [
    "![HDF5 viewer](images/viewer.png)"
   ]
  },
  {
   "cell_type": "markdown",
   "metadata": {},
   "source": [
    "DataViewer class\n",
    "----------------\n",
    "\n",
    "We provide a `DataViewer` widget, to display data using `Silx` plots."
   ]
  },
  {
   "cell_type": "code",
   "execution_count": null,
   "metadata": {
    "collapsed": false
   },
   "outputs": [],
   "source": [
    "from silx.gui import plot\n",
    "\n",
    "class DataViewer(qt.QStackedWidget):\n",
    "    \"\"\"Widget to display any kind of data\"\"\"\n",
    "\n",
    "    def __init__(self, parent=None):\n",
    "        \"\"\"Constructor\"\"\"\n",
    "        super(DataViewer, self).__init__(parent)\n",
    "\n",
    "        self.__plot1d = plot.Plot1D()\n",
    "        self.__plot2d = plot.Plot2D()\n",
    "        self.__text = qt.QLabel()\n",
    "        self.__text.setAlignment(qt.Qt.AlignCenter)\n",
    "\n",
    "        self.__index1d = self.addWidget(self.__plot1d)\n",
    "        self.__index2d = self.addWidget(self.__plot2d)\n",
    "        self.__indexText = self.addWidget(self.__text)\n",
    "        self.setCurrentIndex(self.__indexText)\n",
    "\n",
    "    def showAsString(self, data):\n",
    "        \"\"\"Display a data using text\"\"\"\n",
    "        self.__text.setText(str(data))\n",
    "        self.setCurrentIndex(self.__indexText)\n",
    "\n",
    "    def show1d(self, data):\n",
    "        \"\"\"Display a data using silx Plot1D\"\"\"\n",
    "        self.__plot1d.clear()\n",
    "        self.__plot1d.addCurve(legend=\"data\", x=range(len(data)), y=data)\n",
    "        self.setCurrentIndex(self.__index1d)\n",
    "\n",
    "    def show2d(self, data):\n",
    "        \"\"\"Display a data using silx Plot2D\"\"\"\n",
    "        self.__plot2d.clear()\n",
    "        self.__plot2d.addImage(legend=\"data\", data=data)\n",
    "        self.setCurrentIndex(self.__index2d)\n",
    "\n",
    "    def show(self, data):\n",
    "        \"\"\"Display a data using the widget which fit the best\"\"\"\n",
    "        isAtomic = len(data.shape) == 0\n",
    "        isCurve = len(data.shape) == 1 \\\n",
    "                        and numpy.issubdtype(data.dtype, numpy.number)\n",
    "        isImage = len(data.shape) == 2 \\\n",
    "                        and numpy.issubdtype(data.dtype, numpy.number)\n",
    "        if isAtomic:\n",
    "            self.showAsString(data)\n",
    "        elif isCurve:\n",
    "            self.show1d(data)\n",
    "        elif isImage:\n",
    "            self.show2d(data)\n",
    "        else:\n",
    "            self.showAsString(data)"
   ]
  },
  {
   "cell_type": "markdown",
   "metadata": {},
   "source": [
    "Here is an example of use."
   ]
  },
  {
   "cell_type": "code",
   "execution_count": null,
   "metadata": {
    "collapsed": false
   },
   "outputs": [],
   "source": [
    "import numpy\n",
    "viewer = DataViewer()\n",
    "viewer.setVisible(True)"
   ]
  },
  {
   "cell_type": "code",
   "execution_count": null,
   "metadata": {
    "collapsed": false
   },
   "outputs": [],
   "source": [
    "# To display an image\n",
    "viewer.show(numpy.random.rand(100, 100))"
   ]
  },
  {
   "cell_type": "code",
   "execution_count": null,
   "metadata": {
    "collapsed": true
   },
   "outputs": [],
   "source": [
    "# or a curve\n",
    "viewer.show(numpy.random.rand(100))"
   ]
  },
  {
   "cell_type": "code",
   "execution_count": null,
   "metadata": {
    "collapsed": false
   },
   "outputs": [],
   "source": [
    "# or a value\n",
    "viewer.show(numpy.random.rand(1)[0])"
   ]
  },
  {
   "cell_type": "markdown",
   "metadata": {},
   "source": [
    "Viewer class\n",
    "------------\n",
    "\n",
    "We also provide a `Viewer` class. This class display together an `Hdf5TreeView` and a `DataViewer`."
   ]
  },
  {
   "cell_type": "code",
   "execution_count": null,
   "metadata": {
    "collapsed": true
   },
   "outputs": [],
   "source": [
    "window = qt.QSplitter()\n",
    "tree = hdf5.Hdf5TreeView(window)\n",
    "viewer = DataViewer(window)\n",
    "window.addWidget(tree)\n",
    "window.addWidget(viewer)\n",
    "window.setStretchFactor(1, 1)\n",
    "window.setVisible(True)"
   ]
  },
  {
   "cell_type": "markdown",
   "metadata": {},
   "source": [
    "Exercise 2\n",
    "----------\n",
    "\n",
    "> You can use `exercises/ex2_viewer.py` as skeleton\n",
    ">\n",
    "> 1. Connect the tree to the viewer together\n",
    ">       * Use [getting started with HDF5 widgets](http://pythonhosted.org/silx/modules/gui/hdf5/getting_started.html)"
   ]
  },
  {
   "cell_type": "markdown",
   "metadata": {},
   "source": [
    "Solution\n",
    "--------"
   ]
  },
  {
   "cell_type": "code",
   "execution_count": null,
   "metadata": {
    "collapsed": false
   },
   "outputs": [],
   "source": [
    "!./solution/ex2_viewer.py nexus-20110325.h5"
   ]
  },
  {
   "cell_type": "markdown",
   "metadata": {},
   "source": [
    "Create an aggregation from diffraction acquisition\n",
    "================================================"
   ]
  },
  {
   "cell_type": "markdown",
   "metadata": {},
   "source": [
    "This exercise show how to configure and use the `Hdf5TreeView` with multi-selection. It will be used to compute an aggregation on images. The use case is an aggregation of diffraction acquisitions in order to create a better mask."
   ]
  },
  {
   "cell_type": "markdown",
   "metadata": {},
   "source": [
    "![HDF5 diffraction mask](images/diffraction_mask_log.png)"
   ]
  },
  {
   "cell_type": "markdown",
   "metadata": {},
   "source": [
    "Creating an aggregation\n",
    "-----------------------\n",
    "\n",
    "A sum of many images can be done like that with `numpy`. It is not the better way to have the best contrast for a diffraction mask, but is is enough for this exercice."
   ]
  },
  {
   "cell_type": "code",
   "execution_count": 2,
   "metadata": {
    "collapsed": false
   },
   "outputs": [],
   "source": [
    "import numpy\n",
    "a = numpy.random.rand(5, 5)\n",
    "b = numpy.random.rand(5, 5)\n",
    "c = numpy.random.rand(5, 5)\n",
    "aggregate = numpy.sum([a, b, c], axis=0)"
   ]
  },
  {
   "cell_type": "markdown",
   "metadata": {},
   "source": [
    "Exercise 3\n",
    "----------\n",
    "\n",
    "> You can use `exercises/ex3_diffraction_mask.py` as skeleton\n",
    ">\n",
    "> 1. Configure the tree as multi-selectable\n",
    ">       * Use [`QAbstractItemView` documentation](http://doc.qt.io/qt-4.8/qabstractitemview.html#selectionMode-prop)\n",
    "> 2. Aggregate selected datasets on `onTreeActivated`\n",
    "> 3. Show the result in the viewer\n",
    "> 4. With the GUI, use the mask tool to create a mask from aggregated images"
   ]
  },
  {
   "cell_type": "markdown",
   "metadata": {},
   "source": [
    "Solution\n",
    "--------"
   ]
  },
  {
   "cell_type": "code",
   "execution_count": null,
   "metadata": {
    "collapsed": false
   },
   "outputs": [],
   "source": [
    "!./solution/ex3_diffraction_mask.py ID22_ma2909_Ti37Nb_450_72h_1.h5"
   ]
  },
  {
   "cell_type": "markdown",
   "metadata": {},
   "source": [
    "Create an phase contrast viewer\n",
    "==============================="
   ]
  },
  {
   "cell_type": "markdown",
   "metadata": {},
   "source": [
    "This exercice show how to use the `Hdf5TreeView` context menu to a custom use. The use case is the phase contrast acquisition, in order to display better images from the raw data. To correct this images, we have to remove a background and apply a flat field. We can use the context menu to identify this dataset from an HDF5 file. The exercice provides few functions to help the computation."
   ]
  },
  {
   "cell_type": "markdown",
   "metadata": {},
   "source": [
    "![HDF5 phase contrast viewer](images/phase_contrast_corrected.png)"
   ]
  },
  {
   "cell_type": "markdown",
   "metadata": {},
   "source": [
    "Provided functions\n",
    "------------------"
   ]
  },
  {
   "cell_type": "markdown",
   "metadata": {},
   "source": [
    "The computation of corrected images is done using this equation using `raw`, `flatfield`, and `background` information.\n",
    "\n",
    "$$corrected = \\frac{raw - background}{flatfield - background}$$"
   ]
  },
  {
   "cell_type": "code",
   "execution_count": null,
   "metadata": {
    "collapsed": true
   },
   "outputs": [],
   "source": [
    "    def computeCorrectedImage(self, raw):\n",
    "        if self.flatfield is None:\n",
    "            raise RuntimeError(\"Flatfield is not defined\")\n",
    "        if self.background is None:\n",
    "            raise RuntimeError(\"Background is not defined\")\n",
    "\n",
    "        raw = numpy.array(raw, dtype=numpy.float32)\n",
    "        flatfield = numpy.array(self.flatfield.value, dtype=numpy.float32)\n",
    "        background = self.background.value\n",
    "        return (raw - background) / (flatfield - background)\n",
    "\n",
    "    def setBackground(self, dataset):\n",
    "        self.background = dataset\n",
    "\n",
    "    def setFlatField(self, dataset):\n",
    "        self.flatfield = dataset"
   ]
  },
  {
   "cell_type": "markdown",
   "metadata": {},
   "source": [
    "Exercise 4\n",
    "----------\n",
    "\n",
    "> You can use `exercises/ex4_phase_contrast.py` as skeleton\n",
    ">\n",
    "> 1. Register a callback function for the context menu of the tree\n",
    ">       * Use [getting started with HDF5 widgets](http://pythonhosted.org/silx/modules/gui/hdf5/getting_started.html)\n",
    "> 2. Create action to the menu to use the hovered dataset as backround of flatfield\n",
    ">       * Use [getting started with HDF5 widgets](http://pythonhosted.org/silx/modules/gui/hdf5/getting_started.html)\n",
    "> 3. Try to compute the corrected image when an image is selected in the tree and show it in the viewer"
   ]
  },
  {
   "cell_type": "markdown",
   "metadata": {},
   "source": [
    "Solution\n",
    "--------"
   ]
  },
  {
   "cell_type": "code",
   "execution_count": null,
   "metadata": {
    "collapsed": false
   },
   "outputs": [],
   "source": [
    "!./solution/ex4_phase_contrast.py data/ID16B_diatomee.h5"
   ]
  }
 ],
 "metadata": {
  "kernelspec": {
   "display_name": "Python 3",
   "language": "python",
   "name": "python3"
  },
  "language_info": {
   "codemirror_mode": {
    "name": "ipython",
    "version": 3
   },
   "file_extension": ".py",
   "mimetype": "text/x-python",
   "name": "python",
   "nbconvert_exporter": "python",
   "pygments_lexer": "ipython3",
   "version": "3.5.2"
  }
 },
 "nbformat": 4,
 "nbformat_minor": 1
}
