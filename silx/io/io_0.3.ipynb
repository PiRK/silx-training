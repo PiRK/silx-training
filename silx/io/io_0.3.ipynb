{
 "cells": [
  {
   "cell_type": "markdown",
   "metadata": {},
   "source": [
    "# silx IO modules\n",
    "\n",
    "silx currently mainly provides modules to read SPEC data files.  In a future release, the number of supported data formats will increase significantly by adding an optional dependency to the *FabIO* library.\n",
    "\n",
    "A SPEC file can be converted into a HDF5 file.\n",
    "\n",
    "*silx* has modules and functions to save configuration data stored in Python dictionaries to various formats (HDF5, INI, JSON).\n",
    "\n",
    "It also provides a `save1D` function to save curves (1D numpy arrays) to simple file formats.\n",
    "\n",
    "\n"
   ]
  },
  {
   "cell_type": "markdown",
   "metadata": {},
   "source": [
    "\n",
    "## SPEC files\n",
    "\n",
    "There are currently 3 modules handling SPEC file reading:\n",
    "\n",
    "  - `silx.io.specfile`: Low-level wrapping of the legacy C library\n",
    "  - `silx.io.specfilewrapper`: Second layer of wrapping to offer compatibility with the legacy PyMca wrapper\n",
    "  - `silx.io.spech5`: High-level module exposing a Spec file like a *h5py* file.\n",
    "\n",
    "The use of `specfilewrapper` should be strictly limited to the case of existing programs using the PyMca wrapper, to switch to silx with minimal work: replacing the import statement `from PyMca5.PyMcaIO import specfilewrapper` with `from silx.io import specfilewrapper`. \n",
    "\n",
    "New programs should use `specfile` or (preferably) `spech5`. \n",
    "\n",
    "We encourage using of `spech5`, because it provides the same interface that `h5py` uses for reading HDF5 files. The stated goal of *silx* regarding IO is to provide a unified API to as many data formats as possible, to simplify training.\n",
    "\n",
    "A fourth module related to SPEC file deals with conversion of SPEC files into HDF5 files: `silx.io.spectoh5`\n",
    "\n",
    "### spech5\n",
    "\n",
    "Documentation: \n",
    "http://www.silx.org/doc/silx/dev/modules/io/spech5.html\n",
    "\n",
    "#### Exposed structure\n",
    "\n",
    "    /\n",
    "        1.1/\n",
    "            title = \"…\"\n",
    "            start_time = \"…\"\n",
    "            instrument/\n",
    "                specfile/\n",
    "                    file_header = \"…\"\n",
    "                    scan_header = \"…\"\n",
    "                positioners/\n",
    "                    motor_name = value\n",
    "                    …\n",
    "                mca_0/\n",
    "                    data = …\n",
    "                    calibration = …\n",
    "                    channels = …\n",
    "                    preset_time = …\n",
    "                    elapsed_time = …\n",
    "                    live_time = …\n",
    "\n",
    "                mca_1/\n",
    "                    …\n",
    "                …\n",
    "            measurement/\n",
    "                colname0 = …\n",
    "                colname1 = …\n",
    "                …\n",
    "                mca_0/\n",
    "                     data -> /1.1/instrument/mca_0/data\n",
    "                     info -> /1.1/instrument/mca_0/\n",
    "                …\n",
    "        2.1/\n",
    "            …\n",
    " \n",
    "#### Opening a Spec file and listing all scans\n",
    "\n",
    "Like a *h5py* file, a SPEC file is composed of a tree structure of groups (~folders) and datasets (~files).\n",
    "\n",
    "The root group contains one subgroup per scan.\n"
   ]
  },
  {
   "cell_type": "code",
   "execution_count": 1,
   "metadata": {
    "collapsed": false
   },
   "outputs": [
    {
     "name": "stdout",
     "output_type": "stream",
     "text": [
      "['19.1', '20.1', '21.1', '22.1', '23.1', '24.1', '25.1', '26.1', '27.1', '28.1', '29.1', '30.1', '31.1', '32.1', '33.1', '34.1', '35.1', '36.1', '37.1', '38.1', '39.1', '40.1', '41.1', '42.1', '43.1', '44.1', '45.1', '46.1', '47.1', '48.1', '49.1', '50.1', '51.1', '52.1', '53.1', '54.1', '55.1', '56.1', '57.1', '58.1', '59.1', '60.1', '61.1', '62.1', '63.1', '64.1', '65.1', '66.1', '67.1', '68.1', '69.1', '678.1', '679.1', '680.1', '681.1', '682.1', '684.1', '685.1', '687.1', '688.1', '700.1', '688.2', '688.3']\n"
     ]
    }
   ],
   "source": [
    "from silx.io import spech5\n",
    "\n",
    "sfh5 = spech5.SpecH5(\"data/31oct98.dat\")\n",
    "\n",
    "#print a list of scans\n",
    "print(sfh5.keys())\n"
   ]
  },
  {
   "cell_type": "markdown",
   "metadata": {},
   "source": [
    "#### Accessing detector measurements\n",
    "\n",
    "Measurements are 1D datasets (data columns in a scan in the original file). They are located in a sub-group of your scan named \"measurement\". \n",
    "\n",
    "You can iterate over all keys in a SpecH5Group. Each key is the name of a subgroup or a dataset."
   ]
  },
  {
   "cell_type": "code",
   "execution_count": 2,
   "metadata": {
    "collapsed": false
   },
   "outputs": [
    {
     "name": "stdout",
     "output_type": "stream",
     "text": [
      "####scan number 19.1####\n",
      "####scan number 20.1####\n",
      "####scan number 21.1####\n",
      "####scan number 22.1####\n",
      "####scan number 23.1####\n",
      "####scan number 24.1####\n",
      "####scan number 25.1####\n",
      "####scan number 26.1####\n",
      "####scan number 27.1####\n",
      "####scan number 28.1####\n",
      "####scan number 29.1####\n",
      "####scan number 30.1####\n",
      "####scan number 31.1####\n",
      "####scan number 32.1####\n",
      "####scan number 33.1####\n",
      "####scan number 34.1####\n",
      "####scan number 35.1####\n",
      "####scan number 36.1####\n",
      "####scan number 37.1####\n",
      "####scan number 38.1####\n",
      "####scan number 39.1####\n",
      "####scan number 40.1####\n",
      "####scan number 41.1####\n",
      "####scan number 42.1####\n",
      "####scan number 43.1####\n",
      "####scan number 44.1####\n",
      "####scan number 45.1####\n",
      "####scan number 46.1####\n",
      "####scan number 47.1####\n",
      "####scan number 48.1####\n",
      "####scan number 49.1####\n",
      "####scan number 50.1####\n",
      "####scan number 51.1####\n",
      "####scan number 52.1####\n",
      "####scan number 53.1####\n",
      "####scan number 54.1####\n",
      "####scan number 55.1####\n",
      "####scan number 56.1####\n",
      "####scan number 57.1####\n",
      "####scan number 58.1####\n",
      "####scan number 59.1####\n",
      "####scan number 60.1####\n",
      "['TX3', 'Epoch', 'Seconds', 'If2', 'If3', 'If5', 'If6', 'If7', 'If8', 'I0', 'It', 'ItdI0', 'If1dI0', 'If2dI0', 'If3dI0', 'If4dI0', 'If5dI0', 'If6dI0', 'If7dI0', 'If8dI0', 'If1', 'If4']\n",
      "####scan number 61.1####\n",
      "['TZ3', 'Epoch', 'Seconds', 'If2', 'If3', 'If5', 'If6', 'If7', 'If8', 'I0', 'It', 'ItdI0', 'If1dI0', 'If2dI0', 'If3dI0', 'If4dI0', 'If5dI0', 'If6dI0', 'If7dI0', 'If8dI0', 'If1', 'If4']\n",
      "####scan number 62.1####\n",
      "['TZ3', 'Epoch', 'Seconds', 'If2', 'If3', 'If5', 'If6', 'If7', 'If8', 'I0', 'It', 'ItdI0', 'If1dI0', 'If2dI0', 'If3dI0', 'If4dI0', 'If5dI0', 'If6dI0', 'If7dI0', 'If8dI0', 'If1', 'If4']\n",
      "####scan number 63.1####\n",
      "['TZ3', 'Epoch', 'Seconds', 'If2', 'If3', 'If5', 'If6', 'If7', 'If8', 'I0', 'It', 'ItdI0', 'If1dI0', 'If2dI0', 'If3dI0', 'If4dI0', 'If5dI0', 'If6dI0', 'If7dI0', 'If8dI0', 'If1', 'If4']\n",
      "####scan number 64.1####\n",
      "['TZ3', 'Epoch', 'Seconds', 'If2', 'If3', 'If5', 'If6', 'If7', 'If8', 'I0', 'It', 'ItdI0', 'If1dI0', 'If2dI0', 'If3dI0', 'If4dI0', 'If5dI0', 'If6dI0', 'If7dI0', 'If8dI0', 'If1', 'If4']\n",
      "####scan number 65.1####\n",
      "['TZ3', 'Epoch', 'Seconds', 'If2', 'If3', 'If5', 'If6', 'If7', 'If8', 'I0', 'It', 'ItdI0', 'If1dI0', 'If2dI0', 'If3dI0', 'If4dI0', 'If5dI0', 'If6dI0', 'If7dI0', 'If8dI0', 'If1', 'If4']\n",
      "####scan number 66.1####\n",
      "['TZ3', 'Epoch', 'Seconds', 'If2', 'If3', 'If5', 'If6', 'If7', 'If8', 'I0', 'It', 'ItdI0', 'If1dI0', 'If2dI0', 'If3dI0', 'If4dI0', 'If5dI0', 'If6dI0', 'If7dI0', 'If8dI0', 'If1', 'If4']\n",
      "####scan number 67.1####\n",
      "['TX3', 'Epoch', 'Seconds', 'If2', 'If3', 'If5', 'If6', 'If7', 'If8', 'I0', 'It', 'ItdI0', 'If1dI0', 'If2dI0', 'If3dI0', 'If4dI0', 'If5dI0', 'If6dI0', 'If7dI0', 'If8dI0', 'If1', 'If4']\n",
      "####scan number 68.1####\n",
      "['TX3', 'Epoch', 'Seconds', 'If2', 'If3', 'If5', 'If6', 'If7', 'If8', 'I0', 'It', 'ItdI0', 'If1dI0', 'If2dI0', 'If3dI0', 'If4dI0', 'If5dI0', 'If6dI0', 'If7dI0', 'If8dI0', 'If1', 'If4']\n",
      "####scan number 69.1####\n",
      "['TX3', 'TZ3', 'Epoch', 'Seconds', 'If2', 'If3', 'If5', 'If6', 'If7', 'If8', 'I0', 'It', 'ItdI0', 'If1dI0', 'If2dI0', 'If3dI0', 'If4dI0', 'If5dI0', 'If6dI0', 'If7dI0', 'If8dI0', 'If1', 'If4']\n",
      "####scan number 678.1####\n",
      "['Bal', 'Blo', 'Bli']\n",
      "####scan number 679.1####\n",
      "['Bal', 'Blo', 'Bli']\n",
      "####scan number 680.1####\n",
      "['Bal', 'Blo', 'Bli']\n",
      "####scan number 681.1####\n",
      "['Bal', 'Blo', 'Bli']\n",
      "####scan number 682.1####\n",
      "['Bal', 'Blo', 'Bli']\n",
      "####scan number 684.1####\n",
      "['Bal', 'Blo', 'Bli']\n",
      "####scan number 685.1####\n",
      "['Bal', 'Blo', 'Bli']\n",
      "####scan number 687.1####\n",
      "['Bal', 'Blo', 'Bli']\n",
      "####scan number 688.1####\n",
      "['Bal', 'Blo', 'Bli']\n",
      "####scan number 700.1####\n",
      "####scan number 688.2####\n",
      "['Bal', 'Blo', 'Bli']\n",
      "####scan number 688.3####\n",
      "['Bal', 'Blo', 'Bli']\n"
     ]
    }
   ],
   "source": [
    "# print all detector labels in all scans\n",
    "for scan_key in sfh5:\n",
    "    scan_group = sfh5[scan_key]\n",
    "    print(\"####scan number \" + scan_key + \"####\")\n",
    "    if scan_key.startswith(\"6\"):\n",
    "        print(scan_group[\"measurement\"].keys())"
   ]
  },
  {
   "cell_type": "markdown",
   "metadata": {},
   "source": [
    "Datasets are objects that are similar to numpy arrays (or h5py datasets). You can access the individual values using indices, or extract subarrays using slicing."
   ]
  },
  {
   "cell_type": "code",
   "execution_count": 3,
   "metadata": {
    "collapsed": false
   },
   "outputs": [
    {
     "name": "stdout",
     "output_type": "stream",
     "text": [
      "[ 29.29999924  29.30397606  29.30795288  29.31202888  29.3160038\n",
      "  29.31998062  29.32395554  29.32803154  29.33200836  29.33598328\n",
      "  29.3399601   29.3440361   29.34801292  29.35198784  29.35596466\n",
      "  29.36004066  29.36401558  29.3679924   29.37196732  29.37604332\n",
      "  29.38002014  29.38399506  29.38797188  29.39204788  29.3960247\n",
      "  29.39999962  29.40397644  29.40795135  29.41202736  29.41600418\n",
      "  29.4199791   29.42395592  29.42803192  29.43200874  29.43598366\n",
      "  29.43996048  29.44403648  29.4480114   29.45198822  29.45596313\n",
      "  29.46003914  29.46401596  29.46799278  29.4719677   29.4760437\n",
      "  29.48002052  29.48399544  29.48797226  29.49204826  29.49602318  29.5\n",
      "  29.50397682  29.50795174  29.51202774  29.51600456  29.51997948\n",
      "  29.5239563   29.5280323   29.53200722  29.53598404  29.53996086\n",
      "  29.54403687  29.54801178  29.5519886   29.55596352  29.56003952\n",
      "  29.56401634  29.56799126  29.57196808  29.57604408  29.5800209\n",
      "  29.58399582  29.58797264  29.59204865  29.59602356  29.60000038\n",
      "  29.6039753   29.60795212  29.61202812  29.61600494  29.61997986\n",
      "  29.62395668  29.62803268  29.6320076   29.63598442  29.63995934\n",
      "  29.64403534  29.64801216  29.65198708  29.6559639   29.6600399\n",
      "  29.66401672  29.66799164  29.67196846  29.67604446  29.68001938\n",
      "  29.6839962   29.68797112  29.69204712  29.69602394  29.70000076\n",
      "  29.70397568  29.7079525   29.7120285   29.71600342  29.71998024\n",
      "  29.72395515  29.72803116  29.73200798  29.7359848   29.73995972\n",
      "  29.74403572  29.74801254  29.75198746  29.75596428  29.76004028\n",
      "  29.7640152   29.76799202  29.77196884  29.77604485  29.78001976\n",
      "  29.78399658  29.7879715   29.7920475   29.79602432  29.79999924\n",
      "  29.80397606  29.80795288  29.81202888  29.8160038   29.81998062\n",
      "  29.82395554  29.82803154  29.83200836  29.83598328  29.8399601\n",
      "  29.8440361   29.84801292  29.85198784  29.85596466  29.86004066\n",
      "  29.86401558  29.8679924   29.87196732  29.87604332  29.88002014\n",
      "  29.88399506  29.88797188  29.89204788  29.8960247   29.89999962]\n",
      "[ 29.31998062  29.32395554  29.32803154]\n"
     ]
    }
   ],
   "source": [
    "# get two data columns\n",
    "xdata = sfh5[\"/22.1/measurement/TZ3\"]\n",
    "ydata = sfh5[\"/22.1/measurement/If4\"]\n",
    "\n",
    "print(xdata)\n",
    "print(sfh5[\"/22.1/measurement/TZ3\"][5:8])"
   ]
  },
  {
   "cell_type": "code",
   "execution_count": 4,
   "metadata": {
    "collapsed": false
   },
   "outputs": [
    {
     "name": "stdout",
     "output_type": "stream",
     "text": [
      "Populating the interactive namespace from numpy and matplotlib\n"
     ]
    },
    {
     "data": {
      "text/plain": [
       "[<matplotlib.lines.Line2D at 0x7f3be136eb38>]"
      ]
     },
     "execution_count": 4,
     "metadata": {},
     "output_type": "execute_result"
    },
    {
     "data": {
      "image/png": "[encoded data removed]",
      "text/plain": [
       "<matplotlib.figure.Figure at 0x7f3be63b9cc0>"
      ]
     },
     "metadata": {},
     "output_type": "display_data"
    }
   ],
   "source": [
    "%pylab inline\n",
    "plot(xdata, ydata)"
   ]
  },
  {
   "cell_type": "markdown",
   "metadata": {},
   "source": [
    "#### Accessing MCA data\n",
    "\n",
    "mca data can be found in `/94.1/measurement/mca_0/data` or `/94.1/instrument/mca_0/data`. This is a 2D array with all spectra recorded for one analyser during a scan. If there are more than one analyser, you will find more groups (`mca_1`, `mca_2`...)\n",
    "\n",
    "Scan metadata (headers) can be found in `mca_0/info`."
   ]
  },
  {
   "cell_type": "code",
   "execution_count": 5,
   "metadata": {
    "collapsed": false
   },
   "outputs": [
    {
     "name": "stdout",
     "output_type": "stream",
     "text": [
      "['data', 'info']\n",
      "(21, 1024)\n"
     ]
    },
    {
     "data": {
      "text/plain": [
       "<matplotlib.legend.Legend at 0x7f3be33a7630>"
      ]
     },
     "execution_count": 5,
     "metadata": {},
     "output_type": "execute_result"
    },
    {
     "data": {
      "image/png": "[encoded data removed]",
      "text/plain": [
       "<matplotlib.figure.Figure at 0x7f3be12eb048>"
      ]
     },
     "metadata": {},
     "output_type": "display_data"
    }
   ],
   "source": [
    "sfh5_2 = spech5.SpecH5(\"data/oleg.dat\")\n",
    "scan94_mca0 = sfh5_2[\"94.1/measurement/mca_0\"]\n",
    "print(scan94_mca0.keys())\n",
    "mca_data = scan94_mca0[\"data\"]\n",
    "print(mca_data.shape)\n",
    "for i, mca_spectrum in enumerate(mca_data[10:15]):\n",
    "    plot(mca_spectrum[475:550], label=\"spectrum %d\" % (10 + i))\n",
    "legend()"
   ]
  },
  {
   "cell_type": "code",
   "execution_count": 6,
   "metadata": {
    "collapsed": false
   },
   "outputs": [
    {
     "name": "stdout",
     "output_type": "stream",
     "text": [
      "['data', 'calibration', 'channels']\n",
      "dataset data: [[ 0.  0.  0. ...,  0.  0.  0.]\n",
      " [ 0.  0.  0. ...,  0.  0.  0.]\n",
      " [ 0.  0.  0. ...,  0.  0.  0.]\n",
      " ..., \n",
      " [ 0.  0.  0. ...,  0.  0.  0.]\n",
      " [ 0.  0.  0. ...,  0.  0.  0.]\n",
      " [ 0.  0.  0. ...,  0.  0.  0.]]\n",
      "dataset calibration: [ 0.  1.  0.]\n",
      "dataset channels: [   0    1    2 ..., 1021 1022 1023]\n"
     ]
    }
   ],
   "source": [
    "mca_info = scan94_mca0[\"info\"]\n",
    "print(mca_info.keys())\n",
    "for datasatet_name in mca_info:\n",
    "    print(\"dataset %s: %s\" % (datasatet_name, mca_info[datasatet_name]))"
   ]
  },
  {
   "cell_type": "markdown",
   "metadata": {},
   "source": [
    "## save1D\n",
    "\n",
    "The formats supported by save1D are:\n",
    "\n",
    "- `.csv` \n",
    "- `.npy` (format used by `numpy.save` / `numpy.load`)\n",
    "- `.txt` (CSV with customized header, footer and record separator)\n",
    "- `.dat` (simplified SPEC file, one scan with two columns per curve)\n",
    "\n",
    "For example, you can save the data loaded previously as txt:"
   ]
  },
  {
   "cell_type": "code",
   "execution_count": 7,
   "metadata": {
    "collapsed": false
   },
   "outputs": [],
   "source": [
    "from silx.io.utils import save1D\n",
    "\n",
    "hdr = \"This is data extracted from a Spec file\"\n",
    "ftr = \"My custom footer\"\n",
    "\n",
    "save1D(\"data/If4_TZ3.txt\", x=xdata, y=ydata, xlabel=\"TZ3\", ylabels=[\"If4\"], csvdelim=\"\\t\", header=hdr, footer=ftr)"
   ]
  },
  {
   "cell_type": "markdown",
   "metadata": {},
   "source": [
    "``y`` can be a 2D array in case you want to save multiple curves to a single file. That's why `ylabels` is formatted as a list of labels."
   ]
  },
  {
   "cell_type": "markdown",
   "metadata": {},
   "source": [
    "## config dict\n",
    "\n",
    "Python dictionaries are very convenient to handle configuration data for a program. The `silx.io.dictdump` and `silx.io.configdict` modules address the issue of dumping dictionaries to files and loading them back."
   ]
  },
  {
   "cell_type": "code",
   "execution_count": 8,
   "metadata": {
    "collapsed": false
   },
   "outputs": [],
   "source": [
    "from silx.io.dictdump import load, dump\n",
    "import numpy\n",
    "\n",
    "\n",
    "mydic0 = {\n",
    "        'simple_types': {\n",
    "            'float': 1.0,\n",
    "            'int': 1,\n",
    "            'string': 'Hello World',\n",
    "        },\n",
    "        'containers': {\n",
    "            'list': [-1, 'string', 3.0, False],\n",
    "            'array': numpy.array([1.0, 2.0, 3.0]),\n",
    "            'dict': {\n",
    "                'key1': 'Hello World',\n",
    "                'key2': 2.0,\n",
    "            }\n",
    "        }\n",
    "}\n",
    "\n",
    "# dump(mydic0, \"mydic.json\")\n",
    "# dump(mydic0, \"mydic.h5\")\n",
    "dump(mydic0, \"data/mydic.ini\")"
   ]
  },
  {
   "cell_type": "code",
   "execution_count": 9,
   "metadata": {
    "collapsed": false
   },
   "outputs": [
    {
     "name": "stdout",
     "output_type": "stream",
     "text": [
      "ConfigDict([('containers', OrderedDict([('list', [-1, 'string', 3.0, False]), ('array', array([ 1.,  2.,  3.])), ('dict', OrderedDict([('key1', 'Hello World'), ('key2', 2.0)]))])), ('simple_types', OrderedDict([('float', 1.0), ('int', 1), ('string', 'Hello World')]))])\n"
     ]
    }
   ],
   "source": [
    "# mydic1 = load(\"mydic.json\")\n",
    "# mydic1 = load(\"mydic.h5\")\n",
    "mydic1 = load(\"data/mydic.ini\")\n",
    "\n",
    "print(mydic1)"
   ]
  },
  {
   "cell_type": "markdown",
   "metadata": {},
   "source": [
    "The JSON format cannot serialize numpy arrays. Except for this drawback, it is a very common and convenient ascii format to handle simple python data.\n",
    "\n",
    "The HDF5 format handles numpy arrays very well, but data types are not preserved in heterogeneous lists (lists containing a mix of strings, integers...), all elements are cast into byte strings for these lists. \n",
    "\n",
    "The INI format handles all data types well in our example. Its drawback is that the INI format is not standardized, and the INI files produced by `silx.configdict`, that are designed to handle nested configuration dictionaries, are not commonly read by other libraries than silx."
   ]
  },
  {
   "cell_type": "markdown",
   "metadata": {
    "collapsed": true
   },
   "source": [
    "# spectoh5\n",
    "\n",
    "The `silx.io.spectoh5` module provides 2 functions to convert SPEC files to HDF5 files:\n",
    " - `convert()`: simple function to convert a file\n",
    " - `write_spec_to_h5()`: function with more customization options, such as specifying a target path/group inside the output HDF5 file where scans will be written.  \n",
    "\n",
    "The documentation for these functions is:\n",
    " - http://www.silx.org/doc/silx/dev/modules/io/spectoh5.html#silx.io.spectoh5.convert\n",
    " - http://www.silx.org/doc/silx/dev/modules/io/spectoh5.html#silx.io.spectoh5.write_spec_to_h5\n",
    "\n",
    "## Exercise\n",
    "\n",
    "1. Convert a SPEC file into an HDF5 file, and list it's content with `silx.io.utils.h5ls`\n",
    "2. Write two different SPEC files into a single HDF5 file, into 2 separate target groups.\n",
    "3. Redo question 1. or 2., with auto-chunking and gzip compression\n",
    "\n",
    "Tips:\n",
    " - documentation for `h5ls`: http://www.silx.org/doc/silx/dev/modules/io/utils.html#silx.io.utils.h5ls\n",
    " - additional documentation for question 3.: \n",
    "   + http://docs.h5py.org/en/latest/high/group.html#Group.create_dataset\n",
    "   + http://docs.h5py.org/en/latest/high/dataset.html#dataset-compression"
   ]
  },
  {
   "cell_type": "code",
   "execution_count": null,
   "metadata": {
    "collapsed": false
   },
   "outputs": [],
   "source": [
    "# Question 1.\n",
    "\n",
    "from silx.io.spectoh5 import convert\n",
    "from silx.io.utils import h5ls\n",
    "\n",
    "convert(\"data/oleg.dat\", \"data/oleg.h5\", mode=\"w\")\n",
    "print(h5ls(\"data/oleg.h5\"))"
   ]
  },
  {
   "cell_type": "code",
   "execution_count": null,
   "metadata": {
    "collapsed": false
   },
   "outputs": [],
   "source": [
    "# Question 2.\n",
    "\n",
    "from silx.io.spectoh5 import write_spec_to_h5\n",
    "from silx.io.utils import h5ls\n",
    "\n",
    "# specifying a path causes the file to be open,\n",
    "# then closed again after writing is done\n",
    "write_spec_to_h5(\"data/spectrum.dat\", \"data/concat.h5\",\n",
    "                 h5path=\"/spectrum\", mode=\"w\")\n",
    "write_spec_to_h5(\"data/oleg.dat\", \"data/concat.h5\",\n",
    "                 h5path=\"/oleg\", mode=\"a\")\n",
    "\n",
    "# alternative way: use a file handle rather than a file path\n",
    "# (you are responsible for opening/closing the file)\n",
    "import h5py\n",
    "\n",
    "output_file = h5py.File(\"data/concat.h5\", mode=\"a\")\n",
    "write_spec_to_h5(\"data/spectrum.dat\", output_file,\n",
    "                 h5path=\"/spectrum\", overwrite_data=True)\n",
    "write_spec_to_h5(\"data/oleg.dat\", output_file,\n",
    "                 h5path=\"/oleg_2\")\n",
    "\n",
    "print(h5ls(output_file))\n",
    "\n",
    "output_file.close()"
   ]
  },
  {
   "cell_type": "code",
   "execution_count": null,
   "metadata": {
    "collapsed": false
   },
   "outputs": [],
   "source": [
    "# Question 3.\n",
    "from silx.io.spectoh5 import convert\n",
    "from silx.io.utils import h5ls\n",
    "\n",
    "create_ds_args = {\"chunks\": True,\n",
    "                  \"compression\": \"gzip\"}\n",
    "\n",
    "convert(\"data/oleg.dat\", \"data/oleg.h5\", mode=\"w\",\n",
    "        create_dataset_args=create_ds_args)\n",
    "print(h5ls(\"data/oleg.h5\"))\n"
   ]
  },
  {
   "cell_type": "code",
   "execution_count": null,
   "metadata": {
    "collapsed": true
   },
   "outputs": [],
   "source": [
    "\n"
   ]
  }
 ],
 "metadata": {
  "kernelspec": {
   "display_name": "Python 3",
   "language": "python",
   "name": "python3"
  },
  "language_info": {
   "codemirror_mode": {
    "name": "ipython",
    "version": 3
   },
   "file_extension": ".py",
   "mimetype": "text/x-python",
   "name": "python",
   "nbconvert_exporter": "python",
   "pygments_lexer": "ipython3",
   "version": "3.5.2"
  }
 },
 "nbformat": 4,
 "nbformat_minor": 1
}
