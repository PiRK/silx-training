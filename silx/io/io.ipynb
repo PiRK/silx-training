{
 "cells": [
  {
   "cell_type": "code",
   "execution_count": 1,
   "metadata": {
    "collapsed": true
   },
   "outputs": [],
   "source": [
    "%gui qt"
   ]
  },
  {
   "cell_type": "markdown",
   "metadata": {},
   "source": [
    "Required knowledges\n",
    "===================\n",
    "\n",
    "* ``numpy`` (basic knowledges)\n",
    "* ``Qt`` (basic knowledges)\n",
    "* ``h5py`` (basic knowlegdes)"
   ]
  },
  {
   "cell_type": "markdown",
   "metadata": {},
   "source": [
    "Silx IO API\n",
    "==========="
   ]
  },
  {
   "cell_type": "code",
   "execution_count": 1,
   "metadata": {
    "collapsed": true
   },
   "outputs": [],
   "source": [
    "import silx.io"
   ]
  },
  {
   "cell_type": "markdown",
   "metadata": {},
   "source": [
    "Open a file\n",
    "-----------"
   ]
  },
  {
   "cell_type": "code",
   "execution_count": 7,
   "metadata": {
    "collapsed": false
   },
   "outputs": [],
   "source": [
    "# open\n",
    "obj = silx.io.open(\"data/test.h5\")\n",
    "# do your stuff here\n",
    "obj.close()"
   ]
  },
  {
   "cell_type": "markdown",
   "metadata": {},
   "source": [
    "Open a file with context manager\n",
    "--------------------------------"
   ]
  },
  {
   "cell_type": "code",
   "execution_count": 8,
   "metadata": {
    "collapsed": false
   },
   "outputs": [],
   "source": [
    "# or using context manager\n",
    "with silx.io.open(\"data/test.h5\") as obj:\n",
    "    # do your stuff here\n",
    "    # the close is called for you at the end of the with\n",
    "    pass"
   ]
  },
  {
   "cell_type": "markdown",
   "metadata": {
    "collapsed": true
   },
   "source": [
    "Common properties\n",
    "-----------------"
   ]
  },
  {
   "cell_type": "code",
   "execution_count": 36,
   "metadata": {
    "collapsed": true
   },
   "outputs": [],
   "source": [
    "obj = silx.io.open(\"data/test.h5\")\n",
    "\n",
    "# get the node path\n",
    "obj.name\n",
    "\n",
    "# test object type\n",
    "if silx.io.is_file(obj):\n",
    "    # this is a root file\n",
    "    # path of the file from the file system\n",
    "    obj.filename\n",
    "\n",
    "if silx.io.is_group(obj):\n",
    "    # this is a group\n",
    "    # BTW a file is a group\n",
    "    pass\n",
    "\n",
    "if silx.io.is_dataset(obj):\n",
    "    # this is a dataset\\\n",
    "    pass"
   ]
  },
  {
   "cell_type": "markdown",
   "metadata": {
    "collapsed": true
   },
   "source": [
    "Node traversal\n",
    "--------------"
   ]
  },
  {
   "cell_type": "code",
   "execution_count": 33,
   "metadata": {
    "collapsed": false
   },
   "outputs": [],
   "source": [
    "obj = silx.io.open(\"data/test.h5\")\n",
    "\n",
    "if silx.io.is_group(obj):\n",
    "    # it can contains child\n",
    "\n",
    "    # number of child\n",
    "    len(obj)\n",
    "\n",
    "    # iterator on child names\n",
    "    obj.keys()\n",
    "\n",
    "    # access to a child\n",
    "    child = obj[\"arrays\"]\n",
    "\n",
    "    # access to a child using a path\n",
    "    child = obj[\"arrays/float_3d\"]\n",
    "\n",
    "    # the path can be absolute\n",
    "    child = obj[\"/arrays/float_3d\"]"
   ]
  },
  {
   "cell_type": "markdown",
   "metadata": {},
   "source": [
    "Data access\n",
    "-----------"
   ]
  },
  {
   "cell_type": "code",
   "execution_count": 35,
   "metadata": {
    "collapsed": false
   },
   "outputs": [],
   "source": [
    "h5 = silx.io.open(\"data/test.h5\")\n",
    "obj = h5[\"arrays/float_3d\"]\n",
    "\n",
    "if silx.io.is_dataset(obj):\n",
    "    # it contains data\n",
    "\n",
    "    # a dataset provides information to the data\n",
    "    obj.shape    # multidimensional shape\n",
    "    obj.size     # amount of items\n",
    "    obj.dtype    # type of the array\n",
    "\n",
    "    # copy the full data as numpy array\n",
    "    data = obj[...]\n",
    "\n",
    "    # or a part of it (using numpy selector)\n",
    "    data = obj[1:2, ::3, 2]\n",
    "\n",
    "scalar = h5[\"scalars/int64\"]\n",
    "if silx.io.is_dataset(scalar):\n",
    "    # scalar dataset have an empty shape\n",
    "    assert scalar.shape == ()\n",
    "\n",
    "    # special case to access to the value of a scalar\n",
    "    data = scalar[()]"
   ]
  },
  {
   "cell_type": "markdown",
   "metadata": {},
   "source": [
    "Spec file as HDF5\n",
    "-----------------"
   ]
  },
  {
   "cell_type": "code",
   "execution_count": 42,
   "metadata": {
    "collapsed": false
   },
   "outputs": [
    {
     "name": "stdout",
     "output_type": "stream",
     "text": [
      "['94.1', '95.1', '96.1']\n",
      "['delta', 'H', 'K', 'L', 'Epoch', 'Seconds', 'Detector', 'Ion_m1', 'Ion_m2', 'srcur', 'curratt', 'ratio', 'all1', 'psd1', 'dir1', 'refl1', 'yoneda1', 'ACEdet', 'mcaLt1', 'twago', 'bpmi', 'tlangm', 'vO2', 'apdcnt', 'apdtemp', 'Monitor', 'detcorr', 'mca_0']\n"
     ]
    }
   ],
   "source": [
    "import silx.io\n",
    "\n",
    "h5like = silx.io.open('data/oleg.dat')\n",
    "\n",
    "# print available scans\n",
    "print(h5like['/'].keys())\n",
    "\n",
    "# print available measurements from the scan 94.1\n",
    "print(h5like['/94.1/measurement'].keys())\n",
    "\n",
    "# get data from measurement\n",
    "time = h5like['/94.1/measurement/Epoch']\n",
    "bpm = h5like['/94.1/measurement/bpmi']\n",
    "mca = h5like['/94.1/measurement/mca_0/data']"
   ]
  },
  {
   "cell_type": "markdown",
   "metadata": {},
   "source": [
    "EDF file as HDF5\n",
    "----------------"
   ]
  },
  {
   "cell_type": "code",
   "execution_count": 63,
   "metadata": {
    "collapsed": false
   },
   "outputs": [
    {
     "name": "stdout",
     "output_type": "stream",
     "text": [
      "(540, 640)\n",
      "motor names ['dmir_z', 'fz4', 'att2', 'filtz', 's1vg', 's2ho', 'fz6', 'cscint', 'fluo2y', 'sthy', 'sampy', 'm79', 'cx2', 'crot', 't1', 'gex', 'gey', 'att3', 'mbpm5y', 'tablez', 'vmy', 'pzth', 'pb2', 'pu', 'sz', 'ksvo', 'diffz', 'diff2z', 'm78', 'cz2', 'shutz', 'mbpm4y', 'gez', 'diffy', 's2hg', 'dmir_z1', 'shuty', 'cfocus', 'cscint2', 'cx', 's1bh', 'dmir_th', 'cam2z', 's3vg', 's1fh', 'm2b', 'shutr', 'diff1x', 'pmh2', 's2bh', 'm80', 's1ho', 'u26', 'dz6', 'mbpm3y', 'pd', 'dmir_z2', 'sypz', 'pmh1', 'mbpm3z', 'pmv2', 'pt2', 'fluo1z', 'menergy', 's3ho', 's3vo', 'sap1y', 'fourz', 's1fv', 'cam2y', 'diff2x', 'mbpm4z', 'm15', 'ksho', 'dmir_y2', 'b2', 'kshg', 'cl2', 'fluo1y', 'sap2y', 'fluo2x', 'bsz', 'm108', 'm2x', 'pcam', 's3tz', 'sap2z', 'filty', 'diffx', 'pmv1', 'cfocus2', 'sx', 'm114', 'mbpm5z', 'm14', 's2fh', 'fluo1x', 'vmth', 'spush', 'vmz', 's1hg', 'bsy', 't2', 's3dv', 'srot', 'c160', 'hmth', 'dmir_zz', 'cz1', 's1bv', 'ksvg', 'm2y', 'cl1', 'fourx', 'mty', 'cx1', 's3hg', 'dmir_h', 'dmir_y1', 't26', 's3fh', 'diff1z', 's1vo', 'sy', 'srot2', 'cy', 's3bh', 's3uv', 'sap1z', 'mono', 'foury', 'sampz', 'energy', 'fluo2z', 'att1', 'mtz', 'crot2', 'vmx']\n",
      "[  0.       14.375    28.75     42.96875  57.5      71.875  ]\n"
     ]
    }
   ],
   "source": [
    "import silx.io.utils\n",
    "\n",
    "h5like = silx.io.open(\"data/ID16B_diatomee.edf\")\n",
    "\n",
    "# here is the data as a cube using numpy array\n",
    "# it's a cube of images * number of frames\n",
    "data = h5like[\"/scan_0/instrument/detector_0/data\"]\n",
    "# here is the first image\n",
    "data[0]\n",
    "print(data[0].shape)\n",
    "\n",
    "# groups containing datasets of motors, counters\n",
    "# and others metadata from the EDF header\n",
    "motors   = h5like[\"/scan_0/instrument/positioners\"]\n",
    "counters = h5like[\"/scan_0/measurement\"]\n",
    "others   = h5like[\"/scan_0/instrument/detector_0/others\"]\n",
    "print(\"motor names\", list(motors.keys()))\n",
    "\n",
    "# reach a motor named 'srot'\n",
    "# it's a vector of values * number of frames\n",
    "srot = motors[\"srot\"]\n",
    "# here is the monitor value at the first frame\n",
    "srot[0]\n",
    "print(srot[...])"
   ]
  },
  {
   "cell_type": "markdown",
   "metadata": {},
   "source": [
    "Silx HDF5 tree\n",
    "==============\n",
    "\n",
    "![HDF5 tree screenshot](img/hdf5tree.png)\n",
    "\n",
    "* Getting start with the HDF5 tree ([http://pythonhosted.org/silx/modules/gui/hdf5/getting_started.html](http://pythonhosted.org/silx/modules/gui/hdf5/getting_started.html))"
   ]
  },
  {
   "cell_type": "markdown",
   "metadata": {},
   "source": [
    "Create the widget\n",
    "-----------------"
   ]
  },
  {
   "cell_type": "code",
   "execution_count": 45,
   "metadata": {
    "collapsed": true
   },
   "outputs": [],
   "source": [
    "import silx.gui.hdf5\n",
    "tree = silx.gui.hdf5.Hdf5TreeView()\n",
    "tree.setVisible(True)\n",
    "model = tree.findHdf5TreeModel()"
   ]
  },
  {
   "cell_type": "markdown",
   "metadata": {},
   "source": [
    "Feed it with an HDF5\n",
    "--------------------"
   ]
  },
  {
   "cell_type": "code",
   "execution_count": 32,
   "metadata": {
    "collapsed": false
   },
   "outputs": [],
   "source": [
    "h5 = silx.io.open(\"data/test.h5\")\n",
    "model.insertH5pyObject(h5)"
   ]
  },
  {
   "cell_type": "markdown",
   "metadata": {},
   "source": [
    "Feed it with a Spec file\n",
    "------------------------"
   ]
  },
  {
   "cell_type": "code",
   "execution_count": 30,
   "metadata": {
    "collapsed": true
   },
   "outputs": [],
   "source": [
    "h5 = silx.io.open(\"data/oleg.dat\")\n",
    "model.insertH5pyObject(h5)"
   ]
  },
  {
   "cell_type": "markdown",
   "metadata": {},
   "source": [
    "Feed it with an EDF file\n",
    "------------------------"
   ]
  },
  {
   "cell_type": "code",
   "execution_count": 46,
   "metadata": {
    "collapsed": true
   },
   "outputs": [],
   "source": [
    "h5 = silx.io.open(\"data/ID16B_diatomee.edf\")\n",
    "model.insertH5pyObject(h5)"
   ]
  },
  {
   "cell_type": "markdown",
   "metadata": {},
   "source": [
    "Silx DataViewer\n",
    "===============\n",
    "\n",
    "![DataViewer screenshot](img/dataviewer.png)"
   ]
  },
  {
   "cell_type": "markdown",
   "metadata": {},
   "source": [
    "Create the widget\n",
    "-----------------"
   ]
  },
  {
   "cell_type": "code",
   "execution_count": 37,
   "metadata": {
    "collapsed": false
   },
   "outputs": [
    {
     "name": "stderr",
     "output_type": "stream",
     "text": [
      "WARNING:silx.gui.data.DataViewer:Plot3dView is not available\n",
      "WARNING:silx.gui.data.DataViewer:_Plot3dView instantiation failed. View is ignored\n"
     ]
    }
   ],
   "source": [
    "import silx.gui.data.DataViewerFrame\n",
    "viewer = silx.gui.data.DataViewerFrame.DataViewerFrame()\n",
    "viewer.setVisible(True)\n",
    "viewer.resize(500, 500)"
   ]
  },
  {
   "cell_type": "markdown",
   "metadata": {},
   "source": [
    "Feed it with a numpy array\n",
    "--------------------------"
   ]
  },
  {
   "cell_type": "code",
   "execution_count": 40,
   "metadata": {
    "collapsed": false
   },
   "outputs": [],
   "source": [
    "import numpy\n",
    "data = numpy.random.rand(100, 100, 100)\n",
    "viewer.setData(data)"
   ]
  },
  {
   "cell_type": "markdown",
   "metadata": {},
   "source": [
    "Feed it with a HDF5 dataset\n",
    "---------------------------"
   ]
  },
  {
   "cell_type": "code",
   "execution_count": 39,
   "metadata": {
    "collapsed": true
   },
   "outputs": [],
   "source": [
    "import silx.io\n",
    "h5like = silx.io.open(\"data/ID16B_diatomee.h5\")\n",
    "dataset = h5like[\"/data/0299\"]\n",
    "viewer.setData(dataset)"
   ]
  },
  {
   "cell_type": "markdown",
   "metadata": {},
   "source": [
    "Exercises\n",
    "========="
   ]
  },
  {
   "cell_type": "markdown",
   "metadata": {},
   "source": [
    "![HDF5 Tree](images/display.png)"
   ]
  },
  {
   "cell_type": "markdown",
   "metadata": {
    "collapsed": false,
    "scrolled": true
   },
   "source": [
    "```python\n",
    "from silx.gui import qt\n",
    "from silx.gui import hdf5\n",
    "app = qt.QApplication([])\n",
    "tree = hdf5.Hdf5TreeView()\n",
    "tree.setVisible(True)\n",
    "app.exec_()\n",
    "```"
   ]
  },
  {
   "cell_type": "markdown",
   "metadata": {
    "collapsed": false
   },
   "source": [
    "Exercise 0\n",
    "----------\n",
    "\n",
    "> 1. Execute this script\n",
    "> 2. Drag and drop an HDF5 file and play with it"
   ]
  },
  {
   "cell_type": "markdown",
   "metadata": {},
   "source": [
    "Exercise 1\n",
    "----------\n",
    "\n",
    "> You can use `exercise/ex1_display.py` as skeleton\n",
    ">\n",
    "> 1. Create an application to load HDF5 file provided on the command line\n",
    ">       * Use [getting started with HDF5 widgets](http://pythonhosted.org/silx/modules/gui/hdf5/getting_started.html)"
   ]
  },
  {
   "cell_type": "code",
   "execution_count": null,
   "metadata": {
    "collapsed": false
   },
   "outputs": [],
   "source": [
    "from silx.gui import qt\n",
    "from silx.gui import hdf5\n",
    "\n",
    "def main(filenames):\n",
    "    tree = hdf5.Hdf5TreeView()\n",
    "    model = tree.findHdf5TreeModel()\n",
    "    for filename in filenames:\n",
    "        #\n",
    "        # TODO: Load each filename into the model tree\n",
    "        #\n",
    "        print(\"Load %s\" % filename)\n",
    "    tree.setVisible(True)"
   ]
  },
  {
   "cell_type": "code",
   "execution_count": null,
   "metadata": {
    "collapsed": false
   },
   "outputs": [],
   "source": [
    "main(['data/nexus-20110325.h5'])"
   ]
  },
  {
   "cell_type": "markdown",
   "metadata": {},
   "source": [
    "Solution\n",
    "--------"
   ]
  },
  {
   "cell_type": "code",
   "execution_count": null,
   "metadata": {
    "collapsed": false
   },
   "outputs": [],
   "source": [
    "!./solution/ex1_display.py data/nexus-20110325.h5"
   ]
  },
  {
   "cell_type": "markdown",
   "metadata": {},
   "source": [
    "Create an HDF5 viewer\n",
    "====================="
   ]
  },
  {
   "cell_type": "markdown",
   "metadata": {},
   "source": [
    "This exercise you how to use the `Hdf5TreeView` to browse and display datasets.\n",
    "We provide a `DataViewer` widget to help you to display the data."
   ]
  },
  {
   "cell_type": "markdown",
   "metadata": {},
   "source": [
    "![HDF5 viewer](images/viewer.png)"
   ]
  },
  {
   "cell_type": "markdown",
   "metadata": {},
   "source": [
    "DataViewer class\n",
    "----------------\n",
    "\n",
    "We provide a `DataViewer` widget, to display data using `Silx` plots."
   ]
  },
  {
   "cell_type": "markdown",
   "metadata": {},
   "source": [
    "Here is an example of use."
   ]
  },
  {
   "cell_type": "code",
   "execution_count": null,
   "metadata": {
    "collapsed": false
   },
   "outputs": [],
   "source": [
    "from exercises.ex2_viewer import DataViewer\n",
    "viewer = DataViewer()\n",
    "viewer.setVisible(True)\n",
    "\n",
    "import numpy"
   ]
  },
  {
   "cell_type": "code",
   "execution_count": null,
   "metadata": {
    "collapsed": false
   },
   "outputs": [],
   "source": [
    "# To display an image\n",
    "viewer.show(numpy.random.rand(100, 100))"
   ]
  },
  {
   "cell_type": "code",
   "execution_count": null,
   "metadata": {
    "collapsed": true
   },
   "outputs": [],
   "source": [
    "# or a curve\n",
    "viewer.show(numpy.random.rand(100))"
   ]
  },
  {
   "cell_type": "code",
   "execution_count": null,
   "metadata": {
    "collapsed": false
   },
   "outputs": [],
   "source": [
    "# or a value\n",
    "viewer.show(numpy.random.rand(1)[0])"
   ]
  },
  {
   "cell_type": "markdown",
   "metadata": {},
   "source": [
    "Viewer class\n",
    "------------\n",
    "\n",
    "We also provide a `Viewer` class. This class display together an `Hdf5TreeView` and a `DataViewer`."
   ]
  },
  {
   "cell_type": "code",
   "execution_count": null,
   "metadata": {
    "collapsed": true
   },
   "outputs": [],
   "source": [
    "window = qt.QSplitter()\n",
    "tree = hdf5.Hdf5TreeView(window)\n",
    "viewer = DataViewer(window)\n",
    "window.addWidget(tree)\n",
    "window.addWidget(viewer)\n",
    "window.setStretchFactor(1, 1)\n",
    "window.setVisible(True)"
   ]
  },
  {
   "cell_type": "markdown",
   "metadata": {},
   "source": [
    "Exercise 2\n",
    "----------\n",
    "\n",
    "> You can use `exercises/ex2_viewer.py` as skeleton\n",
    ">\n",
    "> 1. Connect the tree to the viewer together\n",
    ">       * Use [getting started with HDF5 widgets](http://pythonhosted.org/silx/modules/gui/hdf5/getting_started.html)"
   ]
  },
  {
   "cell_type": "code",
   "execution_count": null,
   "metadata": {
    "collapsed": false
   },
   "outputs": [],
   "source": [
    "import exercises.ex2_viewer\n",
    "\n",
    "class WorkingViewer(exercises.ex2_viewer.Viewer):\n",
    "    \n",
    "    def __init__(self, parent=None):\n",
    "        exercises.ex2_viewer.Viewer.__init__(self, parent)\n",
    "\n",
    "        #\n",
    "        # TODO: Connect onTreeActivated the tree event\n",
    "        #\n",
    "\n",
    "    def onTreeActivated(self):\n",
    "\n",
    "        #\n",
    "        # TODO: Reach selected objects from the tree\n",
    "        #\n",
    "\n",
    "        #\n",
    "        # TODO: If it is a dataset, show it in the dataViewer\n",
    "        #\n",
    "        pass"
   ]
  },
  {
   "cell_type": "code",
   "execution_count": null,
   "metadata": {
    "collapsed": false
   },
   "outputs": [],
   "source": [
    "viewer = WorkingViewer()\n",
    "viewer.appendFile('data/nexus-20110325.h5')\n",
    "viewer.setVisible(True)"
   ]
  },
  {
   "cell_type": "markdown",
   "metadata": {},
   "source": [
    "Solution\n",
    "--------"
   ]
  },
  {
   "cell_type": "code",
   "execution_count": null,
   "metadata": {
    "collapsed": false
   },
   "outputs": [],
   "source": [
    "!./solution/ex2_viewer.py data/nexus-20110325.h5"
   ]
  },
  {
   "cell_type": "markdown",
   "metadata": {},
   "source": [
    "Create an aggregation from diffraction acquisition\n",
    "================================================"
   ]
  },
  {
   "cell_type": "markdown",
   "metadata": {},
   "source": [
    "This exercise show how to configure and use the `Hdf5TreeView` with multi-selection. It will be used to compute an aggregation on images. The use case is an aggregation of diffraction acquisitions in order to create a better mask."
   ]
  },
  {
   "cell_type": "markdown",
   "metadata": {},
   "source": [
    "![HDF5 diffraction mask](images/diffraction_mask_log.png)"
   ]
  },
  {
   "cell_type": "markdown",
   "metadata": {},
   "source": [
    "Creating an aggregation\n",
    "-----------------------\n",
    "\n",
    "A sum of many images can be done like that with `numpy`. It is not the better way to have the best contrast for a diffraction mask, but is is enough for this exercice."
   ]
  },
  {
   "cell_type": "code",
   "execution_count": null,
   "metadata": {
    "collapsed": false
   },
   "outputs": [],
   "source": [
    "import numpy\n",
    "a = numpy.random.rand(5, 5)\n",
    "b = numpy.random.rand(5, 5)\n",
    "c = numpy.random.rand(5, 5)\n",
    "aggregate = numpy.sum([a, b, c], axis=0)"
   ]
  },
  {
   "cell_type": "markdown",
   "metadata": {},
   "source": [
    "Exercise 3\n",
    "----------\n",
    "\n",
    "> You can use `exercises/ex3_diffraction_mask.py` as skeleton\n",
    ">\n",
    "> 1. Configure the tree as multi-selectable\n",
    ">       * Use [`QAbstractItemView` documentation](http://doc.qt.io/qt-4.8/qabstractitemview.html#selectionMode-prop)\n",
    "> 2. Aggregate selected datasets on `onTreeActivated`\n",
    "> 3. Show the result in the viewer\n",
    "> 4. With the GUI, use the mask tool to create a mask from aggregated images"
   ]
  },
  {
   "cell_type": "code",
   "execution_count": null,
   "metadata": {
    "collapsed": true
   },
   "outputs": [],
   "source": [
    "import exercises.ex3_diffraction_mask\n",
    "\n",
    "class DiffractionMaskViewer(exercises.ex3_diffraction_mask.Viewer):\n",
    "\n",
    "    def __init__(self, parent=None):\n",
    "        exercises.ex3_diffraction_mask.Viewer.__init__(self, parent)\n",
    "\n",
    "        #\n",
    "        # TODO: Connect onTreeActivated the tree event\n",
    "        #\n",
    "\n",
    "        #\n",
    "        # TODO: Configure the tree to enable multi-selection\n",
    "        #\n",
    "\n",
    "    def onTreeActivated(self):\n",
    "        #\n",
    "        # TODO: Reach selected objects from the tree\n",
    "        #\n",
    "\n",
    "        #\n",
    "        # TODO: If many objects are selected aggregate everything and show it in the viewer\n",
    "        #\n",
    "\n",
    "        # here is one way to do a sum on many images\n",
    "        a = numpy.random.rand(5, 5)\n",
    "        b = numpy.random.rand(5, 5)\n",
    "        c = numpy.random.rand(5, 5)\n",
    "        aggregate = numpy.sum([a, b, c], axis=0)\n",
    "\n",
    "        #\n",
    "        # TODO: Else, if it is a dataset, show it in the viewer\n",
    "        #\n",
    "        pass"
   ]
  },
  {
   "cell_type": "code",
   "execution_count": null,
   "metadata": {
    "collapsed": true
   },
   "outputs": [],
   "source": [
    "viewer = DiffractionMaskViewer()\n",
    "viewer.appendFile('data/ID22_ma2909_Ti37Nb_450_72h_1.h5')\n",
    "viewer.setVisible(True)"
   ]
  },
  {
   "cell_type": "markdown",
   "metadata": {},
   "source": [
    "Solution\n",
    "--------"
   ]
  },
  {
   "cell_type": "code",
   "execution_count": null,
   "metadata": {
    "collapsed": false
   },
   "outputs": [],
   "source": [
    "!./solution/ex3_diffraction_mask.py data/ID22_ma2909_Ti37Nb_450_72h_1.h5"
   ]
  },
  {
   "cell_type": "markdown",
   "metadata": {},
   "source": [
    "Create an phase contrast viewer\n",
    "==============================="
   ]
  },
  {
   "cell_type": "markdown",
   "metadata": {},
   "source": [
    "This exercice show how to use the `Hdf5TreeView` context menu to a custom use. The use case is the phase contrast acquisition, in order to display better images from the raw data. To correct this images, we have to remove a background and apply a flat field. We can use the context menu to identify this dataset from an HDF5 file. The exercice provides few functions to help the computation."
   ]
  },
  {
   "cell_type": "markdown",
   "metadata": {},
   "source": [
    "![HDF5 phase contrast viewer](images/phase_contrast_corrected.png)"
   ]
  },
  {
   "cell_type": "markdown",
   "metadata": {},
   "source": [
    "Provided functions\n",
    "------------------"
   ]
  },
  {
   "cell_type": "markdown",
   "metadata": {},
   "source": [
    "The computation of corrected images is done using this equation using `raw`, `flatfield`, and `background` information.\n",
    "\n",
    "$$corrected = \\frac{raw - background}{flatfield - background}$$"
   ]
  },
  {
   "cell_type": "code",
   "execution_count": null,
   "metadata": {
    "collapsed": true
   },
   "outputs": [],
   "source": [
    "    def computeCorrectedImage(self, raw):\n",
    "        if self.flatfield is None:\n",
    "            raise RuntimeError(\"Flatfield is not defined\")\n",
    "        if self.background is None:\n",
    "            raise RuntimeError(\"Background is not defined\")\n",
    "\n",
    "        raw = numpy.array(raw, dtype=numpy.float32)\n",
    "        flatfield = numpy.array(self.flatfield.value, dtype=numpy.float32)\n",
    "        background = self.background.value\n",
    "        return (raw - background) / (flatfield - background)\n",
    "\n",
    "    def setBackground(self, dataset):\n",
    "        self.background = dataset\n",
    "\n",
    "    def setFlatField(self, dataset):\n",
    "        self.flatfield = dataset"
   ]
  },
  {
   "cell_type": "markdown",
   "metadata": {},
   "source": [
    "Exercise 4\n",
    "----------\n",
    "\n",
    "> You can use `exercises/ex4_phase_contrast.py` as skeleton\n",
    ">\n",
    "> 1. Register a callback function for the context menu of the tree\n",
    ">       * Use [getting started with HDF5 widgets](http://pythonhosted.org/silx/modules/gui/hdf5/getting_started.html)\n",
    "> 2. Create action to the menu to use the hovered dataset as backround of flatfield\n",
    ">       * Use [getting started with HDF5 widgets](http://pythonhosted.org/silx/modules/gui/hdf5/getting_started.html)\n",
    "> 3. Try to compute the corrected image when an image is selected in the tree and show it in the viewer"
   ]
  },
  {
   "cell_type": "code",
   "execution_count": 1,
   "metadata": {
    "collapsed": true
   },
   "outputs": [],
   "source": [
    "import exercises.ex4_phase_contrast\n",
    "\n",
    "class PhaseContrastViewer(exercises.ex4_phase_contrast.Viewer):\n",
    "\n",
    "    def __init__(self, parent=None):\n",
    "        exercises.ex4_phase_contrast.Viewer.__init__(self, parent)\n",
    "\n",
    "        #\n",
    "        # TODO: Connect the event tree to onTreeActivated\n",
    "        #\n",
    "\n",
    "        #\n",
    "        # TODO: Register populateContextMenu to the context menu callback of the tree\n",
    "        #\n",
    "\n",
    "    def populateContextMenu(self, event):\n",
    "        \"\"\"Called to populate the context menu\n",
    "\n",
    "        :param silx.gui.hdf5.Hdf5ContextMenuEvent event: Event\n",
    "            containing expected information to populate the context menu\n",
    "        \"\"\"\n",
    "\n",
    "        selectedObjects = list(event.source().selectedH5Nodes())\n",
    "        if len(selectedObjects) == 0:\n",
    "            return\n",
    "        if len(selectedObjects) > 1:\n",
    "            return\n",
    "        obj = selectedObjects[0]\n",
    "        # obj = event.hoveredObject()  # THis should work but there is a bug in Silx 0.3\n",
    "\n",
    "        if obj.ntype is not h5py.Dataset:\n",
    "            return\n",
    "\n",
    "        menu = event.menu()\n",
    "\n",
    "        isNumber = obj.shape == tuple() and numpy.issubdtype(obj.dtype, numpy.number)\n",
    "        isImage = len(obj.shape) == 2 and numpy.issubdtype(obj.dtype, numpy.number)\n",
    "\n",
    "        #\n",
    "        # TODO: Create an action connected to setBackground\n",
    "        #\n",
    "\n",
    "        #\n",
    "        # TODO: Create an action connected to setFlatField\n",
    "        #"
   ]
  },
  {
   "cell_type": "code",
   "execution_count": null,
   "metadata": {
    "collapsed": true
   },
   "outputs": [],
   "source": [
    "viewer = PhaseContrastViewer()\n",
    "viewer.appendFile('data/ID16B_diatomee.h5')\n",
    "viewer.setVisible(True)"
   ]
  },
  {
   "cell_type": "markdown",
   "metadata": {},
   "source": [
    "Solution\n",
    "--------"
   ]
  },
  {
   "cell_type": "code",
   "execution_count": null,
   "metadata": {
    "collapsed": false
   },
   "outputs": [],
   "source": [
    "!./solution/ex4_phase_contrast.py data/ID16B_diatomee.h5"
   ]
  }
 ],
 "metadata": {
  "kernelspec": {
   "display_name": "Python 3",
   "language": "python",
   "name": "python3"
  },
  "language_info": {
   "codemirror_mode": {
    "name": "ipython",
    "version": 3
   },
   "file_extension": ".py",
   "mimetype": "text/x-python",
   "name": "python",
   "nbconvert_exporter": "python",
   "pygments_lexer": "ipython3",
   "version": "3.5.2"
  }
 },
 "nbformat": 4,
 "nbformat_minor": 1
}
