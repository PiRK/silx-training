{
 "metadata": {
  "kernelspec": {
   "display_name": "Python 3",
   "language": "python",
   "name": "python3"
  },
  "language_info": {
   "codemirror_mode": {
    "name": "ipython",
    "version": 3
   },
   "file_extension": ".py",
   "mimetype": "text/x-python",
   "name": "python",
   "nbconvert_exporter": "python",
   "pygments_lexer": "ipython3",
   "version": "3.5.2"
  },
  "name": ""
 },
 "nbformat": 3,
 "nbformat_minor": 0,
 "worksheets": [
  {
   "cells": [
    {
     "cell_type": "code",
     "collapsed": true,
     "input": [
      "%gui qt"
     ],
     "language": "python",
     "metadata": {},
     "outputs": [],
     "prompt_number": null
    },
    {
     "cell_type": "markdown",
     "metadata": {},
     "source": [
      "Required knowledges\n",
      "===================\n",
      "\n",
      "* ``numpy`` (basic knowledges)\n",
      "* ``Qt`` (basic knowledges)\n",
      "* ``h5py`` (basic knowlegdes)"
     ]
    },
    {
     "cell_type": "markdown",
     "metadata": {},
     "source": [
      "Silx IO API\n",
      "==========="
     ]
    },
    {
     "cell_type": "code",
     "collapsed": true,
     "input": [
      "import silx.io"
     ],
     "language": "python",
     "metadata": {},
     "outputs": [],
     "prompt_number": null
    },
    {
     "cell_type": "markdown",
     "metadata": {},
     "source": [
      "Open a file\n",
      "-----------"
     ]
    },
    {
     "cell_type": "code",
     "collapsed": false,
     "input": [
      "# open\n",
      "obj = silx.io.open(\"data/test.h5\")\n",
      "# do your stuff here\n",
      "obj.close()"
     ],
     "language": "python",
     "metadata": {},
     "outputs": [],
     "prompt_number": null
    },
    {
     "cell_type": "markdown",
     "metadata": {},
     "source": [
      "Open a file with context manager\n",
      "--------------------------------"
     ]
    },
    {
     "cell_type": "code",
     "collapsed": false,
     "input": [
      "# or using context manager\n",
      "with silx.io.open(\"data/test.h5\") as obj:\n",
      "    # do your stuff here\n",
      "    # the close is called for you at the end of the with\n",
      "    pass"
     ],
     "language": "python",
     "metadata": {},
     "outputs": [],
     "prompt_number": null
    },
    {
     "cell_type": "markdown",
     "metadata": {
      "collapsed": true
     },
     "source": [
      "Common properties\n",
      "-----------------"
     ]
    },
    {
     "cell_type": "code",
     "collapsed": false,
     "input": [
      "obj = silx.io.open(\"data/test.h5\")\n",
      "\n",
      "obj.name   # path from file to the object\n",
      "obj.parent # hdf5 group containing the object\n",
      "obj.file   # hdf5 file containing the object\n",
      "\n",
      "# test object type\n",
      "if silx.io.is_file(obj):\n",
      "    # this is a root file\n",
      "    # path of the file from the file system\n",
      "    obj.filename\n",
      "\n",
      "if silx.io.is_group(obj):\n",
      "    # this is a group\n",
      "    # BTW a file is a group\n",
      "    pass\n",
      "\n",
      "if silx.io.is_dataset(obj):\n",
      "    # this is a dataset\\\n",
      "    pass"
     ],
     "language": "python",
     "metadata": {},
     "outputs": [],
     "prompt_number": null
    },
    {
     "cell_type": "markdown",
     "metadata": {
      "collapsed": true
     },
     "source": [
      "Node traversal\n",
      "--------------"
     ]
    },
    {
     "cell_type": "code",
     "collapsed": false,
     "input": [
      "obj = silx.io.open(\"data/test.h5\")\n",
      "\n",
      "if silx.io.is_group(obj):\n",
      "    # it can contains child\n",
      "\n",
      "    # number of child\n",
      "    len(obj)\n",
      "\n",
      "    # iterator on child names\n",
      "    obj.keys()\n",
      "\n",
      "    # access to a child\n",
      "    child = obj[\"arrays\"]\n",
      "\n",
      "    # access to a child using a path\n",
      "    child = obj[\"arrays/float_3d\"]\n",
      "\n",
      "    # the path can be absolute\n",
      "    child = obj[\"/arrays/float_3d\"]"
     ],
     "language": "python",
     "metadata": {},
     "outputs": [],
     "prompt_number": null
    },
    {
     "cell_type": "markdown",
     "metadata": {},
     "source": [
      "Data access\n",
      "-----------"
     ]
    },
    {
     "cell_type": "code",
     "collapsed": false,
     "input": [
      "h5 = silx.io.open(\"data/test.h5\")\n",
      "obj = h5[\"arrays/float_3d\"]\n",
      "\n",
      "if silx.io.is_dataset(obj):\n",
      "    # it contains data\n",
      "\n",
      "    # a dataset provides information to the data\n",
      "    obj.shape    # multidimensional shape\n",
      "    obj.size     # amount of items\n",
      "    obj.dtype    # type of the array\n",
      "\n",
      "    # copy the full data as numpy array\n",
      "    data = obj[...]\n",
      "\n",
      "    # or a part of it (using numpy selector)\n",
      "    data = obj[1:2, ::3, 2]\n",
      "\n",
      "scalar = h5[\"scalars/int64\"]\n",
      "if silx.io.is_dataset(scalar):\n",
      "    # scalar dataset have an empty shape\n",
      "    assert scalar.shape == ()\n",
      "\n",
      "    # special case to access to the value of a scalar\n",
      "    data = scalar[()]"
     ],
     "language": "python",
     "metadata": {},
     "outputs": [],
     "prompt_number": null
    },
    {
     "cell_type": "markdown",
     "metadata": {},
     "source": [
      "Spec file as HDF5\n",
      "-----------------"
     ]
    },
    {
     "cell_type": "code",
     "collapsed": false,
     "input": [
      "import silx.io\n",
      "\n",
      "h5like = silx.io.open('data/oleg.dat')\n",
      "\n",
      "# print available scans\n",
      "print(h5like['/'].keys())\n",
      "\n",
      "# print available measurements from the scan 94.1\n",
      "print(h5like['/94.1/measurement'].keys())\n",
      "\n",
      "# get data from measurement\n",
      "time = h5like['/94.1/measurement/Epoch']\n",
      "bpm = h5like['/94.1/measurement/bpmi']\n",
      "mca = h5like['/94.1/measurement/mca_0/data']"
     ],
     "language": "python",
     "metadata": {},
     "outputs": [],
     "prompt_number": null
    },
    {
     "cell_type": "markdown",
     "metadata": {},
     "source": [
      "EDF file as HDF5\n",
      "----------------"
     ]
    },
    {
     "cell_type": "code",
     "collapsed": false,
     "input": [
      "import silx.io.utils\n",
      "\n",
      "h5like = silx.io.open(\"data/ID16B_diatomee.edf\")\n",
      "\n",
      "# here is the data as a cube using numpy array\n",
      "# it's a cube of images * number of frames\n",
      "data = h5like[\"/scan_0/instrument/detector_0/data\"]\n",
      "# here is the first image\n",
      "data[0]\n",
      "print(data[0].shape)\n",
      "\n",
      "# groups containing datasets of motors, counters\n",
      "# and others metadata from the EDF header\n",
      "motors   = h5like[\"/scan_0/instrument/positioners\"]\n",
      "counters = h5like[\"/scan_0/measurement\"]\n",
      "others   = h5like[\"/scan_0/instrument/detector_0/others\"]\n",
      "print(\"motor names\", list(motors.keys()))\n",
      "\n",
      "# reach a motor named 'srot'\n",
      "# it's a vector of values * number of frames\n",
      "srot = motors[\"srot\"]\n",
      "# here is the monitor value at the first frame\n",
      "srot[0]\n",
      "print(srot[...])"
     ],
     "language": "python",
     "metadata": {},
     "outputs": [],
     "prompt_number": null
    },
    {
     "cell_type": "markdown",
     "metadata": {},
     "source": [
      "Silx HDF5 tree\n",
      "==============\n",
      "\n",
      "![HDF5 tree screenshot](img/hdf5tree.png)\n",
      "\n",
      "* Getting start with the HDF5 tree ([http://pythonhosted.org/silx/modules/gui/hdf5/getting_started.html](http://pythonhosted.org/silx/modules/gui/hdf5/getting_started.html))"
     ]
    },
    {
     "cell_type": "markdown",
     "metadata": {},
     "source": [
      "Create the widget\n",
      "-----------------"
     ]
    },
    {
     "cell_type": "code",
     "collapsed": true,
     "input": [
      "import silx.gui.hdf5\n",
      "tree = silx.gui.hdf5.Hdf5TreeView()\n",
      "tree.setVisible(True)\n",
      "model = tree.findHdf5TreeModel()"
     ],
     "language": "python",
     "metadata": {},
     "outputs": [],
     "prompt_number": null
    },
    {
     "cell_type": "markdown",
     "metadata": {},
     "source": [
      "Feed it with an HDF5\n",
      "--------------------"
     ]
    },
    {
     "cell_type": "code",
     "collapsed": false,
     "input": [
      "h5 = silx.io.open(\"data/test.h5\")\n",
      "model.insertH5pyObject(h5)"
     ],
     "language": "python",
     "metadata": {},
     "outputs": [],
     "prompt_number": null
    },
    {
     "cell_type": "markdown",
     "metadata": {},
     "source": [
      "Feed it with a Spec file\n",
      "------------------------"
     ]
    },
    {
     "cell_type": "code",
     "collapsed": true,
     "input": [
      "h5 = silx.io.open(\"data/oleg.dat\")\n",
      "model.insertH5pyObject(h5)"
     ],
     "language": "python",
     "metadata": {},
     "outputs": [],
     "prompt_number": null
    },
    {
     "cell_type": "markdown",
     "metadata": {},
     "source": [
      "Feed it with an EDF file\n",
      "------------------------"
     ]
    },
    {
     "cell_type": "code",
     "collapsed": true,
     "input": [
      "h5 = silx.io.open(\"data/ID16B_diatomee.edf\")\n",
      "model.insertH5pyObject(h5)"
     ],
     "language": "python",
     "metadata": {},
     "outputs": [],
     "prompt_number": null
    },
    {
     "cell_type": "markdown",
     "metadata": {},
     "source": [
      "Silx DataViewer\n",
      "===============\n",
      "\n",
      "![DataViewer screenshot](img/dataviewer.png)"
     ]
    },
    {
     "cell_type": "markdown",
     "metadata": {},
     "source": [
      "Create the widget\n",
      "-----------------"
     ]
    },
    {
     "cell_type": "code",
     "collapsed": false,
     "input": [
      "import silx.gui.data.DataViewerFrame\n",
      "dataviewer = silx.gui.data.DataViewerFrame.DataViewerFrame()\n",
      "dataviewer.setVisible(True)\n",
      "dataviewer.resize(500, 500)"
     ],
     "language": "python",
     "metadata": {},
     "outputs": [],
     "prompt_number": null
    },
    {
     "cell_type": "markdown",
     "metadata": {},
     "source": [
      "Feed it with a numpy array\n",
      "--------------------------"
     ]
    },
    {
     "cell_type": "code",
     "collapsed": false,
     "input": [
      "import numpy\n",
      "data = numpy.random.rand(100, 100, 100)\n",
      "dataviewer.setData(data)"
     ],
     "language": "python",
     "metadata": {},
     "outputs": [],
     "prompt_number": null
    },
    {
     "cell_type": "markdown",
     "metadata": {},
     "source": [
      "Feed it with a HDF5 dataset\n",
      "---------------------------"
     ]
    },
    {
     "cell_type": "code",
     "collapsed": true,
     "input": [
      "import silx.io\n",
      "h5like = silx.io.open(\"data/ID16B_diatomee.h5\")\n",
      "dataset = h5like[\"/data/0299\"]\n",
      "dataviewer.setData(dataset)"
     ],
     "language": "python",
     "metadata": {},
     "outputs": [],
     "prompt_number": null
    },
    {
     "cell_type": "markdown",
     "metadata": {},
     "source": [
      "Exercises\n",
      "========="
     ]
    },
    {
     "cell_type": "markdown",
     "metadata": {},
     "source": [
      "The exercise is based on a phase contast data. It will help you to create a custom application to browse data."
     ]
    },
    {
     "cell_type": "markdown",
     "metadata": {
      "collapsed": false
     },
     "source": [
      "Exercise 1\n",
      "----------\n",
      "\n",
      "> - Browse an HDF5 file\n",
      ">   * Use [getting started with HDF5 widgets](http://pythonhosted.org/silx/modules/gui/hdf5/getting_started.html)\n",
      "> - Identify path of the data\n",
      "> - Access to the data"
     ]
    },
    {
     "cell_type": "code",
     "collapsed": false,
     "input": [
      "import silx.io\n",
      "\n",
      "#\n",
      "# EXERCISE: Open the file 'data/ID16B_diatomee.h5'\n",
      "#\n",
      "\n",
      "h5 = ...\n",
      "\n",
      "#\n",
      "# EXERCISE: Display the file into the HDF5 tree\n",
      "#\n",
      "\n",
      "from silx.gui import hdf5\n",
      "tree = hdf5.Hdf5TreeView()\n",
      "model = tree.findHdf5TreeModel()\n",
      "...\n",
      "tree.setVisible(True)"
     ],
     "language": "python",
     "metadata": {},
     "outputs": [],
     "prompt_number": null
    },
    {
     "cell_type": "code",
     "collapsed": false,
     "input": [
      "#\n",
      "# EXERCISE: Access to one frame of the image\n",
      "#\n",
      "\n",
      "print(...)\n",
      "\n",
      "#\n",
      "# EXERCISE: Display it with the data viwer\n",
      "#\n",
      "import silx.gui.data.DataViewerFrame\n",
      "viewer = silx.gui.data.DataViewerFrame.DataViewerFrame()\n",
      "...\n",
      "viewer.setVisible(True)"
     ],
     "language": "python",
     "metadata": {},
     "outputs": [],
     "prompt_number": null
    },
    {
     "cell_type": "markdown",
     "metadata": {},
     "source": [
      "Exercise 2\n",
      "----------\n",
      "\n",
      "> 1. From the HDF5 tree, identify path name for\n",
      ">      - one data frame\n",
      ">      - one background\n",
      ">      - one flatfield\n",
      "> 2. Compute flatfield correction"
     ]
    },
    {
     "cell_type": "markdown",
     "metadata": {},
     "source": [
      "The computation of corrected images is done using this equation using `data`, `flatfield`, and `background` information.\n",
      "\n",
      "$$corrected = \\frac{data - background}{flatfield - background}$$"
     ]
    },
    {
     "cell_type": "code",
     "collapsed": false,
     "input": [
      "def correctedImage(data, background, flatfield):\n",
      "    data = numpy.array(data, dtype=numpy.float32)\n",
      "    flatfield = numpy.array(flatfield, dtype=numpy.float32)\n",
      "    return (data - background) / (flatfield - background)\n",
      "\n",
      "#\n",
      "# EXERCISE: Reach one data frame, a background and a flatfield from 'data/ID16B_diatomee.h5'\n",
      "#\n",
      "\n",
      "...\n",
      "\n",
      "#\n",
      "# EXERCISE: Compute the corrected image\n",
      "#\n",
      "\n",
      "...\n",
      "\n",
      "#\n",
      "# EXERCISE: Display it with the data viewer\n",
      "#\n",
      "\n",
      "..."
     ],
     "language": "python",
     "metadata": {},
     "outputs": [],
     "prompt_number": null
    },
    {
     "cell_type": "markdown",
     "metadata": {},
     "source": [
      "Exercise 3\n",
      "----------\n",
      "\n",
      "> 1. Connect together an HDF5 tree view and a data viewer\n",
      ">      * Use [getting started with HDF5 widgets](http://pythonhosted.org/silx/modules/gui/hdf5/getting_started.html)\n"
     ]
    },
    {
     "cell_type": "code",
     "collapsed": false,
     "input": [
      "from silx.gui import qt\n",
      "from silx.gui import hdf5\n",
      "import silx.gui.data.DataViewerFrame\n",
      "\n",
      "\n",
      "class ViewerEx3(qt.QMainWindow):\n",
      "\n",
      "    def __init__(self, parent=None):\n",
      "        qt.QMainWindow.__init__(self, parent)\n",
      "        widget = self.createCentralWidget()\n",
      "        self.setCentralWidget(widget)\n",
      "\n",
      "    def createCentralWidget(self):\n",
      "        splitter = qt.QSplitter(self)\n",
      "\n",
      "        # the tree\n",
      "        self.tree = silx.gui.hdf5.Hdf5TreeView(self)\n",
      "        # the data viewer\n",
      "        self.viewer = silx.gui.data.DataViewerFrame.DataViewerFrame(self)\n",
      "\n",
      "        splitter.addWidget(self.tree)\n",
      "        splitter.addWidget(self.viewer)\n",
      "        splitter.setStretchFactor(1, 1)\n",
      "\n",
      "        #\n",
      "        # EXERCISE: Connect the callback onTreeActivated (bellow)\n",
      "        #           to a mouse event from the tree\n",
      "        #\n",
      "\n",
      "        return splitter\n",
      "\n",
      "    def onTreeActivated(self):\n",
      "\n",
      "        #\n",
      "        # EXERCISE: Reach selected objects from the tree\n",
      "        #\n",
      "\n",
      "        #\n",
      "        # EXERCISE: Provide it to the data viewer\n",
      "        #\n",
      "        pass\n",
      "\n",
      "    def appendFile(self, filename):\n",
      "        model = self.tree.findHdf5TreeModel()\n",
      "        model.insertFile(filename)\n",
      "        print(\"Load %s\" % filename)"
     ],
     "language": "python",
     "metadata": {},
     "outputs": [],
     "prompt_number": null
    },
    {
     "cell_type": "code",
     "collapsed": false,
     "input": [
      "viewer = ViewerEx3()\n",
      "viewer.appendFile('data/ID16B_diatomee.h5')\n",
      "viewer.setVisible(True)"
     ],
     "language": "python",
     "metadata": {},
     "outputs": [],
     "prompt_number": null
    },
    {
     "cell_type": "markdown",
     "metadata": {},
     "source": [
      "Exercise 4\n",
      "----------"
     ]
    },
    {
     "cell_type": "markdown",
     "metadata": {},
     "source": [
      "> 1. Use the previous application to display corrected data"
     ]
    },
    {
     "cell_type": "code",
     "collapsed": false,
     "input": [
      "class ViewerEx4(ViewerEx3):\n",
      "\n",
      "    def onTreeActivated(self):\n",
      "        selectedObjects = list(self.tree.selectedH5Nodes())\n",
      "        if len(selectedObjects) == 0:\n",
      "            self.viewer.setData(\"Nothing selected\")\n",
      "\n",
      "        elif len(selectedObjects) > 1:\n",
      "            self.viewer.setData(\"Too much things selected\")\n",
      "\n",
      "        else:\n",
      "            obj = selectedObjects[0]\n",
      "            node = obj.h5py_object\n",
      "            \n",
      "            if \"/data/\" in node.name:\n",
      "                # That's a data from the /data group\n",
      "                data = self.computeCorrectedImage(node)\n",
      "                self.viewer.setData(data)\n",
      "            else:\n",
      "                # Other data is displayed in a normal way\n",
      "                self.viewer.setData(obj)\n",
      "\n",
      "    def computeCorrectedImage(self, h5data):\n",
      "        \"\"\"\n",
      "        :param h5data: H5py dataset selected from the group /data/\n",
      "        \"\"\"\n",
      "        background = self.getBackground(h5data)\n",
      "        flatfield = self.getFlatField(h5data)\n",
      "\n",
      "        raw = numpy.array(h5data, dtype=numpy.float32)\n",
      "        flatfield = numpy.array(flatfield, dtype=numpy.float32)\n",
      "        background = background[...]\n",
      "        return (raw - background) / (flatfield - background)\n",
      "\n",
      "    def getBackground(self, h5data):\n",
      "        \"\"\"\n",
      "        :param h5data: H5py dataset selected from the group /data/\n",
      "        \"\"\"\n",
      "\n",
      "        #\n",
      "        # EXERCISE: Return the background image from the dataset\n",
      "        #\n",
      "\n",
      "        return None\n",
      "\n",
      "    def getFlatField(self, h5data):\n",
      "        \"\"\"\n",
      "        :param h5data: H5py dataset selected from the group /data/\n",
      "        \"\"\"\n",
      "\n",
      "        #\n",
      "        # EXERCISE: Return the flatfield image from the dataset\n",
      "        #\n",
      "        #           1) you can return a flatfield by default\n",
      "        #           2) you can return the closest flat field according to the index of the data\n",
      "        #           3) you can return an interpolation of the 2 flatfields according to the index of the data\n",
      "\n",
      "        return None"
     ],
     "language": "python",
     "metadata": {},
     "outputs": [],
     "prompt_number": null
    },
    {
     "cell_type": "code",
     "collapsed": false,
     "input": [
      "viewer = ViewerEx4()\n",
      "viewer.appendFile('data/ID16B_diatomee.h5')\n",
      "viewer.setVisible(True)"
     ],
     "language": "python",
     "metadata": {},
     "outputs": [],
     "prompt_number": null
    }
   ],
   "metadata": {}
  }
 ]
}
