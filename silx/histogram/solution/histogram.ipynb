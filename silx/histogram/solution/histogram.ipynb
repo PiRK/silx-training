{
 "cells": [
  {
   "cell_type": "markdown",
   "metadata": {},
   "source": [
    "# Histogram vs Histogram_lut"
   ]
  },
  {
   "cell_type": "code",
   "execution_count": 1,
   "metadata": {
    "collapsed": false
   },
   "outputs": [
    {
     "name": "stderr",
     "output_type": "stream",
     "text": [
      "WARNING:fabioimage:PIL is not installed ... trying to do without\n",
      "WARNING:tifimage:PIL is not installed ... trying to do without\n",
      "WARNING:bruker100image:PIL is not installed ... trying to do without\n",
      "WARNING:xsdimage:lxml library is probably not part of your python installation: disabling xsdimage format\n"
     ]
    }
   ],
   "source": [
    "import numpy\n",
    "from silx.math.histogram import Histogramnd, HistogramndLut\n",
    "from silx.gui.plot import Plot1D, Plot2D\n",
    "%gui qt"
   ]
  },
  {
   "cell_type": "markdown",
   "metadata": {},
   "source": [
    "This function create some data with noise."
   ]
  },
  {
   "cell_type": "code",
   "execution_count": 2,
   "metadata": {
    "collapsed": false
   },
   "outputs": [],
   "source": [
    "def createDataSet():\n",
    "    shape = (400, 400)\n",
    "    xcenter = shape[0]/2\n",
    "    ycenter = shape[1]/2\n",
    "    t = numpy.zeros(shape)\n",
    "    y, x=numpy.ogrid[:t.shape[0], :t.shape[1]]\n",
    "    r=1.0+numpy.sin(numpy.sqrt((x-xcenter)**2+(y-ycenter)**2)/8.0)\n",
    "    return r + numpy.random.rand(shape[0], shape[1])\n",
    "\n",
    "data = createDataSet()"
   ]
  },
  {
   "cell_type": "markdown",
   "metadata": {},
   "source": [
    "Simple display of the fist element of the list\n",
    "\n",
    "![input data](img/histogram_vs_histogram_nd_data.png)\n"
   ]
  },
  {
   "cell_type": "code",
   "execution_count": 3,
   "metadata": {
    "collapsed": false
   },
   "outputs": [],
   "source": [
    "p = Plot2D()\n",
    "p.addImage(legend='dataExample', data=data)\n",
    "p.show()"
   ]
  },
  {
   "cell_type": "markdown",
   "metadata": {},
   "source": [
    "## Exercise : use Histogramnd to compute azimutal integration\n",
    "\n",
    "### we compute raddi to center for each pixel"
   ]
  },
  {
   "cell_type": "code",
   "execution_count": 4,
   "metadata": {
    "collapsed": false
   },
   "outputs": [],
   "source": [
    "def computeradius(data):\n",
    "    xcenter=data.shape[0]/2\n",
    "    ycenter=data.shape[1]/2\n",
    "    y, x=numpy.ogrid[:data.shape[0], :data.shape[1]]\n",
    "    r=numpy.sqrt((x-xcenter)**2+(y-ycenter)**2)\n",
    "    return r"
   ]
  },
  {
   "cell_type": "code",
   "execution_count": 5,
   "metadata": {
    "collapsed": false
   },
   "outputs": [],
   "source": [
    "radii = computeradius(data)\n",
    "plotRadii = Plot2D()\n",
    "plotRadii.addImage(radii)\n",
    "plotRadii.show()"
   ]
  },
  {
   "cell_type": "markdown",
   "metadata": {
    "collapsed": false
   },
   "source": [
    "![distance pixel-image center](img/histogram_vs_histogram_nd_radii.png)"
   ]
  },
  {
   "cell_type": "markdown",
   "metadata": {},
   "source": [
    "### plot the histogram of the radii\n",
    "\n",
    "documentation :\n",
    "\n",
    "   - http://pythonhosted.org/silx/modules/math/histogram.html"
   ]
  },
  {
   "cell_type": "code",
   "execution_count": 6,
   "metadata": {
    "collapsed": false
   },
   "outputs": [],
   "source": [
    "nb_bins = int(numpy.ceil(radii.max()))\n",
    "histo_range = [0, nb_bins]\n",
    "histogram=Histogramnd(sample=radii.ravel(),\n",
    "                      n_bins=nb_bins,\n",
    "                      histo_range=histo_range)"
   ]
  },
  {
   "cell_type": "code",
   "execution_count": 7,
   "metadata": {
    "collapsed": false
   },
   "outputs": [],
   "source": [
    "plotHisto = Plot1D()\n",
    "plotHisto.addCurve(x=range(nb_bins), y=histogram.histo, color='red')\n",
    "plotHisto.show()"
   ]
  },
  {
   "cell_type": "markdown",
   "metadata": {},
   "source": [
    "![distance pixel-image center](img/histogram_radii.png)"
   ]
  },
  {
   "cell_type": "markdown",
   "metadata": {},
   "source": [
    "### compute azimutal integration\n",
    "\n",
    "goal : get the mean contribution of each pixels for each radius"
   ]
  },
  {
   "cell_type": "markdown",
   "metadata": {},
   "source": [
    "step 1 : get the contribution of each pixels for each radius"
   ]
  },
  {
   "cell_type": "code",
   "execution_count": 8,
   "metadata": {
    "collapsed": false
   },
   "outputs": [],
   "source": [
    "nb_bins = int(numpy.ceil(radii.max()))\n",
    "histo_range = [0, nb_bins]\n",
    "histogram=Histogramnd(sample=radii.ravel(),\n",
    "                      n_bins=nb_bins,\n",
    "                      histo_range=histo_range,\n",
    "                      weights=data.ravel())"
   ]
  },
  {
   "cell_type": "markdown",
   "metadata": {},
   "source": [
    "step 2 : get the mean and plot it\n",
    "\n",
    "![integration](img/histogram_integration.png)\n"
   ]
  },
  {
   "cell_type": "code",
   "execution_count": 9,
   "metadata": {
    "collapsed": false
   },
   "outputs": [
    {
     "name": "stderr",
     "output_type": "stream",
     "text": [
      "WARNING:silx.gui.plot.Plot:addCurve: deprecated extra arguments\n"
     ]
    }
   ],
   "source": [
    "plotHisto = Plot1D()\n",
    "binscenter=(histogram.edges[0][1:] + histogram.edges[0][0:-1]) / 2.0\n",
    "plotHisto.addCurve(x=binscenter, y=histogram.histo, ledend='h unweighted')\n",
    "plotHisto.addCurve(x=binscenter, y=histogram.weighted_histo, legend='h weighted')\n",
    "normalization=histogram.weighted_histo/histogram.histo\n",
    "plotHisto.addCurve(x=binscenter, y=normalization, legend='integration')\n",
    "plotHisto.show()"
   ]
  },
  {
   "cell_type": "markdown",
   "metadata": {},
   "source": [
    "# Exercice : compute the azimutal integration over n images\n",
    "we want to reproduced the same action but over a stack of image :\n",
    "    - pixel distance two the center is not evolving\n",
    "    - only pixel values are"
   ]
  },
  {
   "cell_type": "code",
   "execution_count": 10,
   "metadata": {
    "collapsed": false
   },
   "outputs": [],
   "source": [
    "dataset = [ createDataSet() for i in range(10) ]"
   ]
  },
  {
   "cell_type": "markdown",
   "metadata": {},
   "source": [
    "## First way : using Histogramnd"
   ]
  },
  {
   "cell_type": "code",
   "execution_count": 11,
   "metadata": {
    "collapsed": true
   },
   "outputs": [],
   "source": [
    "def computeDataSetHisto():\n",
    "    histogram=None\n",
    "    for d in dataset:\n",
    "        if histogram is None:\n",
    "            histogram=Histogramnd(radii.ravel(), \n",
    "                                  n_bins=nb_bins, \n",
    "                                  histo_range=histo_range, \n",
    "                                  weights=d.ravel())\n",
    "        else:\n",
    "            histogram.accumulate(radii.ravel(), weights=d.ravel())\n",
    "            \n",
    "    return histogram"
   ]
  },
  {
   "cell_type": "code",
   "execution_count": 12,
   "metadata": {
    "collapsed": false
   },
   "outputs": [],
   "source": [
    "# plot It\n",
    "plotDataSetHistoNd = Plot1D()\n",
    "histogramDS = computeDataSetHisto()\n",
    "binscenter=(histogramDS.edges[0][1:] + histogramDS.edges[0][0:-1]) / 2.0\n",
    "normalization=histogramDS.weighted_histo/histogramDS.histo\n",
    "plotDataSetHistoNd.addCurve(x=binscenter, y=normalization, color='red')\n",
    "plotDataSetHistoNd.show()"
   ]
  },
  {
   "cell_type": "markdown",
   "metadata": {},
   "source": [
    "## second way : using HistogramndLut"
   ]
  },
  {
   "cell_type": "code",
   "execution_count": 13,
   "metadata": {
    "collapsed": true
   },
   "outputs": [],
   "source": [
    "def computeDataSetHistoLut():      \n",
    "    histogram=HistogramndLut(radii.ravel(), \n",
    "                             n_bins=nb_bins, \n",
    "                             histo_range=histo_range)\n",
    "    for d in dataset:\n",
    "        histogram.accumulate(d.ravel())\n",
    "        \n",
    "    return histogram"
   ]
  },
  {
   "cell_type": "code",
   "execution_count": 14,
   "metadata": {
    "collapsed": false
   },
   "outputs": [],
   "source": [
    "# plot It\n",
    "plotDataSetHistoLut = Plot1D()\n",
    "histogramLut = computeDataSetHistoLut()\n",
    "normalization=histogramLut.weighted_histo()/histogramDS.histo\n",
    "plotDataSetHistoLut.addCurve(binscenter, y=normalization, color='red')\n",
    "plotDataSetHistoLut.show()"
   ]
  },
  {
   "cell_type": "markdown",
   "metadata": {},
   "source": [
    "## Compare results"
   ]
  },
  {
   "cell_type": "code",
   "execution_count": 15,
   "metadata": {
    "collapsed": false
   },
   "outputs": [
    {
     "data": {
      "text/plain": [
       "True"
      ]
     },
     "execution_count": 15,
     "metadata": {},
     "output_type": "execute_result"
    }
   ],
   "source": [
    "numpy.array_equal(histogramLut.weighted_histo(), histogramDS.weighted_histo)"
   ]
  },
  {
   "cell_type": "markdown",
   "metadata": {},
   "source": [
    "## Compare execution time"
   ]
  },
  {
   "cell_type": "code",
   "execution_count": null,
   "metadata": {
    "collapsed": false
   },
   "outputs": [],
   "source": [
    "%timeit computeDataSetHisto()"
   ]
  },
  {
   "cell_type": "code",
   "execution_count": null,
   "metadata": {
    "collapsed": false
   },
   "outputs": [],
   "source": [
    "%timeit computeDataSetHistoLut()"
   ]
  }
 ],
 "metadata": {
  "kernelspec": {
   "display_name": "Python 3",
   "language": "python",
   "name": "python3"
  },
  "language_info": {
   "codemirror_mode": {
    "name": "ipython",
    "version": 3
   },
   "file_extension": ".py",
   "mimetype": "text/x-python",
   "name": "python",
   "nbconvert_exporter": "python",
   "pygments_lexer": "ipython3",
   "version": "3.5.2"
  }
 },
 "nbformat": 4,
 "nbformat_minor": 1
}
