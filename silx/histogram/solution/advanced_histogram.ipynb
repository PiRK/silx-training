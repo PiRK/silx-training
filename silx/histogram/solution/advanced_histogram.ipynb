{
 "cells": [
  {
   "cell_type": "markdown",
   "metadata": {},
   "source": [
    "# histogram with multiple data"
   ]
  },
  {
   "cell_type": "code",
   "execution_count": null,
   "metadata": {
    "collapsed": false
   },
   "outputs": [],
   "source": [
    "%gui qt"
   ]
  },
  {
   "cell_type": "markdown",
   "metadata": {},
   "source": [
    "## Load data from a tiff"
   ]
  },
  {
   "cell_type": "code",
   "execution_count": null,
   "metadata": {
    "collapsed": false
   },
   "outputs": [],
   "source": [
    "import fabio\n",
    "import numpy\n",
    "pathImg1=\"data/IMG_20161103_114423.tiff\"\n",
    "pathImg2=\"data/IMG_20161103_114433.tiff\"\n",
    "image1 = numpy.max(fabio.open(pathImg1).data, axis=-1)\n",
    "image2 = numpy.max(fabio.open(pathImg2).data, axis=-1)"
   ]
  },
  {
   "cell_type": "markdown",
   "metadata": {},
   "source": [
    "## create one histogram for the color intensity\n",
    "- one for the image1\n",
    "- one for the image2\n",
    "- one for the image1 + image 2\n",
    "\n",
    "![color_distribution](img/plot_advanced_color_distribution.png)"
   ]
  },
  {
   "cell_type": "code",
   "execution_count": null,
   "metadata": {
    "collapsed": false
   },
   "outputs": [],
   "source": [
    "from silx.math.histogram import Histogramnd, HistogramndLut\n",
    "import numpy\n",
    "nb_bins=256\n",
    "histogram1=Histogramnd(image1.astype(numpy.float32).flatten(), \n",
    "                       n_bins=nb_bins, \n",
    "                       histo_range=[0,nb_bins])\n",
    "firstImgHisto=histogram1.histo.copy()\n",
    "\n",
    "histogram1.accumulate(image2.astype(numpy.float32).flatten())\n",
    "firstAndSecondImgHisto=histogram1.histo\n",
    "\n",
    "histogram2=Histogramnd(image2.astype(numpy.float32).flatten(), \n",
    "                       n_bins=nb_bins, \n",
    "                       histo_range=[0,nb_bins])\n",
    "secondImgHisto=histogram2.histo"
   ]
  },
  {
   "cell_type": "markdown",
   "metadata": {},
   "source": [
    "## plot it"
   ]
  },
  {
   "cell_type": "code",
   "execution_count": null,
   "metadata": {
    "collapsed": false
   },
   "outputs": [],
   "source": [
    "from silx.gui.plot import Plot1D\n",
    "plot=Plot1D()\n",
    "plot.addCurve(range(nb_bins), firstImgHisto, 'firstImage', color='black')\n",
    "plot.addCurve(range(nb_bins), secondImgHisto, 'secondImage', color='blue')\n",
    "plot.addCurve(range(nb_bins), firstAndSecondImgHisto, \n",
    "              'firstAndSecondImage', color='red')\n",
    "plot.show()"
   ]
  },
  {
   "cell_type": "markdown",
   "metadata": {},
   "source": [
    "# histogram for weights weights\n",
    "\n",
    "- simple example : use the pixel values as weights on multiple data"
   ]
  },
  {
   "cell_type": "markdown",
   "metadata": {},
   "source": [
    "## using histogramnd"
   ]
  },
  {
   "cell_type": "markdown",
   "metadata": {},
   "source": [
    "### Load data"
   ]
  },
  {
   "cell_type": "code",
   "execution_count": null,
   "metadata": {
    "collapsed": true
   },
   "outputs": [],
   "source": [
    "# from h5\n",
    "dataPath=\"data/Pilatus1M.hdf5\"\n",
    "import h5py\n",
    "import numpy\n",
    "#select the cube values:\n",
    "f=h5py.File(dataPath)\n",
    "data=f['data']\n",
    "data = numpy.array(data, order='C', dtype='float64')"
   ]
  },
  {
   "cell_type": "code",
   "execution_count": null,
   "metadata": {
    "collapsed": true
   },
   "outputs": [],
   "source": [
    "import numpy\n",
    "def computeradius(data, xcenter, ycenter):\n",
    "    \n",
    "    # do the azimutal integration\n",
    "    xcenter=180\n",
    "    ycenter=260\n",
    "    y, x=numpy.ogrid[:data.shape[0], :data.shape[1]]\n",
    "    r=numpy.sqrt((x-xcenter)**2+(y-ycenter)**2)\n",
    "    return r"
   ]
  },
  {
   "cell_type": "code",
   "execution_count": null,
   "metadata": {
    "collapsed": false
   },
   "outputs": [],
   "source": [
    "radii=computeradius(data, xcenter=180, ycenter=260)\n",
    "nb_bins=int(numpy.ceil(radii.max()))\n",
    "histo_range=[0,nb_bins]"
   ]
  },
  {
   "cell_type": "code",
   "execution_count": null,
   "metadata": {
    "collapsed": true
   },
   "outputs": [],
   "source": [
    "def computeHisto_weigh():\n",
    "    dataset=[]\n",
    "    for i in range(10):\n",
    "        dataset.append(data)\n",
    "\n",
    "    histogram=None\n",
    "    for d in dataset:\n",
    "        if histogram is None:\n",
    "            histogram=Histogramnd(radii.ravel(), \n",
    "                                  n_bins=nb_bins, \n",
    "                                  histo_range=histo_range, \n",
    "                                  weights=d.ravel())\n",
    "        else:\n",
    "            histogram.accumulate(radii.ravel(), weights=d.ravel())\n",
    "            \n",
    "    return histogram"
   ]
  },
  {
   "cell_type": "code",
   "execution_count": null,
   "metadata": {
    "collapsed": true
   },
   "outputs": [],
   "source": [
    "h1=computeHisto_weigh()"
   ]
  },
  {
   "cell_type": "code",
   "execution_count": null,
   "metadata": {
    "collapsed": false
   },
   "outputs": [],
   "source": [
    "p=Plot1D()\n",
    "binscenter=(h1.edges[0][1:] + h1.edges[0][0:-1]) / 2.0\n",
    "p.addCurve(x=binscenter, y=h1.weighted_histo, color='red', name='h1')\n",
    "p.setActiveCurve(None)\n",
    "p.show()"
   ]
  },
  {
   "cell_type": "markdown",
   "metadata": {
    "collapsed": true
   },
   "source": [
    "## using histogramnd_lut\n",
    "\n",
    "- Histramnd_lut create a look up table to set the association once for all then use it during the accumulate function"
   ]
  },
  {
   "cell_type": "code",
   "execution_count": null,
   "metadata": {
    "collapsed": false
   },
   "outputs": [],
   "source": [
    "def computeHistoLut_weigh():\n",
    "    dataset=[]\n",
    "    for i in range(10):\n",
    "        dataset.append(data)\n",
    "        \n",
    "    histogram=HistogramndLut(radii.ravel(), \n",
    "                             n_bins=nb_bins, \n",
    "                             histo_range=histo_range)\n",
    "    for d in dataset:\n",
    "        histogram.accumulate(d.ravel())\n",
    "        \n",
    "    return histogram"
   ]
  },
  {
   "cell_type": "code",
   "execution_count": null,
   "metadata": {
    "collapsed": false
   },
   "outputs": [],
   "source": [
    "h2=computeHistoLut_weigh()"
   ]
  },
  {
   "cell_type": "code",
   "execution_count": null,
   "metadata": {
    "collapsed": false
   },
   "outputs": [],
   "source": [
    "p2=Plot1D()\n",
    "l=h2.weighted_histo()\n",
    "p2.addCurve(x=binscenter, y=h2.weighted_histo(), color='blue', name='h2')\n",
    "p2.setActiveCurve(None)\n",
    "p2.show()"
   ]
  },
  {
   "cell_type": "markdown",
   "metadata": {},
   "source": [
    "## Then test it with timeit"
   ]
  },
  {
   "cell_type": "code",
   "execution_count": null,
   "metadata": {
    "collapsed": false
   },
   "outputs": [],
   "source": [
    "%timeit computeHisto_weigh()"
   ]
  },
  {
   "cell_type": "code",
   "execution_count": null,
   "metadata": {
    "collapsed": false
   },
   "outputs": [],
   "source": [
    "%timeit computeHistoLut_weigh()"
   ]
  },
  {
   "cell_type": "code",
   "execution_count": null,
   "metadata": {
    "collapsed": false
   },
   "outputs": [],
   "source": [
    "numpy.array_equal(h2.weighted_histo(), h1.weighted_histo)"
   ]
  },
  {
   "cell_type": "code",
   "execution_count": null,
   "metadata": {
    "collapsed": false
   },
   "outputs": [],
   "source": [
    "numpy.setdiff1d(h2.weighted_histo(), h1.weighted_histo)"
   ]
  },
  {
   "cell_type": "code",
   "execution_count": null,
   "metadata": {
    "collapsed": true
   },
   "outputs": [],
   "source": []
  }
 ],
 "metadata": {
  "kernelspec": {
   "display_name": "Python 3",
   "language": "python",
   "name": "python3"
  },
  "language_info": {
   "codemirror_mode": {
    "name": "ipython",
    "version": 3
   },
   "file_extension": ".py",
   "mimetype": "text/x-python",
   "name": "python",
   "nbconvert_exporter": "python",
   "pygments_lexer": "ipython3",
   "version": "3.5.2"
  }
 },
 "nbformat": 4,
 "nbformat_minor": 1
}
