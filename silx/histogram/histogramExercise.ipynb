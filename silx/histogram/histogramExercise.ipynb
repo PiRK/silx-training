{
 "cells": [
  {
   "cell_type": "markdown",
   "metadata": {},
   "source": [
    "# open and show data (convert it to h5 to be loaded)"
   ]
  },
  {
   "cell_type": "markdown",
   "metadata": {},
   "source": [
    "## open the Pilatus1M dataset"
   ]
  },
  {
   "cell_type": "markdown",
   "metadata": {},
   "source": [
    "![hdf5treeView](img/hdf5_data.png)"
   ]
  },
  {
   "cell_type": "code",
   "execution_count": null,
   "metadata": {
    "collapsed": false
   },
   "outputs": [],
   "source": [
    "# from h5\n",
    "dataPath=\"data/Pilatus1M.hdf5\"\n",
    "import h5py\n",
    "import numpy\n",
    "#select the cube values:\n",
    "f=h5py.File(dataPath)\n",
    "# then select the 'Data/qspace' datagroup (array containing the cubes of the isosurface )\n",
    "data=f['data']\n",
    "data = numpy.array(data, order='C', dtype='float32')"
   ]
  },
  {
   "cell_type": "markdown",
   "metadata": {},
   "source": [
    "## Plot the data\n",
    " - using log scale\n",
    " \n",
    "![data plot by silx.gui.plot.Plot2D](img/pilatus_data.png)"
   ]
  },
  {
   "cell_type": "code",
   "execution_count": null,
   "metadata": {
    "collapsed": false
   },
   "outputs": [],
   "source": [
    "# using silx\n",
    "from silx.gui.plot import Plot2D\n",
    "plot=Plot2D()\n",
    "plot.setKeepDataAspectRatio(True)\n",
    "colormap = {\n",
    "    'name': 'inferno',             \n",
    "    'normalization': 'log',  \n",
    "    'autoscale': True,       \n",
    "    'vmin': 0.0,             \n",
    "    'vmax': 1.0              \n",
    " }\n",
    "plot.setDefaultColormap(colormap)\n",
    "plot.addImage(data)\n",
    "plot.show()"
   ]
  },
  {
   "cell_type": "markdown",
   "metadata": {},
   "source": [
    "# compute radii to center for each pixels\n",
    "\n",
    "- center is at (180, 260)\n",
    "- $r=\\sqrt{(x-xc)^2+(y-yc)^2}$"
   ]
  },
  {
   "cell_type": "code",
   "execution_count": null,
   "metadata": {
    "collapsed": false
   },
   "outputs": [],
   "source": [
    "def computeradius(data, xcenter, ycenter):\n",
    "    import numpy\n",
    "    # do the azimutal integration\n",
    "    xcenter=180\n",
    "    ycenter=260\n",
    "    r=numpy.zeros(data.shape)\n",
    "    for y in range(data.shape[0]):\n",
    "        for x in range(data.shape[1]):\n",
    "            r[y,x]=numpy.sqrt(numpy.square(x-xcenter)+numpy.square(y-ycenter))\n",
    "    return r"
   ]
  },
  {
   "cell_type": "code",
   "execution_count": 1,
   "metadata": {
    "collapsed": true
   },
   "outputs": [],
   "source": [
    "# V2\n",
    "import numpy\n",
    "def computeradius(data, xcenter, ycenter):\n",
    "    \n",
    "    # do the azimutal integration\n",
    "    xcenter=180\n",
    "    ycenter=260\n",
    "    y, x=numpy.ogrid[:data.shape[0], :data.shape[1]]\n",
    "    r=numpy.sqrt((x-xcenter)**2+(y-ycenter)**2)\n",
    "    return r"
   ]
  },
  {
   "cell_type": "code",
   "execution_count": null,
   "metadata": {
    "collapsed": false
   },
   "outputs": [],
   "source": [
    "# do the azimutal integration\n",
    "radii=computeradius(data, xcenter=180, ycenter=260)"
   ]
  },
  {
   "cell_type": "markdown",
   "metadata": {},
   "source": [
    "# create the histogram of the radii\n",
    "\n",
    "- histo_range=[0, int(numpy.ceil(radii.max()))]"
   ]
  },
  {
   "cell_type": "code",
   "execution_count": null,
   "metadata": {
    "collapsed": false
   },
   "outputs": [],
   "source": [
    "nb_bins=int(numpy.ceil(radii.max()))\n",
    "histo_range=[0, nb_bins]\n",
    "..."
   ]
  },
  {
   "cell_type": "markdown",
   "metadata": {},
   "source": [
    "# plot the histogram of the radii\n",
    "\n",
    "![radii histogram](img/radiiDistribution.png)"
   ]
  },
  {
   "cell_type": "code",
   "execution_count": null,
   "metadata": {
    "collapsed": true
   },
   "outputs": [],
   "source": [
    "from silx.gui.plot import Plot1D \n",
    "p=Plot1D()\n",
    "p.addCurve(...)\n",
    "p.show()"
   ]
  },
  {
   "cell_type": "markdown",
   "metadata": {},
   "source": [
    "# azimutal integration using weights\n",
    "\n",
    "- A simplification is to get the mean contribution of each pixels for each radius\n",
    "\n",
    "![azimutal integration](img/AzimutalintegrationLog.png)"
   ]
  },
  {
   "cell_type": "code",
   "execution_count": null,
   "metadata": {
    "collapsed": false
   },
   "outputs": [],
   "source": [
    "..."
   ]
  }
 ],
 "metadata": {
  "kernelspec": {
   "display_name": "Python 3",
   "language": "python",
   "name": "python3"
  },
  "language_info": {
   "codemirror_mode": {
    "name": "ipython",
    "version": 3
   },
   "file_extension": ".py",
   "mimetype": "text/x-python",
   "name": "python",
   "nbconvert_exporter": "python",
   "pygments_lexer": "ipython3",
   "version": "3.4.2"
  }
 },
 "nbformat": 4,
 "nbformat_minor": 1
}
