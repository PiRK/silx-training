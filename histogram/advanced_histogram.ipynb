{
 "cells": [
  {
   "cell_type": "markdown",
   "metadata": {},
   "source": [
    "# histogram with multiple data"
   ]
  },
  {
   "cell_type": "code",
   "execution_count": 2,
   "metadata": {
    "collapsed": false
   },
   "outputs": [],
   "source": [
    "%gui qt"
   ]
  },
  {
   "cell_type": "markdown",
   "metadata": {},
   "source": [
    "## Load data from a tiff"
   ]
  },
  {
   "cell_type": "code",
   "execution_count": 20,
   "metadata": {
    "collapsed": false
   },
   "outputs": [
    {
     "name": "stderr",
     "output_type": "stream",
     "text": [
      "WARNING:tifimage:Third dimension is the color\n",
      "WARNING:tifimage:Third dimension is the color\n"
     ]
    }
   ],
   "source": [
    "import fabio\n",
    "image1 = numpy.max(fabio.open(\"data/IMG_20161103_114423.tiff\").data, axis=-1)\n",
    "image2 = numpy.max(fabio.open(\"data/IMG_20161103_114433.tiff\").data, axis=-1)"
   ]
  },
  {
   "cell_type": "markdown",
   "metadata": {},
   "source": [
    "## create one histogram for the color intensity\n",
    "- one for the image1\n",
    "- one for the image2\n",
    "- one for the image1 + image 2\n",
    "\n",
    "![color_distribution](img/plot_advanced_color_distribution.png)"
   ]
  },
  {
   "cell_type": "code",
   "execution_count": 21,
   "metadata": {
    "collapsed": false
   },
   "outputs": [],
   "source": [
    "from silx.math.histogram import Histogramnd, HistogramndLut\n",
    "import numpy\n",
    "nb_bins=256\n",
    "histogram1=Histogramnd(image1.astype(numpy.float32).flatten(), n_bins=nb_bins, histo_range=[0,nb_bins])\n",
    "firstImageHisto=histogram1.histo.copy()\n",
    "\n",
    "histogram1.accumulate(image2.astype(numpy.float32).flatten())\n",
    "firstAndSecondImageHisto=histogram1.histo\n",
    "\n",
    "histogram2=Histogramnd(image2.astype(numpy.float32).flatten(), n_bins=nb_bins, histo_range=[0,nb_bins])\n",
    "secondImageHisto=histogram2.histo"
   ]
  },
  {
   "cell_type": "markdown",
   "metadata": {},
   "source": [
    "## plot it"
   ]
  },
  {
   "cell_type": "code",
   "execution_count": 22,
   "metadata": {
    "collapsed": false
   },
   "outputs": [],
   "source": [
    "from silx.gui.plot import Plot1D\n",
    "plot=Plot1D()\n",
    "plot.addCurve(range(nb_bins), firstImageHisto, 'firstImage', color='black')\n",
    "plot.addCurve(range(nb_bins), secondImageHisto, 'secondImage', color='blue')\n",
    "plot.addCurve(range(nb_bins), firstAndSecondImageHisto, 'firstAndSecondImage', color='red')\n",
    "plot.show()"
   ]
  },
  {
   "cell_type": "markdown",
   "metadata": {},
   "source": [
    "# include weights\n",
    "\n",
    "- simple example : use the pixel values as weights"
   ]
  },
  {
   "cell_type": "markdown",
   "metadata": {},
   "source": [
    "## using histogramnd"
   ]
  },
  {
   "cell_type": "code",
   "execution_count": 6,
   "metadata": {
    "collapsed": true
   },
   "outputs": [],
   "source": [
    "def computeHisto_weigh():\n",
    "    data=[]\n",
    "    for i in range(10):\n",
    "        data.append(image1)\n",
    "        data.append(image2)\n",
    "\n",
    "    histogram=None\n",
    "    for d in data:\n",
    "        if histogram is None:\n",
    "            histogram=Histogramnd(d.astype(numpy.float32).flatten(), n_bins=nb_bins, histo_range=[0,nb_bins], weights=d.astype(numpy.float32).flatten())\n",
    "        else:\n",
    "            histogram.accumulate(d.astype(numpy.float32).flatten(), weights=d.astype(numpy.float32).flatten())"
   ]
  },
  {
   "cell_type": "code",
   "execution_count": 7,
   "metadata": {
    "collapsed": false
   },
   "outputs": [
    {
     "name": "stdout",
     "output_type": "stream",
     "text": [
      "1 loop, best of 3: 582 ms per loop\n"
     ]
    }
   ],
   "source": [
    "%timeit computeHisto_weigh()"
   ]
  },
  {
   "cell_type": "markdown",
   "metadata": {
    "collapsed": true
   },
   "source": [
    "## using histogramnd_lut\n",
    "\n",
    "- Histramnd_lut create a look up table to set the association once for all then use it during the accumulate function"
   ]
  },
  {
   "cell_type": "code",
   "execution_count": 8,
   "metadata": {
    "collapsed": false
   },
   "outputs": [],
   "source": [
    "def computeHistoLut_weigh():\n",
    "    data=[]\n",
    "    for i in range(10):\n",
    "        data.append(image1)\n",
    "        data.append(image2)\n",
    "        \n",
    "    histogram=HistogramndLut(image1.astype(numpy.float32).flatten(), n_bins=nb_bins, histo_range=[0,nb_bins])\n",
    "    for d in data:\n",
    "        histogram.accumulate(d.astype(numpy.float32).flatten())"
   ]
  },
  {
   "cell_type": "code",
   "execution_count": 9,
   "metadata": {
    "collapsed": false
   },
   "outputs": [
    {
     "name": "stdout",
     "output_type": "stream",
     "text": [
      "1 loop, best of 3: 283 ms per loop\n"
     ]
    }
   ],
   "source": [
    "%timeit computeHistoLut_weigh()"
   ]
  },
  {
   "cell_type": "code",
   "execution_count": null,
   "metadata": {
    "collapsed": true
   },
   "outputs": [],
   "source": []
  }
 ],
 "metadata": {
  "kernelspec": {
   "display_name": "Python 3",
   "language": "python",
   "name": "python3"
  },
  "language_info": {
   "codemirror_mode": {
    "name": "ipython",
    "version": 3
   },
   "file_extension": ".py",
   "mimetype": "text/x-python",
   "name": "python",
   "nbconvert_exporter": "python",
   "pygments_lexer": "ipython3",
   "version": "3.5.2"
  }
 },
 "nbformat": 4,
 "nbformat_minor": 1
}
