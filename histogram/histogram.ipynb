{
 "cells": [
  {
   "cell_type": "code",
   "execution_count": 151,
   "metadata": {
    "collapsed": false
   },
   "outputs": [],
   "source": [
    "%gui qt"
   ]
  },
  {
   "cell_type": "markdown",
   "metadata": {},
   "source": [
    "## step1 : open and show data (convert it to h5 to be loaded)"
   ]
  },
  {
   "cell_type": "markdown",
   "metadata": {},
   "source": [
    "#### opt1 : from edf"
   ]
  },
  {
   "cell_type": "code",
   "execution_count": 152,
   "metadata": {
    "collapsed": false
   },
   "outputs": [],
   "source": [
    "# from edf\n",
    "import fabio\n",
    "data=fabio.open(\"data/Pilatus1M.edf\").data"
   ]
  },
  {
   "cell_type": "markdown",
   "metadata": {},
   "source": [
    "#### opt2 : from h5"
   ]
  },
  {
   "cell_type": "code",
   "execution_count": 138,
   "metadata": {
    "collapsed": false
   },
   "outputs": [],
   "source": [
    "# from h5\n",
    "dataPath=\"data/Pilatus1M.hdf5\"\n",
    "import h5py\n",
    "#select the cube values:\n",
    "f=h5py.File(dataPath)\n",
    "# then select the 'Data/qspace' datagroup (array containing the cubes of the isosurface )\n",
    "data=f['data']\n",
    "data = numpy.array(data, order='C', dtype='float32')"
   ]
  },
  {
   "cell_type": "code",
   "execution_count": 140,
   "metadata": {
    "collapsed": false
   },
   "outputs": [],
   "source": [
    "# first display the image using plot2D\n",
    "from silx.gui.plot import Plot2D\n",
    "plot=Plot2D()\n",
    "plot.addImage(data)\n",
    "plot.show()"
   ]
  },
  {
   "cell_type": "code",
   "execution_count": 143,
   "metadata": {
    "collapsed": false
   },
   "outputs": [],
   "source": [
    "# play with hdf5\n",
    "from silx.gui.hdf5 import Hdf5TreeView\n",
    "viewer=Hdf5TreeView()\n",
    "viewer.findHdf5TreeModel().insertFile(dataPath)\n",
    "viewer.show()"
   ]
  },
  {
   "cell_type": "markdown",
   "metadata": {},
   "source": [
    "## step 2 : compute radii"
   ]
  },
  {
   "cell_type": "code",
   "execution_count": 144,
   "metadata": {
    "collapsed": false
   },
   "outputs": [],
   "source": [
    "def computeradius(data, xcenter, ycenter):\n",
    "    import numpy\n",
    "    # do the azimutal integration\n",
    "    xcenter=180\n",
    "    ycenter=260\n",
    "    r=numpy.zeros(data.shape)\n",
    "    for y in range(data.shape[0]):\n",
    "        for x in range(data.shape[1]):\n",
    "            r[y,x]=numpy.sqrt(numpy.square(x-xcenter)+numpy.square(y-ycenter))\n",
    "    return r"
   ]
  },
  {
   "cell_type": "code",
   "execution_count": 127,
   "metadata": {
    "collapsed": false
   },
   "outputs": [],
   "source": [
    "# do the azimutal integration\n",
    "radii=computeradius(data, xcenter=180, ycenter=260)\n",
    "# if plotted : increase the number of voxel : logical "
   ]
  },
  {
   "cell_type": "markdown",
   "metadata": {},
   "source": [
    "## step 3 : create the histogram of the radii"
   ]
  },
  {
   "cell_type": "code",
   "execution_count": 130,
   "metadata": {
    "collapsed": false
   },
   "outputs": [],
   "source": [
    "from silx.math import histogram\n",
    "nbbins=20\n",
    "histo, w_histo, edges = histogram.Histogramnd(radii.flatten(), n_bins=nbbins, histo_range=[0,256])\n",
    "# histo is the sum of all voxels\n",
    "# w_histo is sum of all voxels * voxel value (or contrinution). <=> azimutal integration\n",
    "# would be nice to have better sample. Create one ?\n",
    "from silx.gui.plot import Plot1D \n",
    "p=Plot1D()\n",
    "p.addCurve(x=range(nbbins), y=histo, legend='colorDistribution')\n",
    "p.show()"
   ]
  },
  {
   "cell_type": "markdown",
   "metadata": {},
   "source": [
    "## step 4 : azimutal integration using weights"
   ]
  },
  {
   "cell_type": "code",
   "execution_count": 135,
   "metadata": {
    "collapsed": false
   },
   "outputs": [],
   "source": [
    "from silx.math import histogram\n",
    "nbbins=150\n",
    "histo, w_histo, edges = histogram.Histogramnd(radii.flatten(), n_bins=nbbins, histo_range=[0,256], weights=data.flatten())\n",
    "# histo is the sum of all voxels\n",
    "# w_histo is sum of all voxels * voxel value (or contrinution). <=> azimutal integration\n",
    "# would be nice to have better sample. Create one ?\n",
    "from silx.gui.plot import Plot1D \n",
    "p=Plot1D()\n",
    "p.addCurve(x=range(nbbins), y=w_histo/histo, legend='integration')\n",
    "p.show()"
   ]
  },
  {
   "cell_type": "markdown",
   "metadata": {},
   "source": [
    "TODO : dire un more sur la difference nd & lut : \n",
    "        lut with look up table. Donc plus rapide si plusieurs associations faite.\n",
    "        Utils si plusieurs weights en fait"
   ]
  }
 ],
 "metadata": {
  "kernelspec": {
   "display_name": "Python 3",
   "language": "python",
   "name": "python3"
  },
  "language_info": {
   "codemirror_mode": {
    "name": "ipython",
    "version": 3
   },
   "file_extension": ".py",
   "mimetype": "text/x-python",
   "name": "python",
   "nbconvert_exporter": "python",
   "pygments_lexer": "ipython3",
   "version": "3.5.2"
  }
 },
 "nbformat": 4,
 "nbformat_minor": 1
}
