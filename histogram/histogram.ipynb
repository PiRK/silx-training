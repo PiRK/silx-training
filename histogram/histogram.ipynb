{
 "cells": [
  {
   "cell_type": "code",
   "execution_count": null,
   "metadata": {
    "collapsed": false
   },
   "outputs": [],
   "source": [
    "%gui qt"
   ]
  },
  {
   "cell_type": "markdown",
   "metadata": {},
   "source": [
    "# open and show data (convert it to h5 to be loaded)"
   ]
  },
  {
   "cell_type": "markdown",
   "metadata": {},
   "source": [
    "## open the Pilatus1M dataset"
   ]
  },
  {
   "cell_type": "markdown",
   "metadata": {},
   "source": [
    "![hdf5treeView](img/hdf5_data.png)"
   ]
  },
  {
   "cell_type": "code",
   "execution_count": null,
   "metadata": {
    "collapsed": false
   },
   "outputs": [],
   "source": [
    "# from h5\n",
    "dataPath=\"data/Pilatus1M.hdf5\"\n",
    "import h5py\n",
    "import numpy\n",
    "#select the cube values:\n",
    "f=h5py.File(dataPath)\n",
    "# then select the 'Data/qspace' datagroup (array containing the cubes of the isosurface )\n",
    "data=f['data']\n",
    "data = numpy.array(data, order='C', dtype='float32')"
   ]
  },
  {
   "cell_type": "code",
   "execution_count": null,
   "metadata": {
    "collapsed": false
   },
   "outputs": [],
   "source": [
    "# play with hdf5\n",
    "from silx.gui.hdf5 import Hdf5TreeView\n",
    "viewer=Hdf5TreeView()\n",
    "viewer.findHdf5TreeModel().insertFile(dataPath)\n",
    "viewer.show()"
   ]
  },
  {
   "cell_type": "markdown",
   "metadata": {},
   "source": [
    "## Plot the data\n",
    " - using log scale\n",
    " \n",
    "![data displayed by silx.gui.plot.Plot2D](img/pilatus_data.png)"
   ]
  },
  {
   "cell_type": "code",
   "execution_count": null,
   "metadata": {
    "collapsed": false
   },
   "outputs": [],
   "source": [
    "# using silx\n",
    "from silx.gui.plot import Plot2D\n",
    "plot=Plot2D()\n",
    "plot.setKeepDataAspectRatio(True)\n",
    "colormap = {\n",
    "    'name': 'inferno',             \n",
    "    'normalization': 'log',  \n",
    "    'autoscale': True,       \n",
    "    'vmin': 0.0,             \n",
    "    'vmax': 1.0              \n",
    " }\n",
    "plot.setDefaultColormap(colormap)\n",
    "plot.addImage(data)\n",
    "plot.show()"
   ]
  },
  {
   "cell_type": "markdown",
   "metadata": {},
   "source": [
    "# compute radii to center for each pixels"
   ]
  },
  {
   "cell_type": "code",
   "execution_count": null,
   "metadata": {
    "collapsed": false
   },
   "outputs": [],
   "source": [
    "def computeradius(data, xcenter, ycenter):\n",
    "    import numpy\n",
    "    # do the azimutal integration\n",
    "    xcenter=180\n",
    "    ycenter=260\n",
    "    r=numpy.zeros(data.shape)\n",
    "#    y, x=numpy.ogrid[:data.shape[0], :data.shape[1]]\n",
    "#    r=numpy.sqrt((x-xcenter)**2+(y-ycenter)**2)\n",
    "    for y in range(data.shape[0]):\n",
    "        for x in range(data.shape[1]):\n",
    "            r[y,x]=numpy.sqrt(numpy.square(x-xcenter)+numpy.square(y-ycenter))\n",
    "    return r"
   ]
  },
  {
   "cell_type": "code",
   "execution_count": null,
   "metadata": {
    "collapsed": true
   },
   "outputs": [],
   "source": [
    "# V2\n",
    "import numpy\n",
    "def computeradius(data, xcenter, ycenter):\n",
    "    \n",
    "    # do the azimutal integration\n",
    "    xcenter=180\n",
    "    ycenter=260\n",
    "    y, x=numpy.ogrid[:data.shape[0], :data.shape[1]]\n",
    "    r=numpy.sqrt((x-xcenter)**2+(y-ycenter)**2)\n",
    "    return r"
   ]
  },
  {
   "cell_type": "code",
   "execution_count": null,
   "metadata": {
    "collapsed": false
   },
   "outputs": [],
   "source": [
    "# do the azimutal integration\n",
    "radii=computeradius(data, xcenter=180, ycenter=260)\n",
    "# if plotted : increase the number of voxel : logical "
   ]
  },
  {
   "cell_type": "markdown",
   "metadata": {},
   "source": [
    "# create the histogram of the radii\n",
    "\n",
    "- histo_range=[0, int(numpy.ceil(radii.max()))]"
   ]
  },
  {
   "cell_type": "code",
   "execution_count": null,
   "metadata": {
    "collapsed": false
   },
   "outputs": [],
   "source": [
    "from silx.math import histogram\n",
    "nbbins=int(numpy.ceil(radii.max()))\n",
    "histo_range=[0,int(numpy.ceil(radii.max()))]\n",
    "histo, w_histo, edges = histogram.Histogramnd(radii.ravel(), n_bins=nbbins, histo_range=histo_range)"
   ]
  },
  {
   "cell_type": "markdown",
   "metadata": {},
   "source": [
    "# plot the histogram"
   ]
  },
  {
   "cell_type": "code",
   "execution_count": null,
   "metadata": {
    "collapsed": true
   },
   "outputs": [],
   "source": [
    "from silx.gui.plot import Plot1D \n",
    "p=Plot1D()\n",
    "p.addCurve(x=range(int(numpy.ceil(radii.max()))), y=histo, legend='colorDistribution')\n",
    "p.show()"
   ]
  },
  {
   "cell_type": "markdown",
   "metadata": {},
   "source": [
    "# azimutal integration using weights\n",
    "\n",
    "- A simplify version is to get the mean contribution of each pixels through radii\n"
   ]
  },
  {
   "cell_type": "code",
   "execution_count": null,
   "metadata": {
    "collapsed": false
   },
   "outputs": [],
   "source": [
    "from silx.math import histogram\n",
    "nbbins=int(numpy.ceil(radii.max()))\n",
    "histo_range=[0,int(numpy.ceil(radii.max()))]\n",
    "histo, w_histo, edges = histogram.Histogramnd(radii.ravel(), weights=data.ravel(), n_bins=nbbins, histo_range=histo_range)\n",
    "binscenter=(edges[0][1:] + edges[0][0:-1]) / 2.0"
   ]
  },
  {
   "cell_type": "code",
   "execution_count": null,
   "metadata": {
    "collapsed": true
   },
   "outputs": [],
   "source": [
    "p=Plot1D()\n",
    "p.addCurve(x=binscenter, y=histo, legend='unweighted',color='red')\n",
    "p.addCurve(x=binscenter, y=w_histo, legend='weighted',color='blue')\n",
    "p.addCurve(x=binscenter, y=w_histo/histo, legend='integration',color='green')\n",
    "p.setActiveCurve(None)\n",
    "p.show()"
   ]
  },
  {
   "cell_type": "code",
   "execution_count": null,
   "metadata": {
    "collapsed": false
   },
   "outputs": [],
   "source": [
    "# the same with numpy.histogram\n",
    "%timeit histoNumpy=numpy.histogram(radii.ravel(), nbbins, weights=data.ravel())\n",
    "binscenter=(histoNumpy[1][1:]+histoNumpy[1][0:-1])/2.0"
   ]
  }
 ],
 "metadata": {
  "kernelspec": {
   "display_name": "Python 3",
   "language": "python",
   "name": "python3"
  },
  "language_info": {
   "codemirror_mode": {
    "name": "ipython",
    "version": 3
   },
   "file_extension": ".py",
   "mimetype": "text/x-python",
   "name": "python",
   "nbconvert_exporter": "python",
   "pygments_lexer": "ipython3",
   "version": "3.5.2"
  }
 },
 "nbformat": 4,
 "nbformat_minor": 1
}
