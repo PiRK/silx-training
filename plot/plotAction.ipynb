{
 "cells": [
  {
   "cell_type": "markdown",
   "metadata": {},
   "source": [
    "# plotAction\n",
    "The goal is to add an action to the plot window\n",
    "For example : \n",
    "   - shift the selected curve\n",
    "   - inverte x and y\n",
    "   - ..."
   ]
  },
  {
   "cell_type": "markdown",
   "metadata": {},
   "source": [
    "## step 1 : create your own plot action\n",
    "    - heritate from PlotAction\n",
    "    - redefine the trigegered function"
   ]
  },
  {
   "cell_type": "code",
   "execution_count": 7,
   "metadata": {
    "collapsed": true
   },
   "outputs": [],
   "source": [
    "%gui qt"
   ]
  },
  {
   "cell_type": "code",
   "execution_count": 6,
   "metadata": {
    "collapsed": false
   },
   "outputs": [],
   "source": [
    "from silx.gui.plot.PlotActions import PlotAction \n",
    "class ShiftUpAction(PlotAction):\n",
    "    \"\"\"QAction shifting up a curve by one unit\n",
    "\n",
    "    :param plot: :class:`.PlotWidget` instance on which to operate\n",
    "    :param parent: See :class:`QAction`\n",
    "    \"\"\"\n",
    "    def __init__(self, plot, parent=None):\n",
    "        PlotAction.__init__(self,\n",
    "                            plot,\n",
    "                            icon='shape-circle',\n",
    "                            text='Shift up',\n",
    "                            tooltip='Shift active curve up by one unit',\n",
    "                            triggered=self.shiftActiveCurveUp,\n",
    "                            parent=parent)\n",
    "\n",
    "    def shiftActiveCurveUp(self):\n",
    "        \"\"\"Get the active curve, add 1 to all y values, use this new y\n",
    "        array to replace the original curve\"\"\"\n",
    "        # By inheriting from PlotAction, we get access to attribute self.plot\n",
    "        # which is a reference to the PlotWindow\n",
    "        activeCurve = self.plot.getActiveCurve()\n",
    "\n",
    "        if activeCurve is not None:\n",
    "            # Unpack curve data.\n",
    "            # Each curve is represented by a tuple of 5 variables:\n",
    "            #  - x and y are the array of abscissa and ordinate values\n",
    "            #  - legend is a unique text identifying a curve\n",
    "            #  - info and params are dictionaries of additional data\n",
    "            #    (user defined, curve style and color...)\n",
    "            x0, y0, legend, info, _params = activeCurve\n",
    "\n",
    "            # Add 1 to all values in the y array\n",
    "            # and assign the result to a new array y1\n",
    "            # (do not modify y0 if you want to preserve the original curve)\n",
    "            y1 = y0 + 1.0\n",
    "\n",
    "            # Re-using the same legend causes the original curve\n",
    "            # to be replaced\n",
    "            self.plot.addCurve(x0, y1, legend=legend,\n",
    "                               info=info)"
   ]
  },
  {
   "cell_type": "markdown",
   "metadata": {},
   "source": [
    "## Step 2 : integrate the action in a plot window"
   ]
  },
  {
   "cell_type": "markdown",
   "metadata": {},
   "source": [
    "### define the plot window"
   ]
  },
  {
   "cell_type": "code",
   "execution_count": 55,
   "metadata": {
    "collapsed": true
   },
   "outputs": [],
   "source": [
    "from silx.gui.plot import Plot1D\n",
    "import numpy\n",
    "def createPlot():\n",
    "    plot=Plot1D()\n",
    "    x=numpy.linspace(0, numpy.pi, 1000)\n",
    "    y=numpy.sin(x)\n",
    "    plot.addCurve(x, y, legend='curve')\n",
    "    return plot"
   ]
  },
  {
   "cell_type": "markdown",
   "metadata": {},
   "source": [
    "### in the menuBar\n",
    "![larger-iso-surface-using-silx-plot3d](img/plotaction_menubar.png)"
   ]
  },
  {
   "cell_type": "code",
   "execution_count": 64,
   "metadata": {
    "collapsed": false
   },
   "outputs": [],
   "source": [
    "from silx.gui import qt\n",
    "plot=createPlot()\n",
    "menubar = plot.menuBar()\n",
    "actions_menu = menubar.addMenu(\"Custom actions\")\n",
    "toolbar = qt.QToolBar(\"My toolbar\")\n",
    "# Initialize our action, give it plotwin as a parameter\n",
    "myaction = ShiftUpAction(plot)\n",
    "# Add action to the menubar and toolbar\n",
    "toolbar.addAction(myaction)\n",
    "actions_menu.addAction(myaction)\n",
    "plot.show()"
   ]
  },
  {
   "cell_type": "markdown",
   "metadata": {},
   "source": [
    "### in the toolBar\n",
    "![larger-iso-surface-using-silx-plot3d](img/plotaction_toolbar.png)"
   ]
  },
  {
   "cell_type": "code",
   "execution_count": 66,
   "metadata": {
    "collapsed": false
   },
   "outputs": [],
   "source": [
    "# V2: including it in the toolbar\n",
    "plot=createPlot()\n",
    "toolBar=plot.toolBar()\n",
    "myaction = ShiftUpAction(plot)\n",
    "toolBar.addAction(myaction)\n",
    "plot.show()"
   ]
  }
 ],
 "metadata": {
  "kernelspec": {
   "display_name": "Python 3",
   "language": "python",
   "name": "python3"
  },
  "language_info": {
   "codemirror_mode": {
    "name": "ipython",
    "version": 3
   },
   "file_extension": ".py",
   "mimetype": "text/x-python",
   "name": "python",
   "nbconvert_exporter": "python",
   "pygments_lexer": "ipython3",
   "version": "3.5.2"
  }
 },
 "nbformat": 4,
 "nbformat_minor": 1
}
