{
 "cells": [
  {
   "cell_type": "markdown",
   "metadata": {},
   "source": [
    "# simple plot of a 2D image \n",
    "\n",
    "- using Plot2D"
   ]
  },
  {
   "cell_type": "markdown",
   "metadata": {},
   "source": [
    "## load data from data/lena.hdf5"
   ]
  },
  {
   "cell_type": "code",
   "execution_count": null,
   "metadata": {
    "collapsed": false
   },
   "outputs": [],
   "source": [
    "import h5py\n",
    "import numpy\n",
    "dataPath='data/lena.hdf5'\n",
    "f=h5py.File(dataPath)\n",
    "image=numpy.array(f['lena'], dtype='float32')"
   ]
  },
  {
   "cell_type": "code",
   "execution_count": null,
   "metadata": {
    "collapsed": false
   },
   "outputs": [],
   "source": [
    "from silx.io.utils import h5ls\n",
    "h5ls(dataPath)"
   ]
  },
  {
   "cell_type": "markdown",
   "metadata": {},
   "source": [
    "## plot the lena image\n",
    "![lena image](img/plot_lena.png)"
   ]
  },
  {
   "cell_type": "code",
   "execution_count": null,
   "metadata": {
    "collapsed": false
   },
   "outputs": [],
   "source": [
    "..."
   ]
  },
  {
   "cell_type": "markdown",
   "metadata": {},
   "source": [
    "# display the pixel intensity distribution"
   ]
  },
  {
   "cell_type": "markdown",
   "metadata": {},
   "source": [
    "## create the histogramnd \n",
    "- using silx.math.histogram.Histogramnd\n",
    "\n",
    "- http://www.silx.org/doc/silx/dev/modules/math/histogram.html"
   ]
  },
  {
   "cell_type": "code",
   "execution_count": null,
   "metadata": {
    "collapsed": false
   },
   "outputs": [],
   "source": [
    "from silx.math.histogram import Histogramnd\n",
    "histo, w_histo, edges = Histogramnd(image.flatten(), n_bins=256, histo_range=[0,256])"
   ]
  },
  {
   "cell_type": "markdown",
   "metadata": {},
   "source": [
    "## plot the histogram\n",
    "- using silx.gui.plot.Plot1d"
   ]
  },
  {
   "cell_type": "code",
   "execution_count": null,
   "metadata": {
    "collapsed": false
   },
   "outputs": [],
   "source": [
    "..."
   ]
  },
  {
   "cell_type": "markdown",
   "metadata": {},
   "source": [
    "# create a PlotAction which plot the histogram for the current image\n",
    "\n",
    "- using silx.gui.plot.PlotActions.PlotAction\n",
    "\n",
    "- doc@ http://www.silx.org/doc/silx/dev/modules/gui/plot/plotactions_examples.html\n",
    "    \n",
    "![lena image and pixels intensity](img/plot_image-pixel_intensity.png)"
   ]
  },
  {
   "cell_type": "code",
   "execution_count": null,
   "metadata": {
    "collapsed": false
   },
   "outputs": [],
   "source": [
    "from silx.gui.plot.PlotActions import PlotAction \n",
    "from silx.math.histogram import Histogramnd \n",
    "from silx.gui.plot import Plot1D\n",
    "\n",
    "class ComputeHistogramAction(PlotAction):\n",
    "    \"\"\"Computes the intensity distribution on the current image\n",
    "\n",
    "    :param plot: :class:`.PlotWidget` instance on which to operate\n",
    "    :param parent: See :class:`QAction`\n",
    "    \"\"\"\n",
    "    def __init__(self, plot, parent=None):\n",
    "        PlotAction.__init__(...)\n",
    "\n",
    "    def computeIntensityDistribution(self):\n",
    "        \"\"\"Get the active image and compute the image \n",
    "        intensity distribution\"\"\"\n",
    "        # By inheriting from PlotAction, we get access to attribute \n",
    "        # self.plot\n",
    "        # which is a reference to the PlotWindow\n",
    "        ..."
   ]
  },
  {
   "cell_type": "markdown",
   "metadata": {},
   "source": [
    "## Add this action into the toolBar of the window"
   ]
  },
  {
   "cell_type": "code",
   "execution_count": null,
   "metadata": {
    "collapsed": false
   },
   "outputs": [],
   "source": [
    "..."
   ]
  },
  {
   "cell_type": "markdown",
   "metadata": {},
   "source": [
    "# show automatically the histogram when the image change\n",
    "\n",
    "- using plotImage.sigActiveImageChanged.connect(plotHisto)"
   ]
  },
  {
   "cell_type": "code",
   "execution_count": null,
   "metadata": {
    "collapsed": false
   },
   "outputs": [],
   "source": [
    "..."
   ]
  },
  {
   "cell_type": "markdown",
   "metadata": {},
   "source": [
    "# For information : the class diagram of the Plot module"
   ]
  },
  {
   "cell_type": "markdown",
   "metadata": {},
   "source": [
    "![plot class diagram](img/plotGraph.png)"
   ]
  },
  {
   "cell_type": "code",
   "execution_count": null,
   "metadata": {
    "collapsed": true
   },
   "outputs": [],
   "source": []
  }
 ],
 "metadata": {
  "kernelspec": {
   "display_name": "Python 3",
   "language": "python",
   "name": "python3"
  },
  "language_info": {
   "codemirror_mode": {
    "name": "ipython",
    "version": 3
   },
   "file_extension": ".py",
   "mimetype": "text/x-python",
   "name": "python",
   "nbconvert_exporter": "python",
   "pygments_lexer": "ipython3",
   "version": "3.5.2"
  }
 },
 "nbformat": 4,
 "nbformat_minor": 1
}
