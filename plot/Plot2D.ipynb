{
 "cells": [
  {
   "cell_type": "code",
   "execution_count": 6,
   "metadata": {
    "collapsed": true
   },
   "outputs": [],
   "source": [
    "%gui qt"
   ]
  },
  {
   "cell_type": "markdown",
   "metadata": {},
   "source": [
    "## simple plot of a 2D image\n",
    "![plot2D](img/plot2D_sino.png)"
   ]
  },
  {
   "cell_type": "markdown",
   "metadata": {},
   "source": [
    "### load and display data from data/sinogram.edf"
   ]
  },
  {
   "cell_type": "code",
   "execution_count": 7,
   "metadata": {
    "collapsed": false
   },
   "outputs": [],
   "source": [
    "import numpy\n",
    "from silx.gui.plot import Plot2D\n",
    "\n",
    "from fabio import edfimage \n",
    "edfReader=edfimage.edfimage().read('data/sinogram.edf')\n",
    "data=edfReader.getData()\n",
    "\n",
    "plot=Plot2D()\n",
    "plot.addImage(data)  # Plot the 2D data set with default colormap\n",
    "plot.show()"
   ]
  },
  {
   "cell_type": "code",
   "execution_count": 9,
   "metadata": {
    "collapsed": true
   },
   "outputs": [],
   "source": [
    "# changing color map\n",
    "plot.clear()\n",
    "colormap = {'name': 'viridis', 'normalization': 'linear',\n",
    "            'autoscale': True, 'vmin': 0.0, 'vmax': 1.0}\n",
    "plot.setDefaultColormap(colormap)\n",
    "plot.setKeepDataAspectRatio(True)\n",
    "plot.addImage(data)  # Plot the 2D data set with default colormap\n",
    "plot.show()"
   ]
  },
  {
   "cell_type": "code",
   "execution_count": 7,
   "metadata": {
    "collapsed": true
   },
   "outputs": [],
   "source": [
    "# with sx\n",
    "# data = numpy.random.random(1024 * 1024).reshape(1024, 1024)\n",
    "# plt = sx.imshow(data, title='Random data')"
   ]
  },
  {
   "cell_type": "markdown",
   "metadata": {},
   "source": [
    "### origin keyword"
   ]
  },
  {
   "cell_type": "code",
   "execution_count": 11,
   "metadata": {
    "collapsed": false
   },
   "outputs": [],
   "source": [
    "# origin\n",
    "# Create a RGB image\n",
    "rgb_image = (numpy.random.random(1000*1000*3) * 255).astype(numpy.uint8)\n",
    "rgb_image.shape = 1000, 1000, 3\n",
    "\n",
    "plot.addImage(rgb_image, origin=(100, 100))  # Plot the RGB image instead of the previous data\n",
    "plot.show()"
   ]
  },
  {
   "cell_type": "markdown",
   "metadata": {},
   "source": [
    "### scale keyword"
   ]
  },
  {
   "cell_type": "code",
   "execution_count": 12,
   "metadata": {
    "collapsed": true
   },
   "outputs": [],
   "source": [
    "plot.clear()\n",
    "plot.addImage(rgb_image, origin=(100, 100), scale=(0.1, 0.1))  # Plot the RGB image instead of the previous data\n",
    "plot.show()"
   ]
  },
  {
   "cell_type": "markdown",
   "metadata": {},
   "source": [
    "### multiple image\n",
    "display the followin image (data is in data/lena.hdf5)\n",
    "![lena_double](img/plot2D_lena_double.png)"
   ]
  },
  {
   "cell_type": "markdown",
   "metadata": {},
   "source": [
    "### load data"
   ]
  },
  {
   "cell_type": "code",
   "execution_count": 11,
   "metadata": {
    "collapsed": false
   },
   "outputs": [],
   "source": [
    "# input using .hdf5\n",
    "import h5py\n",
    "dataPath='data/lena.hdf5'\n",
    "f=h5py.File(dataPath)\n",
    "data=data = numpy.array(f['lena'], dtype='float64') \n",
    "data2=data.T"
   ]
  },
  {
   "cell_type": "markdown",
   "metadata": {},
   "source": [
    "### plot data"
   ]
  },
  {
   "cell_type": "code",
   "execution_count": 12,
   "metadata": {
    "collapsed": false
   },
   "outputs": [
    {
     "data": {
      "text/plain": [
       "'black'"
      ]
     },
     "execution_count": 12,
     "metadata": {},
     "output_type": "execute_result"
    }
   ],
   "source": [
    "plot=Plot2D()\n",
    "plot.addImage(data, origin=(0, 0), legend='white')  # Plot the RGB image instead of the previous data\n",
    "plot.addImage(data2, origin=data.shape, legend='black', replace=False)  # Plot the RGB image instead of the previous data"
   ]
  },
  {
   "cell_type": "markdown",
   "metadata": {},
   "source": [
    "### Control axes"
   ]
  },
  {
   "cell_type": "code",
   "execution_count": 13,
   "metadata": {
    "collapsed": true
   },
   "outputs": [],
   "source": [
    "plot.setGraphTitle('lenas')\n",
    "plot.setGraphXLabel('X')\n",
    "plot.setGraphYLabel('Y')\n",
    "plot.show()"
   ]
  },
  {
   "cell_type": "markdown",
   "metadata": {},
   "source": [
    "### x and y limits\n",
    "plot:\n",
    "![lena](img/plot2D_lena_area.png)"
   ]
  },
  {
   "cell_type": "code",
   "execution_count": 16,
   "metadata": {
    "collapsed": true
   },
   "outputs": [],
   "source": [
    "plot.setGraphXLimits(250, 350)\n",
    "plot.setGraphYLimits(200, 400)\n",
    "plot.show()"
   ]
  },
  {
   "cell_type": "markdown",
   "metadata": {},
   "source": [
    "# Histogram nd"
   ]
  },
  {
   "cell_type": "code",
   "execution_count": 17,
   "metadata": {
    "collapsed": false
   },
   "outputs": [],
   "source": [
    "# take the grey level image and plot the grey level distribution\n",
    "from silx.math import histogram\n",
    "histo, w_histo, edges = histogram.Histogramnd(data.flatten(), n_bins=256, histo_range=[0,256])\n",
    "from silx.gui.plot import Plot1D \n",
    "p=Plot1D()\n",
    "p.addCurve(x=range(256), y=histo, legend='colorDistribution')\n",
    "p.show()"
   ]
  },
  {
   "cell_type": "code",
   "execution_count": null,
   "metadata": {
    "collapsed": true
   },
   "outputs": [],
   "source": []
  }
 ],
 "metadata": {
  "kernelspec": {
   "display_name": "Python 3",
   "language": "python",
   "name": "python3"
  },
  "language_info": {
   "codemirror_mode": {
    "name": "ipython",
    "version": 3
   },
   "file_extension": ".py",
   "mimetype": "text/x-python",
   "name": "python",
   "nbconvert_exporter": "python",
   "pygments_lexer": "ipython3",
   "version": "3.5.2"
  }
 },
 "nbformat": 4,
 "nbformat_minor": 1
}
