{
 "cells": [
  {
   "cell_type": "code",
   "execution_count": 55,
   "metadata": {
    "collapsed": true
   },
   "outputs": [],
   "source": [
    "%gui qt"
   ]
  },
  {
   "cell_type": "code",
   "execution_count": 26,
   "metadata": {
    "collapsed": true
   },
   "outputs": [],
   "source": [
    "import numpy\n",
    "from silx.gui.plot import Plot2D\n",
    "\n",
    "data = numpy.random.randn(1000, 1000)\n",
    "\n",
    "# using sinogram data\n",
    "#%gui qt\n",
    "#from fabio import edfimage \n",
    "#edfReader=edfimage.edfimage().read('data/sinogram.edf')\n",
    "#data=edfReader.getData()\n",
    "\n",
    "plot=Plot2D()\n",
    "plot.addImage(data)  # Plot the 2D data set with default colormap\n",
    "plot.show()"
   ]
  },
  {
   "cell_type": "code",
   "execution_count": 27,
   "metadata": {
    "collapsed": true
   },
   "outputs": [],
   "source": [
    "# changing color map\n",
    "colormap = {'name': 'viridis', 'normalization': 'linear',\n",
    "            'autoscale': True, 'vmin': 0.0, 'vmax': 1.0}\n",
    "plot.setDefaultColormap(colormap)\n",
    "plot.show()"
   ]
  },
  {
   "cell_type": "code",
   "execution_count": 7,
   "metadata": {
    "collapsed": true
   },
   "outputs": [],
   "source": [
    "# with sx\n",
    "# data = numpy.random.random(1024 * 1024).reshape(1024, 1024)\n",
    "# plt = sx.imshow(data, title='Random data')"
   ]
  },
  {
   "cell_type": "markdown",
   "metadata": {},
   "source": [
    "### origin keyword"
   ]
  },
  {
   "cell_type": "code",
   "execution_count": 28,
   "metadata": {
    "collapsed": false
   },
   "outputs": [],
   "source": [
    "# origin\n",
    "# Create a RGB image\n",
    "rgb_image = (numpy.random.random(1000*1000*3) * 255).astype(numpy.uint8)\n",
    "rgb_image.shape = 1000, 1000, 3\n",
    "\n",
    "plot.addImage(rgb_image, origin=(100, 100))  # Plot the RGB image instead of the previous data\n",
    "plot.show()"
   ]
  },
  {
   "cell_type": "markdown",
   "metadata": {},
   "source": [
    "### scale keyword"
   ]
  },
  {
   "cell_type": "code",
   "execution_count": 31,
   "metadata": {
    "collapsed": true
   },
   "outputs": [],
   "source": [
    "plot.clear()\n",
    "plot.addImage(rgb_image, origin=(100, 100), scale=(0.1, 0.1))  # Plot the RGB image instead of the previous data\n",
    "plot.show()"
   ]
  },
  {
   "cell_type": "markdown",
   "metadata": {},
   "source": [
    "### multiple image\n",
    "Can be a good exercice"
   ]
  },
  {
   "cell_type": "code",
   "execution_count": 74,
   "metadata": {
    "collapsed": false
   },
   "outputs": [],
   "source": [
    "# Input using .spec TODO : prendre une autre image ou la creer (h5 ???).\n",
    "from silx.io import specfile\n",
    "reader=specfile.SpecFile('data/31oct98.dat')\n",
    "scan=reader['22.1']\n",
    "\n",
    "data=scan.data\n",
    "data2=scan.data.T"
   ]
  },
  {
   "cell_type": "code",
   "execution_count": 96,
   "metadata": {
    "collapsed": false
   },
   "outputs": [],
   "source": [
    "# input using .hdf5\n",
    "import h5py\n",
    "dataPath='data/lena.hdf5'\n",
    "f=h5py.File(dataPath)\n",
    "from silx.io.utils import h5ls\n",
    "data=data = numpy.array(f['lena'], dtype='float64') \n",
    "\n",
    "data2=data.T"
   ]
  },
  {
   "cell_type": "code",
   "execution_count": 97,
   "metadata": {
    "collapsed": true
   },
   "outputs": [],
   "source": [
    "plot=Plot2D()\n",
    "plot.addImage(data, origin=(0, 0), legend='white')  # Plot the RGB image instead of the previous data\n",
    "plot.addImage(data2, origin=data.shape, legend='black', replace=False)  # Plot the RGB image instead of the previous data\n",
    "plot.show()"
   ]
  },
  {
   "cell_type": "markdown",
   "metadata": {},
   "source": [
    "### Control axes"
   ]
  },
  {
   "cell_type": "code",
   "execution_count": 99,
   "metadata": {
    "collapsed": true
   },
   "outputs": [],
   "source": [
    "plot.setGraphTitle('lenas')\n",
    "plot.setGraphXLabel('X')\n",
    "plot.setGraphYLabel('Y')"
   ]
  },
  {
   "cell_type": "markdown",
   "metadata": {},
   "source": [
    "# Histogram nd"
   ]
  },
  {
   "cell_type": "code",
   "execution_count": 144,
   "metadata": {
    "collapsed": false
   },
   "outputs": [],
   "source": [
    "# take the grey level image and plot the grey level distribution\n",
    "from silx.math import histogram\n",
    "histo, w_histo, edges = histogram.Histogramnd(data.flatten(), n_bins=256, histo_range=[0,256])\n",
    "from silx.gui.plot import Plot1D \n",
    "p=Plot1D()\n",
    "p.addCurve(x=range(256), y=histo, legend='colorDistribution')\n",
    "p.show()"
   ]
  }
 ],
 "metadata": {
  "kernelspec": {
   "display_name": "Python 3",
   "language": "python",
   "name": "python3"
  },
  "language_info": {
   "codemirror_mode": {
    "name": "ipython",
    "version": 3
   },
   "file_extension": ".py",
   "mimetype": "text/x-python",
   "name": "python",
   "nbconvert_exporter": "python",
   "pygments_lexer": "ipython3",
   "version": "3.5.2"
  }
 },
 "nbformat": 4,
 "nbformat_minor": 1
}
