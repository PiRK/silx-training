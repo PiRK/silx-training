{
 "cells": [
  {
   "cell_type": "markdown",
   "metadata": {},
   "source": [
    "# Plots interaction"
   ]
  },
  {
   "cell_type": "markdown",
   "metadata": {},
   "source": [
    "## Step1 : Plot of a simple image\n",
    "using Plot2D"
   ]
  },
  {
   "cell_type": "code",
   "execution_count": 1,
   "metadata": {
    "collapsed": true
   },
   "outputs": [],
   "source": [
    "%gui qt"
   ]
  },
  {
   "cell_type": "markdown",
   "metadata": {},
   "source": [
    "### Step 1.1 load data from data/lena.hdf5 \n",
    "as a numpy array of float32 (numpy.array(data, dtype='float32'))"
   ]
  },
  {
   "cell_type": "code",
   "execution_count": 20,
   "metadata": {
    "collapsed": false
   },
   "outputs": [
    {
     "data": {
      "text/plain": [
       "'<HDF5 dataset \"lena\": shape (512, 512), type \"<i8\">\\n'"
      ]
     },
     "execution_count": 20,
     "metadata": {},
     "output_type": "execute_result"
    }
   ],
   "source": [
    "# input using .hdf5\n",
    "import h5py\n",
    "import numpy\n",
    "dataPath='data/lena.hdf5'\n",
    "f=h5py.File(dataPath)\n",
    "from silx.io.utils import h5ls\n",
    "h5ls(dataPath)"
   ]
  },
  {
   "cell_type": "code",
   "execution_count": 21,
   "metadata": {
    "collapsed": false
   },
   "outputs": [],
   "source": [
    "image=numpy.array(f['lena'], dtype='float32')"
   ]
  },
  {
   "cell_type": "markdown",
   "metadata": {},
   "source": [
    "### Step 1.2 plot the image\n",
    "![simple-image](img/plot_lena.png)"
   ]
  },
  {
   "cell_type": "code",
   "execution_count": 22,
   "metadata": {
    "collapsed": false
   },
   "outputs": [],
   "source": [
    "from silx.gui.plot import Plot2D\n",
    "plotImage=Plot2D()\n",
    "plotImage.addImage(image, origin=(0, 0), legend='lena')  # Plot the RGB image instead of the previous data\n",
    "plotImage.show()"
   ]
  },
  {
   "cell_type": "markdown",
   "metadata": {},
   "source": [
    "## Step 2 : plot of the intensity distribution"
   ]
  },
  {
   "cell_type": "markdown",
   "metadata": {},
   "source": [
    "### Step 2.1 create the histogramnd \n",
    "using silx.math.histogram.Histogramnd"
   ]
  },
  {
   "cell_type": "code",
   "execution_count": 23,
   "metadata": {
    "collapsed": false
   },
   "outputs": [],
   "source": [
    "from silx.math import histogram\n",
    "histo, w_histo, edges = histogram.Histogramnd(image.flatten(), n_bins=256, histo_range=[0,256])"
   ]
  },
  {
   "cell_type": "markdown",
   "metadata": {},
   "source": [
    "### Step 2.2 create the corresponding plot\n",
    "using silx.gui.plot.Plot1d"
   ]
  },
  {
   "cell_type": "code",
   "execution_count": 24,
   "metadata": {
    "collapsed": false
   },
   "outputs": [],
   "source": [
    "from silx.gui.plot import Plot1D\n",
    "plotHisto = Plot1D()\n",
    "plotHisto.addCurve(range(256), histo, legend='intensity')\n",
    "plotHisto.show()"
   ]
  },
  {
   "cell_type": "markdown",
   "metadata": {},
   "source": [
    "## Step 3 : create a QPlot action wich create and pop up the curve of the intensity distribution in the pixel\n",
    "silx.gui.plot.PlotActions.PlotAction\n",
    "![simple-image](img/plot_image-pixel_intensity.png)"
   ]
  },
  {
   "cell_type": "code",
   "execution_count": 25,
   "metadata": {
    "collapsed": false
   },
   "outputs": [],
   "source": [
    "from silx.gui.plot.PlotActions import PlotAction \n",
    "class ComputeHistogramAction(PlotAction):\n",
    "    \"\"\"QAction to cimpute the intensity distribution on the current image\n",
    "\n",
    "    :param plot: :class:`.PlotWidget` instance on which to operate\n",
    "    :param parent: See :class:`QAction`\n",
    "    \"\"\"\n",
    "    def __init__(self, plot, parent=None):\n",
    "        PlotAction.__init__(self,\n",
    "                            plot,\n",
    "                            icon='shape-circle',\n",
    "                            text='Compute image intensity distribution',\n",
    "                            tooltip='Compute image intensity distribution',\n",
    "                            triggered=self.computeIntensityDistribution,\n",
    "                            parent=parent)\n",
    "\n",
    "    def computeIntensityDistribution(self):\n",
    "        \"\"\"Get the active image and compute the image intensity distribution\"\"\"\n",
    "        # By inheriting from PlotAction, we get access to attribute self.plot\n",
    "        # which is a reference to the PlotWindow\n",
    "        activeImage = self.plot.getActiveImage()\n",
    "\n",
    "        if activeImage is not None:\n",
    "            from silx.math import histogram\n",
    "            histo, w_histo, edges = histogram.Histogramnd(activeImage[0].flatten(), n_bins=256, histo_range=[0,256])\n",
    "            \n",
    "            from silx.gui.plot import Plot1D\n",
    "            plotHistogram = Plot1D()\n",
    "            plotHistogram.addCurve(range(256), histo, legend='pixel intensity')\n",
    "            plotHistogram.show()"
   ]
  },
  {
   "cell_type": "code",
   "execution_count": 26,
   "metadata": {
    "collapsed": false
   },
   "outputs": [],
   "source": [
    "plotHisto.clear()\n",
    "myaction=ComputeHistogramAction(plotImage)\n",
    "toolBar=plotImage.toolBar()\n",
    "toolBar.addAction(myaction)\n",
    "plotImage.show()"
   ]
  },
  {
   "cell_type": "markdown",
   "metadata": {},
   "source": [
    "# Step 4 : automatically show the pixel intensity histogram when the image change\n",
    "using plotImage.sigActiveImageChanged.connect(plotHisto)"
   ]
  },
  {
   "cell_type": "code",
   "execution_count": 27,
   "metadata": {
    "collapsed": false
   },
   "outputs": [],
   "source": [
    "def computeIntensityDistribution():\n",
    "        \"\"\"Get the active image and compute the image intensity distribution\"\"\"\n",
    "        # By inheriting from PlotAction, we get access to attribute self.plot\n",
    "        # which is a reference to the PlotWindow\n",
    "        activeImage = plotImage.getActiveImage()\n",
    "\n",
    "        if activeImage is not None:\n",
    "            from silx.math import histogram\n",
    "            histo, w_histo, edges = histogram.Histogramnd(activeImage[0].flatten(), n_bins=256, histo_range=[0,256])\n",
    "            \n",
    "            from silx.gui.plot import Plot1D\n",
    "            plotHistogram = Plot1D()\n",
    "            plotHistogram.addCurve(range(256), histo, legend='pixel intensity')\n",
    "            plotHistogram.show()"
   ]
  },
  {
   "cell_type": "code",
   "execution_count": 28,
   "metadata": {
    "collapsed": false
   },
   "outputs": [
    {
     "data": {
      "text/plain": [
       "'lena'"
      ]
     },
     "execution_count": 28,
     "metadata": {},
     "output_type": "execute_result"
    }
   ],
   "source": [
    "plotImage=Plot2D()\n",
    "plotImage.sigActiveImageChanged.connect(computeIntensityDistribution)\n",
    "plotImage.addImage(image, origin=(0, 0), legend='lena')  # Plot the RGB image instead of the previous data"
   ]
  }
 ],
 "metadata": {
  "kernelspec": {
   "display_name": "Python 3",
   "language": "python",
   "name": "python3"
  },
  "language_info": {
   "codemirror_mode": {
    "name": "ipython",
    "version": 3
   },
   "file_extension": ".py",
   "mimetype": "text/x-python",
   "name": "python",
   "nbconvert_exporter": "python",
   "pygments_lexer": "ipython3",
   "version": "3.5.2"
  }
 },
 "nbformat": 4,
 "nbformat_minor": 1
}
