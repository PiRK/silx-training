{
 "cells": [
  {
   "cell_type": "markdown",
   "metadata": {},
   "source": [
    "Required knowledges\n",
    "===================\n",
    "\n",
    "* ``numpy`` (basic knowledge)\n",
    "* ``Qt`` (basic knowledge)\n",
    "* ``h5py`` (optionally)\n",
    "\n",
    "Useful silx resources\n",
    "=====================\n",
    "\n",
    "* Getting start with the Hdf5 ([http://pythonhosted.org/silx/modules/gui/hdf5/getting_started.html](http://pythonhosted.org/silx/modules/gui/hdf5/getting_started.html))\n",
    "\n",
    "Exercises summary\n",
    "=================\n",
    "\n",
    "1. Features provided by Hdf5TreeView\n",
    "      * Learn how to create an ``Hdf5TreeView``\n",
    "2. Create a HDF5 viewer\n",
    "      * Learn how to use a dataset displayed by the tree\n",
    "3. Create a tool to aggregate dataset images\n",
    "      * Use multi-selection node of the tree\n",
    "      * Use features of the mask\n",
    "4. Create a phase contrast viewer\n",
    "      * Learn how to add context menu to the tree nodes\n"
   ]
  },
  {
   "cell_type": "markdown",
   "metadata": {},
   "source": [
    "Features provided by Hdf5TreeView\n",
    "================================="
   ]
  },
  {
   "cell_type": "markdown",
   "metadata": {},
   "source": [
    "![HDF5 Tree](images/display.png)"
   ]
  },
  {
   "cell_type": "code",
   "execution_count": 1,
   "metadata": {
    "collapsed": false,
    "scrolled": true
   },
   "outputs": [
    {
     "data": {
      "text/plain": [
       "0"
      ]
     },
     "execution_count": 1,
     "metadata": {},
     "output_type": "execute_result"
    }
   ],
   "source": [
    "from silx.gui import qt\n",
    "from silx.gui import hdf5\n",
    "\n",
    "%gui qt\n",
    "app = qt.QApplication([])\n",
    "tree = hdf5.Hdf5TreeView()\n",
    "tree.setVisible(True)\n",
    "app.exec_()"
   ]
  },
  {
   "cell_type": "markdown",
   "metadata": {
    "collapsed": false
   },
   "source": [
    "> Exercise:\n",
    ">\n",
    "> 1. Execute this script\n",
    "> 2. Drag and drop an HDF5 file and play with it"
   ]
  },
  {
   "cell_type": "markdown",
   "metadata": {},
   "source": [
    "> Exercise:\n",
    ">\n",
    "> 1. Use can use `exercices/ex1_display.py` as skeleton\n",
    "> 2. Create an application to load HDF5 from command line\n",
    ">       * Use [getting started with HDF5 widgets](http://pythonhosted.org/silx/modules/gui/hdf5/getting_started.html)"
   ]
  },
  {
   "cell_type": "markdown",
   "metadata": {},
   "source": [
    "Solution\n",
    "--------"
   ]
  },
  {
   "cell_type": "code",
   "execution_count": 2,
   "metadata": {
    "collapsed": false
   },
   "outputs": [
    {
     "name": "stdout",
     "output_type": "stream",
     "text": [
      "Gtk-Message: Failed to load module \"canberra-gtk-module\"\r\n"
     ]
    }
   ],
   "source": [
    "!./working_examples/display.py nexus-20110325.h5"
   ]
  },
  {
   "cell_type": "markdown",
   "metadata": {},
   "source": [
    "Create an HDF5 viewer\n",
    "====================="
   ]
  },
  {
   "cell_type": "markdown",
   "metadata": {},
   "source": [
    "This exercise you how to use the `Hdf5TreeView` to browse and display datasets.\n",
    "We provide a `DataViewer` widget to help you to display the data."
   ]
  },
  {
   "cell_type": "markdown",
   "metadata": {},
   "source": [
    "![HDF5 viewer](images/viewer.png)"
   ]
  },
  {
   "cell_type": "markdown",
   "metadata": {},
   "source": [
    "DataViewer\n",
    "----------\n",
    "\n",
    "We provide a `DataViewer` widget, to display data using `Silx` plots."
   ]
  },
  {
   "cell_type": "code",
   "execution_count": 3,
   "metadata": {
    "collapsed": false
   },
   "outputs": [],
   "source": [
    "from silx.gui import plot\n",
    "\n",
    "class DataViewer(qt.QStackedWidget):\n",
    "    \"\"\"Widget to display any kind of data\"\"\"\n",
    "\n",
    "    def __init__(self, parent=None):\n",
    "        \"\"\"Constructor\"\"\"\n",
    "        super(DataViewer, self).__init__(parent)\n",
    "\n",
    "        self.__plot1d = plot.Plot1D()\n",
    "        self.__plot2d = plot.Plot2D()\n",
    "        self.__text = qt.QLabel()\n",
    "        self.__text.setAlignment(qt.Qt.AlignCenter)\n",
    "\n",
    "        self.__index1d = self.addWidget(self.__plot1d)\n",
    "        self.__index2d = self.addWidget(self.__plot2d)\n",
    "        self.__indexText = self.addWidget(self.__text)\n",
    "        self.setCurrentIndex(self.__indexText)\n",
    "\n",
    "    def showAsString(self, data):\n",
    "        \"\"\"Display a data using text\"\"\"\n",
    "        self.__text.setText(str(data))\n",
    "        self.setCurrentIndex(self.__indexText)\n",
    "\n",
    "    def show1d(self, data):\n",
    "        \"\"\"Display a data using silx Plot1D\"\"\"\n",
    "        self.__plot1d.clear()\n",
    "        self.__plot1d.addCurve(legend=\"data\", x=range(len(data)), y=data)\n",
    "        self.setCurrentIndex(self.__index1d)\n",
    "\n",
    "    def show2d(self, data):\n",
    "        \"\"\"Display a data using silx Plot2D\"\"\"\n",
    "        self.__plot2d.clear()\n",
    "        self.__plot2d.addImage(legend=\"data\", data=data)\n",
    "        self.setCurrentIndex(self.__index2d)\n",
    "\n",
    "    def show(self, data):\n",
    "        \"\"\"Display a data using the widget which fit the best\"\"\"\n",
    "        isAtomic = len(data.shape) == 0\n",
    "        isCurve = len(data.shape) == 1 \\\n",
    "                        and numpy.issubdtype(data.dtype, numpy.number)\n",
    "        isImage = len(data.shape) == 2 \\\n",
    "                        and numpy.issubdtype(data.dtype, numpy.number)\n",
    "        if isAtomic:\n",
    "            self.showAsString(data)\n",
    "        elif isCurve:\n",
    "            self.show1d(data)\n",
    "        elif isImage:\n",
    "            self.show2d(data)\n",
    "        else:\n",
    "            self.showAsString(data)"
   ]
  },
  {
   "cell_type": "markdown",
   "metadata": {},
   "source": [
    "Here is an example of use."
   ]
  },
  {
   "cell_type": "code",
   "execution_count": 4,
   "metadata": {
    "collapsed": false
   },
   "outputs": [],
   "source": [
    "import numpy\n",
    "viewer = DataViewer()\n",
    "viewer.setVisible(True)"
   ]
  },
  {
   "cell_type": "code",
   "execution_count": 5,
   "metadata": {
    "collapsed": false
   },
   "outputs": [],
   "source": [
    "# To display an image\n",
    "viewer.show(numpy.random.rand(100, 100))"
   ]
  },
  {
   "cell_type": "code",
   "execution_count": 6,
   "metadata": {
    "collapsed": true
   },
   "outputs": [],
   "source": [
    "# or a curve\n",
    "viewer.show(numpy.random.rand(100))"
   ]
  },
  {
   "cell_type": "code",
   "execution_count": 7,
   "metadata": {
    "collapsed": false
   },
   "outputs": [],
   "source": [
    "# or a value\n",
    "viewer.show(numpy.random.rand(1)[0])"
   ]
  },
  {
   "cell_type": "markdown",
   "metadata": {},
   "source": [
    "Hdf5TreeView with DataViewer\n",
    "----------------------------\n",
    "\n",
    "Here is a code to display together an `Hdf5TreeView` and a `DataViewer`"
   ]
  },
  {
   "cell_type": "code",
   "execution_count": 8,
   "metadata": {
    "collapsed": true
   },
   "outputs": [],
   "source": [
    "window = qt.QSplitter()\n",
    "tree = hdf5.Hdf5TreeView(window)\n",
    "viewer = DataViewer(window)\n",
    "window.addWidget(tree)\n",
    "window.addWidget(viewer)\n",
    "window.setStretchFactor(1, 1)\n",
    "window.setVisible(True)"
   ]
  },
  {
   "cell_type": "markdown",
   "metadata": {},
   "source": [
    "> Exercise (you can use `exercises/ex2_viewer.py` as skeleton)\n",
    ">\n",
    "> 1. Connect the tree to the viewer\n",
    ">       * Use [getting started with HDF5 widgets](http://pythonhosted.org/silx/modules/gui/hdf5/getting_started.html)"
   ]
  },
  {
   "cell_type": "markdown",
   "metadata": {},
   "source": [
    "Solution\n",
    "--------"
   ]
  },
  {
   "cell_type": "code",
   "execution_count": 9,
   "metadata": {
    "collapsed": false
   },
   "outputs": [
    {
     "name": "stdout",
     "output_type": "stream",
     "text": [
      "Gtk-Message: Failed to load module \"canberra-gtk-module\"\r\n"
     ]
    }
   ],
   "source": [
    "!./working_examples/viewer.py nexus-20110325.h5"
   ]
  },
  {
   "cell_type": "markdown",
   "metadata": {},
   "source": [
    "Create an aggregation from diffraction acquisition\n",
    "================================================"
   ]
  },
  {
   "cell_type": "markdown",
   "metadata": {},
   "source": [
    "This exercise show how to configure and use the `Hdf5TreeView` with multi-selection. It will be used to compute an aggregation on images. The use case is an aggregation of diffraction acquisitions in order to create a better mask."
   ]
  },
  {
   "cell_type": "markdown",
   "metadata": {},
   "source": [
    "![HDF5 diffraction mask](images/diffraction_mask_log.png)"
   ]
  },
  {
   "cell_type": "markdown",
   "metadata": {},
   "source": [
    "> Exercise (you can use `exercises/ex3_diffraction_mask.py` as skeleton)\n",
    ">\n",
    "> 1. Configure the tree as multi-selectable\n",
    ">       * Use [`QAbstractItemView` documentation](http://doc.qt.io/qt-4.8/qabstractitemview.html#selectionMode-prop)\n",
    "> 2. Aggregate selected datasets on `onTreeActivated`\n",
    "> 3. Show the result in the viewer\n",
    "> 4. With the GUI, use the mask tool to create a mask from aggregated images"
   ]
  },
  {
   "cell_type": "markdown",
   "metadata": {},
   "source": [
    "Solution\n",
    "--------"
   ]
  },
  {
   "cell_type": "code",
   "execution_count": 11,
   "metadata": {
    "collapsed": false
   },
   "outputs": [
    {
     "name": "stdout",
     "output_type": "stream",
     "text": [
      "Gtk-Message: Failed to load module \"canberra-gtk-module\"\r\n"
     ]
    }
   ],
   "source": [
    "!./working_examples/diffraction_mask.py ID22_ma2909_Ti37Nb_450_72h_1.h5"
   ]
  },
  {
   "cell_type": "markdown",
   "metadata": {},
   "source": [
    "Create an phase contrast viewer\n",
    "==============================="
   ]
  },
  {
   "cell_type": "markdown",
   "metadata": {},
   "source": [
    "This exercice show how to use the `Hdf5TreeView` context menu to a custom use. The use case is the phase contrast acquisition, in order to display better images from the raw data. To correct this images, we have to remove a background and apply a flat field. We can use the context menu to identify this dataset from an HDF5 file. The exercice provides few functions to help the computation."
   ]
  },
  {
   "cell_type": "markdown",
   "metadata": {},
   "source": [
    "![HDF5 phase contrast viewer](images/phase_contrast_corrected.png)"
   ]
  },
  {
   "cell_type": "markdown",
   "metadata": {},
   "source": [
    "Provided functions\n",
    "------------------"
   ]
  },
  {
   "cell_type": "markdown",
   "metadata": {},
   "source": [
    "The computation of corrected images is done using this equation using `raw`, `flatfield`, and `background` information.\n",
    "\n",
    "$$corrected = \\frac{raw - background}{flatfield - background}$$"
   ]
  },
  {
   "cell_type": "code",
   "execution_count": 12,
   "metadata": {
    "collapsed": true
   },
   "outputs": [],
   "source": [
    "def computeCorrectedImage(raw):\n",
    "    if FLATFIELD is None:\n",
    "        raise RuntimeError(\"No flatfield defined\")\n",
    "    if BACKGROUND is None:\n",
    "        raise RuntimeError(\"No background defined\")\n",
    "\n",
    "    numerator = raw.value - BACKGROUND.value\n",
    "    denominator = FLATFIELD.value - BACKGROUND.value\n",
    "    return numpy.array(numerator, dtype=numpy.float32) / denominator\n",
    "\n",
    "def setBackground(dataset):\n",
    "    \"\"\"\"Callback to define the background\"\"\"\n",
    "    global BACKGROUND\n",
    "    BACKGROUND = dataset\n",
    "\n",
    "def setFlatField(dataset):\n",
    "    \"\"\"\"Callback to define the flat field\"\"\"\n",
    "    global FLATFIELD\n",
    "    FLATFIELD = dataset"
   ]
  },
  {
   "cell_type": "markdown",
   "metadata": {},
   "source": [
    "> Exercise (you can use `exercises/ex4_phase_contrast.py` as skeleton)\n",
    ">\n",
    "> 1. Register a callback function for the context menu of the tree\n",
    ">       * Use [getting started with HDF5 widgets](http://pythonhosted.org/silx/modules/gui/hdf5/getting_started.html)\n",
    "> 2. Create action to the menu to use the hovered dataset as backround of flatfield\n",
    ">       * Use [getting started with HDF5 widgets](http://pythonhosted.org/silx/modules/gui/hdf5/getting_started.html)\n",
    "> 3. Try to compute the corrected image when an image is selected in the tree and show it in the viewer"
   ]
  },
  {
   "cell_type": "markdown",
   "metadata": {},
   "source": [
    "Solution\n",
    "--------"
   ]
  },
  {
   "cell_type": "code",
   "execution_count": 13,
   "metadata": {
    "collapsed": false
   },
   "outputs": [
    {
     "name": "stdout",
     "output_type": "stream",
     "text": [
      "Gtk-Message: Failed to load module \"canberra-gtk-module\"\r\n"
     ]
    }
   ],
   "source": [
    "!./working_examples/phase_contrast.py ID16B_diatomee.h5"
   ]
  }
 ],
 "metadata": {
  "kernelspec": {
   "display_name": "Python 3",
   "language": "python",
   "name": "python3"
  },
  "language_info": {
   "codemirror_mode": {
    "name": "ipython",
    "version": 3
   },
   "file_extension": ".py",
   "mimetype": "text/x-python",
   "name": "python",
   "nbconvert_exporter": "python",
   "pygments_lexer": "ipython3",
   "version": "3.5.2"
  }
 },
 "nbformat": 4,
 "nbformat_minor": 1
}
