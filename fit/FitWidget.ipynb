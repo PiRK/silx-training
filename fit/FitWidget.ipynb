{
 "cells": [
  {
   "cell_type": "markdown",
   "metadata": {},
   "source": [
    "# FitWidget\n",
    "\n",
    "FitWidget is a widget to fit curves (1D data) with interactive configuration options, to set constraints, adjust initial estimate parameters...\n",
    "\n"
   ]
  },
  {
   "cell_type": "markdown",
   "metadata": {},
   "source": [
    "## Creating a FitWidget\n",
    "\n",
    "First load the data."
   ]
  },
  {
   "cell_type": "code",
   "execution_count": 1,
   "metadata": {
    "collapsed": false
   },
   "outputs": [
    {
     "name": "stdout",
     "output_type": "stream",
     "text": [
      "Populating the interactive namespace from numpy and matplotlib\n"
     ]
    },
    {
     "data": {
      "text/plain": [
       "[<matplotlib.lines.Line2D at 0x7f4886ee6710>]"
      ]
     },
     "execution_count": 1,
     "metadata": {},
     "output_type": "execute_result"
    },
    {
     "data": {
      "image/png": "[encoded data removed]",
      "text/plain": [
       "<matplotlib.figure.Figure at 0x7f488c76fc88>"
      ]
     },
     "metadata": {},
     "output_type": "display_data"
    }
   ],
   "source": [
    "%pylab inline\n",
    "\n",
    "from silx.io import spech5\n",
    "\n",
    "specfile = spech5.SpecH5(\"31oct98.dat\")\n",
    "xdata = specfile[\"/22.1/measurement/TZ3\"]\n",
    "ydata = specfile[\"/22.1/measurement/If4\"]\n",
    "plot(xdata, ydata)"
   ]
  },
  {
   "cell_type": "markdown",
   "metadata": {},
   "source": [
    "Then create a FitWidget."
   ]
  },
  {
   "cell_type": "code",
   "execution_count": 2,
   "metadata": {
    "collapsed": false
   },
   "outputs": [
    {
     "name": "stderr",
     "output_type": "stream",
     "text": [
      "WARNING:silx.gui.plot._matplotlib:matplotlib already loaded, setting its backend may not work\n"
     ]
    }
   ],
   "source": [
    "from silx.gui import qt\n",
    "from silx.gui.fit import FitWidget\n",
    "\n",
    "a = qt.QApplication([])\n",
    "\n",
    "fw = FitWidget()\n",
    "fw.setData(x=xdata, y=ydata)\n",
    "fw.show()\n"
   ]
  },
  {
   "cell_type": "markdown",
   "metadata": {},
   "source": [
    "![FitWidget](fitwidget1.png)\n",
    "The selection of fit theories and background theories can be done through the interface. Additional configuration parameters can be set in a dialog, by clicking the configure button, to alter the behavior of the estimation function (peak search parameters) or to set global constraints. \n",
    "\n",
    "![FitConfig](fitconfig.png)\n",
    "\n",
    "When the configuration is done, click the Estimate button. Now you may change individual constraints or adjust initial estimated parameters. \n",
    "\n",
    "You can also add peaks by selecting *Add* in the dropdown list in the *Constraints* column of any parameter, or reduce the number of peaks by selecting *Ignore*.\n",
    "\n",
    "When you are happy with the estimated parameters and the constraints, you can click the \"Fit\" button. At the end of the fit process, you can again adjust the constraints and estimated parameters, and fit again. Only click \"Estimate\" if you want to reset the estimation and all constraints (this will overwrite all adjustements you have done)."
   ]
  },
  {
   "cell_type": "markdown",
   "metadata": {},
   "source": [
    "## Open the FitWidget through a PlotWindow\n"
   ]
  },
  {
   "cell_type": "markdown",
   "metadata": {},
   "source": [
    "A PlotWindow can be setup to show a fit icon. Clicking the icon will open a FitWidget with the active curve loaded as data."
   ]
  },
  {
   "cell_type": "code",
   "execution_count": 3,
   "metadata": {
    "collapsed": false
   },
   "outputs": [],
   "source": [
    "from silx.gui import qt\n",
    "from silx.gui.plot import PlotWindow\n",
    "\n",
    "a = qt.QApplication([])\n",
    "\n",
    "pw = PlotWindow(fit=True)\n",
    "pw.addCurve(x=xdata, y=ydata)\n",
    "pw.show()"
   ]
  },
  {
   "cell_type": "markdown",
   "metadata": {},
   "source": [
    "All that is left to do is to select the curve and click the *Fit* icon. When the fitting is complete, the fitted function is plotted."
   ]
  },
  {
   "cell_type": "markdown",
   "metadata": {
    "collapsed": true
   },
   "source": [
    "## Exercice\n",
    "\n",
    "Write a cubic polynomial function $y= ax^3 + bx^2 + cx + d$ and its corresponding estimation function (use  $a=1, b=1, c=1, d=1$ for initial estimated parameters).\n",
    "\n",
    "Generate synthetic data.\n",
    "\n",
    "Create a FitWidget and add a cubic polynomial function to the dropdown list. Test it on the synthetic data.\n",
    "\n",
    "### Polynomial function\n",
    "\n",
    "Tips: \n",
    " - Read the documentation for the module ``silx.math.fit.fittheory`` to use the correct signature for the polynomial and for the estimation functions. \n",
    " - Read the documentation for the module ``silx.math.fit.leastsq`` to use the correct format for constraints. Disable all constraints (set them to FREE)\n",
    "\n",
    "Links:\n",
    " - http://pythonhosted.org/silx/modules/math/fit/fittheory.html#silx.math.fit.fittheory.FitTheory.function\n",
    " - http://pythonhosted.org/silx/modules/math/fit/fittheory.html#silx.math.fit.fittheory.FitTheory.estimate\n",
    " - http://pythonhosted.org/silx/modules/math/fit/leastsq.html#silx.math.fit.leastsq\n",
    "\n"
   ]
  },
  {
   "cell_type": "code",
   "execution_count": 2,
   "metadata": {
    "collapsed": false
   },
   "outputs": [],
   "source": [
    "# fill-in the blanks\n",
    "def cubic_poly(x, a, b, c, d):\n",
    "    return ...\n",
    "    \n",
    "def estimate_cubic_params(x, y):\n",
    "    initial_params = ...\n",
    "    constraints = ...\n",
    "    return initial_params, constraints\n",
    "    "
   ]
  },
  {
   "cell_type": "markdown",
   "metadata": {},
   "source": [
    "### Synthetic data\n",
    "\n",
    "Tip: use the `cubic_poly` function\n"
   ]
  },
  {
   "cell_type": "code",
   "execution_count": 3,
   "metadata": {
    "collapsed": false
   },
   "outputs": [],
   "source": [
    "import numpy\n",
    "x = numpy.linspace(0, 100, 250)\n",
    "a, b, c, d = 0.02, -2.51, 76.76, 329.14\n",
    "y = ...\n"
   ]
  },
  {
   "cell_type": "markdown",
   "metadata": {},
   "source": [
    "### FitWidget with custom function\n",
    "\n",
    "Tips:\n",
    "\n",
    "- you need to define a customized FitManager to initialize a FitWidget with custom functions\n",
    "    \n",
    "Doc:\n",
    "\n",
    "- http://www.silx.org/doc/silx/dev/modules/math/fit/fitmanager.html#silx.math.fit.fitmanager.FitManager.addtheory"
   ]
  },
  {
   "cell_type": "code",
   "execution_count": 4,
   "metadata": {
    "collapsed": false
   },
   "outputs": [
    {
     "ename": "TypeError",
     "evalue": "__init__() got an unexpected keyword argument 'config_widget'",
     "output_type": "error",
     "traceback": [
      "\u001b[0;31m---------------------------------------------------------------------------\u001b[0m",
      "\u001b[0;31mTypeError\u001b[0m                                 Traceback (most recent call last)",
      "\u001b[0;32m<ipython-input-4-2e132c99ee13>\u001b[0m in \u001b[0;36m<module>\u001b[0;34m()\u001b[0m\n\u001b[1;32m     11\u001b[0m                      \u001b[0mfunction\u001b[0m\u001b[0;34m=\u001b[0m\u001b[0mcubic_poly\u001b[0m\u001b[0;34m,\u001b[0m\u001b[0;34m\u001b[0m\u001b[0m\n\u001b[1;32m     12\u001b[0m                      \u001b[0mparameters\u001b[0m\u001b[0;34m=\u001b[0m\u001b[0;34m[\u001b[0m\u001b[0;34m\"a\"\u001b[0m\u001b[0;34m,\u001b[0m \u001b[0;34m\"b\"\u001b[0m\u001b[0;34m,\u001b[0m \u001b[0;34m\"c\"\u001b[0m\u001b[0;34m,\u001b[0m \u001b[0;34m\"d\"\u001b[0m\u001b[0;34m]\u001b[0m\u001b[0;34m,\u001b[0m\u001b[0;34m\u001b[0m\u001b[0m\n\u001b[0;32m---> 13\u001b[0;31m                      estimate=estimate_cubic_params)\n\u001b[0m\u001b[1;32m     14\u001b[0m \u001b[0;34m\u001b[0m\u001b[0m\n\u001b[1;32m     15\u001b[0m \u001b[0;34m\u001b[0m\u001b[0m\n",
      "\u001b[0;32m/users/knobel/.local/lib/python3.4/site-packages/silx/math/fit/fitmanager.py\u001b[0m in \u001b[0;36maddtheory\u001b[0;34m(self, name, theory, function, parameters, estimate, configure, derivative, description, config_widget, pymca_legacy)\u001b[0m\n\u001b[1;32m    271\u001b[0m                 \u001b[0mderivative\u001b[0m\u001b[0;34m=\u001b[0m\u001b[0mderivative\u001b[0m\u001b[0;34m,\u001b[0m\u001b[0;34m\u001b[0m\u001b[0m\n\u001b[1;32m    272\u001b[0m                 \u001b[0mconfig_widget\u001b[0m\u001b[0;34m=\u001b[0m\u001b[0mconfig_widget\u001b[0m\u001b[0;34m,\u001b[0m\u001b[0;34m\u001b[0m\u001b[0m\n\u001b[0;32m--> 273\u001b[0;31m                 \u001b[0mpymca_legacy\u001b[0m\u001b[0;34m=\u001b[0m\u001b[0mpymca_legacy\u001b[0m\u001b[0;34m\u001b[0m\u001b[0m\n\u001b[0m\u001b[1;32m    274\u001b[0m             )\n\u001b[1;32m    275\u001b[0m \u001b[0;34m\u001b[0m\u001b[0m\n",
      "\u001b[0;31mTypeError\u001b[0m: __init__() got an unexpected keyword argument 'config_widget'"
     ]
    }
   ],
   "source": [
    "%gui qt\n",
    "from silx.gui import qt\n",
    "from silx.gui.fit import FitWidget \n",
    "from silx.math.fit import FitManager\n",
    "\n",
    "a = qt.QApplication([])\n",
    "\n",
    "# use a customized fit manager to add your own function\n",
    "fitmanager = FitManager()\n",
    "...\n",
    "\n",
    "\n",
    "fitwidget = FitWidget(...)\n",
    "fitwidget.setData(x=x, y=y)\n",
    "\n",
    "fitwidget.show()\n",
    "\n"
   ]
  },
  {
   "cell_type": "code",
   "execution_count": null,
   "metadata": {
    "collapsed": true
   },
   "outputs": [],
   "source": []
  }
 ],
 "metadata": {
  "kernelspec": {
   "display_name": "Python 3",
   "language": "python",
   "name": "python3"
  },
  "language_info": {
   "codemirror_mode": {
    "name": "ipython",
    "version": 3
   },
   "file_extension": ".py",
   "mimetype": "text/x-python",
   "name": "python",
   "nbconvert_exporter": "python",
   "pygments_lexer": "ipython3",
   "version": "3.4.2"
  }
 },
 "nbformat": 4,
 "nbformat_minor": 0
}
