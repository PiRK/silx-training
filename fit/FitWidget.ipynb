{
 "cells": [
  {
   "cell_type": "markdown",
   "metadata": {},
   "source": [
    "# FitWidget\n",
    "\n",
    "FitWidget is a widget to fit curves (1D data) with interactive configuration options, to set constraints, adjust initial estimate parameters...\n",
    "\n"
   ]
  },
  {
   "cell_type": "markdown",
   "metadata": {},
   "source": [
    "## Creating a FitWidget\n",
    "\n",
    "First load the data."
   ]
  },
  {
   "cell_type": "code",
   "execution_count": null,
   "metadata": {
    "collapsed": true
   },
   "outputs": [],
   "source": [
    "%gui qt"
   ]
  },
  {
   "cell_type": "code",
   "execution_count": null,
   "metadata": {
    "collapsed": false
   },
   "outputs": [],
   "source": [
    "#%pylab inline\n",
    "\n",
    "from silx.io import spech5\n",
    "\n",
    "specfile = spech5.SpecH5(\"data/31oct98.dat\")\n",
    "xdata = specfile[\"/22.1/measurement/TZ3\"]\n",
    "ydata = specfile[\"/22.1/measurement/If4\"]\n",
    "\n",
    "from silx.gui.plot import Plot1D\n",
    "plot=Plot1D()\n",
    "plot.addCurve(x=xdata, y=ydata)\n",
    "plot.show()"
   ]
  },
  {
   "cell_type": "markdown",
   "metadata": {},
   "source": [
    "Then create a FitWidget."
   ]
  },
  {
   "cell_type": "code",
   "execution_count": null,
   "metadata": {
    "collapsed": false
   },
   "outputs": [],
   "source": [
    "# Uncomment these lines if not in a jupyter notebook\n",
    "#from silx.gui import qt\n",
    "#a = qt.QApplication([])\n",
    "\n",
    "from silx.gui.fit import FitWidget\n",
    "\n",
    "fw = FitWidget()\n",
    "fw.setData(x=xdata, y=ydata)\n",
    "fw.show()\n"
   ]
  },
  {
   "cell_type": "markdown",
   "metadata": {},
   "source": [
    "![FitWidget](fitwidget1.png)\n",
    "The selection of fit theories and background theories can be done through the interface. Additional configuration parameters can be set in a dialog, by clicking the configure button, to alter the behavior of the estimation function (peak search parameters) or to set global constraints. \n",
    "\n",
    "![FitConfig](fitconfig.png)\n",
    "\n",
    "When the configuration is done, click the Estimate button. Now you may change individual constraints or adjust initial estimated parameters. \n",
    "\n",
    "You can also add peaks by selecting *Add* in the dropdown list in the *Constraints* column of any parameter, or reduce the number of peaks by selecting *Ignore*.\n",
    "\n",
    "When you are happy with the estimated parameters and the constraints, you can click the \"Fit\" button. At the end of the fit process, you can again adjust the constraints and estimated parameters, and fit again. Only click \"Estimate\" if you want to reset the estimation and all constraints (this will overwrite all adjustements you have done)."
   ]
  },
  {
   "cell_type": "markdown",
   "metadata": {},
   "source": [
    "## Open the FitWidget through a PlotWindow\n"
   ]
  },
  {
   "cell_type": "markdown",
   "metadata": {},
   "source": [
    "A PlotWindow can be setup to show a fit icon. Clicking the icon will open a FitWidget with the active curve loaded as data."
   ]
  },
  {
   "cell_type": "code",
   "execution_count": null,
   "metadata": {
    "collapsed": false
   },
   "outputs": [],
   "source": [
    "# Uncomment these lines if not in a jupyter notebook\n",
    "#from silx.gui import qt\n",
    "#a = qt.QApplication([])\n",
    "\n",
    "from silx.gui.plot import PlotWindow\n",
    "\n",
    "pw = PlotWindow(fit=True, control=True)\n",
    "pw.addCurve(x=xdata, y=ydata)\n",
    "pw.show()"
   ]
  },
  {
   "cell_type": "markdown",
   "metadata": {},
   "source": [
    "All that is left to do is to select the curve and click the *Fit* icon. When the fitting is complete, the fitted function is plotted."
   ]
  },
  {
   "cell_type": "markdown",
   "metadata": {
    "collapsed": true
   },
   "source": [
    "## Exercice\n",
    "\n",
    "Write a cubic polynomial function $y= ax^3 + bx^2 + cx + d$ and its corresponding estimation function (use  $a=1, b=1, c=1, d=1$ for initial estimated parameters).\n",
    "\n",
    "Generate synthetic data.\n",
    "\n",
    "Create a FitWidget and add a cubic polynomial function to the dropdown list. Test it on the synthetic data.\n",
    "\n",
    "### Polynomial function\n",
    "\n",
    "Tips: \n",
    " - Read the documentation for the module ``silx.math.fit.fittheory`` to use the correct signature for the polynomial and for the estimation functions. \n",
    " - Read the documentation for the module ``silx.math.fit.leastsq`` to use the correct format for constraints. Disable all constraints (set them to FREE)\n",
    "\n",
    "Links:\n",
    " - http://pythonhosted.org/silx/modules/math/fit/fittheory.html#silx.math.fit.fittheory.FitTheory.function\n",
    " - http://pythonhosted.org/silx/modules/math/fit/fittheory.html#silx.math.fit.fittheory.FitTheory.estimate\n",
    " - http://pythonhosted.org/silx/modules/math/fit/leastsq.html#silx.math.fit.leastsq\n",
    "\n"
   ]
  },
  {
   "cell_type": "code",
   "execution_count": null,
   "metadata": {
    "collapsed": false
   },
   "outputs": [],
   "source": [
    "# fill-in the blanks\n",
    "def cubic_poly(x, ...):\n",
    "    \"\"\"y = a*x^3 + b*x^2 + c*x +d \n",
    "    \n",
    "    :param x: numpy array of abscissa data\n",
    "    :return: numpy array of y values\n",
    "    \"\"\"\n",
    "    return ...\n",
    "    \n",
    "def estimate_cubic_params(...):\n",
    "    initial_params = ...\n",
    "    constraints = ...\n",
    "    return initial_params, constraints\n",
    "    "
   ]
  },
  {
   "cell_type": "markdown",
   "metadata": {},
   "source": [
    "### Synthetic data\n",
    "\n",
    "Tip: use the `cubic_poly` function\n"
   ]
  },
  {
   "cell_type": "code",
   "execution_count": null,
   "metadata": {
    "collapsed": false
   },
   "outputs": [],
   "source": [
    "import numpy\n",
    "x = numpy.linspace(0, 100, 250)\n",
    "a, b, c, d = 0.02, -2.51, 76.76, 329.14\n",
    "y = ...\n"
   ]
  },
  {
   "cell_type": "markdown",
   "metadata": {},
   "source": [
    "### FitWidget with custom function\n",
    "\n",
    "Tips:\n",
    "\n",
    "- you need to define a customized FitManager to initialize a FitWidget with custom functions\n",
    "    \n",
    "Doc:\n",
    "\n",
    "- http://www.silx.org/doc/silx/dev/modules/math/fit/fitmanager.html#silx.math.fit.fitmanager.FitManager.addtheory"
   ]
  },
  {
   "cell_type": "code",
   "execution_count": null,
   "metadata": {
    "collapsed": false
   },
   "outputs": [],
   "source": [
    "#%gui qt\n",
    "from silx.gui import qt\n",
    "from silx.gui.fit import FitWidget \n",
    "from silx.math.fit import FitManager\n",
    "\n",
    "# Uncomment this line if not in a jupyter notebook\n",
    "# a = qt.QApplication([])\n",
    "\n",
    "...\n",
    "\n",
    "fitwidget = FitWidget(...)\n",
    "fitwidget.setData(x=x, y=y)\n",
    "\n",
    "fitwidget.show()"
   ]
  },
  {
   "cell_type": "code",
   "execution_count": null,
   "metadata": {
    "collapsed": true
   },
   "outputs": [],
   "source": []
  }
 ],
 "metadata": {
  "kernelspec": {
   "display_name": "Python 3",
   "language": "python",
   "name": "python3"
  },
  "language_info": {
   "codemirror_mode": {
    "name": "ipython",
    "version": 3
   },
   "file_extension": ".py",
   "mimetype": "text/x-python",
   "name": "python",
   "nbconvert_exporter": "python",
   "pygments_lexer": "ipython3",
   "version": "3.4.2"
  }
 },
 "nbformat": 4,
 "nbformat_minor": 0
}
