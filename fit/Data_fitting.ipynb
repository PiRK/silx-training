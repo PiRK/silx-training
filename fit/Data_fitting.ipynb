{
 "cells": [
  {
   "cell_type": "markdown",
   "metadata": {},
   "source": [
    "# Data fitting"
   ]
  },
  {
   "cell_type": "markdown",
   "metadata": {},
   "source": [
    "Curve fitting is the process of constructing a curve, or mathematical function, that has the best fit to a series of eperimental data points.\n",
    "\n",
    "In this exercise we will calculate the sum of the \"medipix.edf\" image along the vertical and horizontal axis and fit a gaussian function, using ``silx.math``.\n"
   ]
  },
  {
   "cell_type": "markdown",
   "metadata": {},
   "source": [
    "## Loading data"
   ]
  },
  {
   "cell_type": "code",
   "execution_count": null,
   "metadata": {
    "collapsed": false
   },
   "outputs": [],
   "source": [
    "%pylab inline"
   ]
  },
  {
   "cell_type": "code",
   "execution_count": null,
   "metadata": {
    "collapsed": false
   },
   "outputs": [],
   "source": [
    "from silx.io import spech5\n",
    "specfile = spech5.SpecH5(\"31oct98.dat\")\n",
    "xdata = specfile[\"/22.1/measurement/TZ3\"]\n",
    "ydata = specfile[\"/22.1/measurement/If4\"]\n",
    "plot(xdata, ydata)"
   ]
  },
  {
   "cell_type": "markdown",
   "metadata": {},
   "source": [
    "## Use of a builtin fitting function"
   ]
  },
  {
   "cell_type": "markdown",
   "metadata": {},
   "source": [
    "The fitting function is a function of the data-point (xdata) and of a sert of parameters. Silx offers a set of usual fitting functions in module ``silx.math.fit.functions``.\n",
    "\n",
    "In this example, we will use a gaussian function, ``sum_gauss``, whose parameters are *height*, *center* an *fwhm* (full-width at half maximum). The functions accepts a multiple number of these 3 base parameters, to fit a sum of multiple gaussian peaks.\n"
   ]
  },
  {
   "cell_type": "code",
   "execution_count": null,
   "metadata": {
    "collapsed": false
   },
   "outputs": [],
   "source": [
    "from silx.math.fit.functions import sum_gauss"
   ]
  },
  {
   "cell_type": "markdown",
   "metadata": {},
   "source": [
    "An essential part of the iterative fitting process is the choice of the initial set of parameters p0. Our initial estimate is that we have 2 peaks, centered at $x=29.45$ and at $x=29.55$, with amplitude $55000$ and $60000$ and with a full-width at half maximum of $0.03$."
   ]
  },
  {
   "cell_type": "code",
   "execution_count": null,
   "metadata": {
    "collapsed": false
   },
   "outputs": [],
   "source": [
    "p0 = [55000., 29.45, 0.03,\n",
    "      60000., 29.55, 0.03]\n",
    "plot(xdata, ydata, label=\"Actual data\")\n",
    "plot(xdata, sum_gauss(xdata, *p0), label=\"Initial guess\")\n",
    "legend()\n",
    "title(\"Before the fit:\")\n"
   ]
  },
  {
   "cell_type": "markdown",
   "metadata": {},
   "source": [
    "## Fitting using silx\n"
   ]
  },
  {
   "cell_type": "code",
   "execution_count": null,
   "metadata": {
    "collapsed": false
   },
   "outputs": [],
   "source": [
    "from silx.math.fit import leastsq"
   ]
  },
  {
   "cell_type": "code",
   "execution_count": null,
   "metadata": {
    "collapsed": false
   },
   "outputs": [],
   "source": [
    "p, cov_matrix = leastsq(model=sum_gauss, xdata=xdata, ydata=ydata, p0=p0)\n",
    "print(p)"
   ]
  },
  {
   "cell_type": "code",
   "execution_count": null,
   "metadata": {
    "collapsed": false
   },
   "outputs": [],
   "source": [
    "%timeit p, cov_matrix = leastsq(model=sum_gauss, xdata=xdata, ydata=ydata, p0=p0)"
   ]
  },
  {
   "cell_type": "code",
   "execution_count": null,
   "metadata": {
    "collapsed": false
   },
   "outputs": [],
   "source": [
    "#Display the result of the fit\n",
    "#plot(xdata, sum_gauss(xdata, *p0), label=\"Initial guess\")\n",
    "plot(xdata, sum_gauss(xdata, *p), label=\"Fitted curve\")\n",
    "plot(xdata, ydata,label=\"Experimental data\")\n",
    "legend()\n",
    "title(\"Result of the fit\")"
   ]
  },
  {
   "cell_type": "markdown",
   "metadata": {},
   "source": [
    "We could probably improve this with a small third peak at $x=29.61$"
   ]
  },
  {
   "cell_type": "code",
   "execution_count": null,
   "metadata": {
    "collapsed": false
   },
   "outputs": [],
   "source": [
    "# estimate\n",
    "p0 = [55000., 29.45, 0.03,\n",
    "      60000., 29.55, 0.03,\n",
    "      5000., 29.61, 0.05]\n",
    "# fit\n",
    "p, cov_matrix = leastsq(model=sum_gauss, xdata=xdata, ydata=ydata, p0=p0)\n",
    "\n",
    "# plot\n",
    "plot(xdata, sum_gauss(xdata, *p0), label=\"Initial guess\")\n",
    "plot(xdata, sum_gauss(xdata, *p), label=\"Fitted curve\")\n",
    "plot(xdata, ydata, label=\"Experimental data\")\n",
    "legend()\n",
    "title(\"Result of the fit (3 peaks)\")\n"
   ]
  },
  {
   "cell_type": "markdown",
   "metadata": {},
   "source": [
    "It turns out that we were wrong regarding the position of our third peak, and about the amplitudes of all 3 peaks. The fit converged towards a much better 3-peak solution:"
   ]
  },
  {
   "cell_type": "code",
   "execution_count": null,
   "metadata": {
    "collapsed": false
   },
   "outputs": [],
   "source": [
    "print(p)\n",
    "plot(xdata, sum_gauss(xdata, *p), label=\"Fitted curve\")\n",
    "for i in range(3):\n",
    "    plot(xdata, sum_gauss(xdata, *p[3*i:3*i+3]), label=\"Peak %d\" % (i+1))\n",
    "legend()"
   ]
  },
  {
   "cell_type": "markdown",
   "metadata": {},
   "source": [
    "# Conclusion\n",
    "\n",
    "Fitting curves requires the following steps:\n",
    "\n",
    "* get the data points x_data and y_data\n",
    "* define the fitting function as y_data = function (x_data, param)\n",
    "* choose an initial guess for the set of parameters p0\n",
    "* run the optimizer\n",
    "* check the result.\n"
   ]
  },
  {
   "cell_type": "markdown",
   "metadata": {},
   "source": [
    "# Fitting data with a background"
   ]
  },
  {
   "cell_type": "markdown",
   "metadata": {},
   "source": [
    "Beyond simple curve fitting, *silx* offers more builtin fitting tools, to handle initial parameter estimation (including peak detection) and background estimation.\n",
    "\n",
    "We need to import the ``FitManager`` class and the module defining builtin fit theories (``silx.math.fit.fittheories``)."
   ]
  },
  {
   "cell_type": "markdown",
   "metadata": {},
   "source": [
    "## Loading data\n",
    "\n",
    "Lets load an image, and sum all samples along the horizontal dimension to get a 1D curve.\n"
   ]
  },
  {
   "cell_type": "code",
   "execution_count": null,
   "metadata": {
    "collapsed": false
   },
   "outputs": [],
   "source": [
    "import fabio\n",
    "img = fabio.open(\"medipix.edf\").data\n",
    "imshow(np.log(img))"
   ]
  },
  {
   "cell_type": "code",
   "execution_count": null,
   "metadata": {
    "collapsed": false
   },
   "outputs": [],
   "source": [
    "ydata = img.sum(axis=1)\n",
    "xdata = numpy.arange(len(img),dtype=\"float\")\n",
    "plot(xdata, ydata)\n",
    "axis([0, xdata.max(), 0, ydata.max()])\n",
    "title(\"Sum along the horizontal direction\")"
   ]
  },
  {
   "cell_type": "markdown",
   "metadata": {},
   "source": [
    "## Setting up a FitManager\n",
    "\n",
    "If we want to fit a single gaussian to this data, we clearly need to remove the constant background signal, at about $y=12000$.  "
   ]
  },
  {
   "cell_type": "code",
   "execution_count": null,
   "metadata": {
    "collapsed": false
   },
   "outputs": [],
   "source": [
    "from silx.math.fit import FitManager, fittheories\n",
    "fitman = FitManager()\n",
    "fitman.setdata(x=xdata, y=ydata)\n",
    "fitman.loadtheories(fittheories)\n",
    "fitman.settheory('Gaussians')\n",
    "fitman.setbackground(\"Constant\")"
   ]
  },
  {
   "cell_type": "markdown",
   "metadata": {},
   "source": [
    "In *silx 0.3*, background theories are hardcoded in ``FitManager``. In the next release, background theories will be handled the same way as fit theories::\n",
    "\n",
    "    from silx.math.fit import bgtheories\n",
    "    ...\n",
    "    fitman.loadbgtheories(bgtheories)\n",
    "\n",
    "\n",
    "This will enable adding custom background theories, the same way as we can add custom fit theories.\n"
   ]
  },
  {
   "cell_type": "markdown",
   "metadata": {},
   "source": [
    "## Estimating initial parameters\n",
    "\n",
    "Now that the FitManager is set-up, we need to estimate the initial parameters before running the fit. This is done by simply running the ``estimate`` method of fitmanager. This method uses the estimation function defined in fit theories. The results are stored internaly in the FitManager instance as attribute ``fit_results``.\n",
    "\n",
    "This attribute stores a list of dictionaries, one per parameter to be fitted."
   ]
  },
  {
   "cell_type": "code",
   "execution_count": null,
   "metadata": {
    "collapsed": false
   },
   "outputs": [],
   "source": [
    "fitman.estimate()\n",
    "\n",
    "for param in fitman.fit_results:\n",
    "    print(\"Estimated value for param %s: %f\" % (param[\"name\"], param[\"estimation\"]))"
   ]
  },
  {
   "cell_type": "markdown",
   "metadata": {},
   "source": [
    "The estimation function managed to find 1 peak and correctly estimated its gaussian parameters and the background level."
   ]
  },
  {
   "cell_type": "markdown",
   "metadata": {},
   "source": [
    "## Final fit\n",
    "\n",
    "Running the fit is as simple as running the estimation."
   ]
  },
  {
   "cell_type": "code",
   "execution_count": null,
   "metadata": {
    "collapsed": false
   },
   "outputs": [],
   "source": [
    "params, uncertainties, infodict = fitman.runfit()\n",
    "\n",
    "for param in fitman.fit_results:\n",
    "    print(\"Fitted value for param %s: %f\" % (param[\"name\"], param[\"fitresult\"]))\n",
    "    \n",
    "plot(xdata, ydata, label=\"Original data\")\n",
    "plot(xdata, params[0] + sum_gauss(xdata, *params[1:]), label=\"Fitted data\")"
   ]
  },
  {
   "cell_type": "markdown",
   "metadata": {},
   "source": [
    "As you can see, parameters can be accessed as the first value returned by the ``runfit`` method, a simple list of raw values, or again as attribute ``fitman.fit_results``."
   ]
  },
  {
   "cell_type": "markdown",
   "metadata": {},
   "source": [
    "## More FitManager features\n",
    "\n",
    "FitManager offers more features, such as:\n",
    " - setting constraints for parameters\n",
    " - advanced background models, beyond simple constant or linear: strip or snip backgrounds\n",
    " - adding custom fit and background theories, with customised estimation function, customized derivatives... "
   ]
  },
  {
   "cell_type": "markdown",
   "metadata": {},
   "source": [
    "# Exercise\n",
    "\n",
    "    x = numpy.arange(10).astype(numpy.float64)\n",
    "    y = 0.001 * x**3 + 25.1 * x**2 + 1.2 * x - 25\n",
    "    \n",
    "1. Fit degree-2 polynomial to this data\n",
    "2. Fit a degree-3 polynomial to this data\n",
    "3. Fit a degree-3 polynomial to this data using FitManager.\n",
    "4. Print the chi-square value and number of iterations for all previous tasks.\n",
    "\n",
    "\n",
    "+ Tip: For the 3-rd task, to add a model function to FitManager:\n",
    "\n",
    "      from silx.math.fit import FitTheory\n",
    "      from silx.math.fit import FitManager\n",
    "\n",
    "      def poly3(x, a, b, c, d):\n",
    "          return a * x**3 + b * x**2 + c*x + d\n",
    "          \n",
    "      my_poly3_theory = FitTheory(function=poly3, parameters=[\"a\", \"b\", \"c\", \"d\"])\n",
    "      \n",
    "      fitman = FitManager()\n",
    "      fitman.addtheory(name=\"my poly\", theory=my_poly3_theory)\n",
    "      ...\n",
    "      "
   ]
  },
  {
   "cell_type": "code",
   "execution_count": 37,
   "metadata": {
    "collapsed": false
   },
   "outputs": [
    {
     "name": "stdout",
     "output_type": "stream",
     "text": [
      "Parameters [a, b, c]: [ 25.1135       1.15390001 -24.97480002]\n",
      "0.000441257142858\n",
      "4\n"
     ]
    }
   ],
   "source": [
    "# 1.\n",
    "import numpy\n",
    "from silx.math.fit import leastsq\n",
    "\n",
    "x = numpy.arange(10).astype(numpy.float64)\n",
    "y = 0.001 * x**3 + 25.1 * x**2 + 1.2 * x - 25\n",
    "\n",
    "\n",
    "def poly2(x, a, b, c):\n",
    "    return a * x**2 + b*x + c\n",
    "\n",
    "p0 = [1., 1., 1.]\n",
    "\n",
    "p, cov_matrix = leastsq(poly2, x, y, p0)\n",
    "\n",
    "print(\"Parameters [a, b, c]: \" + str(p))\n",
    "\n",
    "# 4.\n",
    "p, cov_matrix, info = leastsq(poly2, x, y, p0, full_output=True)\n",
    "print(info[\"reduced_chisq\"])\n",
    "print(info[\"niter\"])\n"
   ]
  },
  {
   "cell_type": "code",
   "execution_count": 39,
   "metadata": {
    "collapsed": false
   },
   "outputs": [
    {
     "name": "stdout",
     "output_type": "stream",
     "text": [
      "Parameters [a, b, c, d]: [  1.00000007e-03   2.51000000e+01   1.20000001e+00  -2.50000000e+01]\n",
      "8.96788047245e-17\n",
      "5\n"
     ]
    }
   ],
   "source": [
    "# 2.\n",
    "def poly3(x, a, b, c, d):\n",
    "    return a * x**3 + b*x**2 + c*x + d\n",
    "\n",
    "p0 = [1., 1., 1., 1.]\n",
    "\n",
    "p, cov_matrix = leastsq(poly3, x, y, p0)\n",
    "\n",
    "print(\"Parameters [a, b, c, d]: \" + str(p))\n",
    "\n",
    "# 4.\n",
    "p, cov_matrix, info = leastsq(poly3, x, y, p0, full_output=True)\n",
    "print(info[\"reduced_chisq\"])\n",
    "print(info[\"niter\"])\n"
   ]
  },
  {
   "cell_type": "code",
   "execution_count": 40,
   "metadata": {
    "collapsed": false
   },
   "outputs": [
    {
     "name": "stdout",
     "output_type": "stream",
     "text": [
      "Estimated parameters:  [ 1.  1.  1.  1.]\n",
      "Parameters [a, b, c, d]: [  1.00000028e-03   2.51000000e+01   1.20000001e+00  -2.50000000e+01]\n",
      "parameter a1: 0.001000\n",
      "parameter b1: 25.100000\n",
      "parameter c1: 1.200000\n",
      "parameter d1: -25.000000\n",
      "4.7203142867e-17\n"
     ]
    }
   ],
   "source": [
    "# 3.\n",
    "from silx.math.fit import FitTheory\n",
    "from silx.math.fit import FitManager\n",
    "\n",
    "def poly3(x, a, b, c, d):\n",
    "    return a * x**3 + b * x**2 + c*x + d\n",
    "\n",
    "my_poly3_theory = FitTheory(function=poly3, parameters=[\"a\", \"b\", \"c\", \"d\"])\n",
    "\n",
    "fitman = FitManager()\n",
    "fitman.addtheory(\"my poly\", my_poly3_theory)\n",
    "fitman.settheory(\"my poly\")\n",
    "\n",
    "fitman.setdata(x, y)\n",
    "\n",
    "# FitManager.estimate() returns an array of initial parameters\n",
    "p0 = fitman.estimate()\n",
    "# ... and as we didn't define an estimation function, it will be an array of ones.\n",
    "print(\"Estimated parameters: \", p0)\n",
    "\n",
    "# FitManager.runfit() returns the same data as leastsq(..., full_output=True) \n",
    "p, cov, info = fitman.runfit()\n",
    "\n",
    "print(\"Parameters [a, b, c, d]: \" + str(p))\n",
    "\n",
    "for param in fitman.fit_results:\n",
    "    print(\"parameter %s: %f\" % (param[\"name\"], param[\"fitresult\"]))\n",
    "\n",
    "# 4.\n",
    "print(fitman.chisq)\n",
    "print(fitman.)"
   ]
  },
  {
   "cell_type": "code",
   "execution_count": null,
   "metadata": {
    "collapsed": true
   },
   "outputs": [],
   "source": []
  }
 ],
 "metadata": {
  "kernelspec": {
   "display_name": "Python 3",
   "language": "python",
   "name": "python3"
  },
  "language_info": {
   "codemirror_mode": {
    "name": "ipython",
    "version": 3
   },
   "file_extension": ".py",
   "mimetype": "text/x-python",
   "name": "python",
   "nbconvert_exporter": "python",
   "pygments_lexer": "ipython3",
   "version": "3.4.2"
  }
 },
 "nbformat": 4,
 "nbformat_minor": 0
}
