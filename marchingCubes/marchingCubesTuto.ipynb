{
 "cells": [
  {
   "cell_type": "markdown",
   "metadata": {},
   "source": [
    "# Isolevel in one cube:"
   ]
  },
  {
   "cell_type": "code",
   "execution_count": null,
   "metadata": {
    "collapsed": false
   },
   "outputs": [],
   "source": [
    "# Cube array dimensions: shape = (dim 0, dim 1, dim2)\n",
    "#      dim 0 (Z)\n",
    "#        ^\n",
    "#        |\n",
    "#      4 +------+ 5\n",
    "#       /|     /|\n",
    "#      / |    / |\n",
    "#   6 +------+ 7|\n",
    "#     |  |   |  |\n",
    "#     |0 +---|--+ 1 -> dim 2 (X)\n",
    "#     | /    | /\n",
    "#     |/     |/\n",
    "#   2 +------+ 3\n",
    "#    /\n",
    "#   dim 1 (Y)"
   ]
  },
  {
   "cell_type": "markdown",
   "metadata": {},
   "source": [
    "If we want to create the following mesh \n",
    "![larger-iso-surface-using-silx-plot3d](img/simpleCube.png)"
   ]
  },
  {
   "cell_type": "code",
   "execution_count": null,
   "metadata": {
    "collapsed": false
   },
   "outputs": [],
   "source": [
    "%gui qt\n",
    "from silx.math import marchingcubes\n",
    "import numpy"
   ]
  },
  {
   "cell_type": "markdown",
   "metadata": {},
   "source": [
    "If we want to affect the following iso values to vertices:\n",
    "\n",
    "          dim 0 (Z)\n",
    "            ^\n",
    "            |\n",
    "          1 +------+ 1\n",
    "           /|     /|\n",
    "          / |    / |\n",
    "       1 +------+ 1|\n",
    "         |  |   |  |\n",
    "         |0 +---|--+ 0 -> dim 2 (X)\n",
    "         | /    | /\n",
    "         |/     |/\n",
    "       0 +------+ 0\n",
    "        /\n",
    "       dim 1 (Y)"
   ]
  },
  {
   "cell_type": "code",
   "execution_count": null,
   "metadata": {
    "collapsed": false
   },
   "outputs": [],
   "source": [
    "cube = numpy.array(\n",
    "            (((0., 0.), (0., 0.)),\n",
    "             ((1., 1.), (1., 1.))), dtype=numpy.float32)"
   ]
  },
  {
   "cell_type": "code",
   "execution_count": null,
   "metadata": {
    "collapsed": false
   },
   "outputs": [],
   "source": [
    "vertices, normals, indices = marchingcubes.MarchingCubes(cube, isolevel=0.2)"
   ]
  },
  {
   "cell_type": "markdown",
   "metadata": {},
   "source": [
    "vertices: vertices of the mesh\n",
    "normals:normals at each vertex\n",
    "indices: triangle indices of the vertices composing the mesh"
   ]
  },
  {
   "cell_type": "markdown",
   "metadata": {},
   "source": [
    "Display the result (using matlab for now...)"
   ]
  },
  {
   "cell_type": "code",
   "execution_count": null,
   "metadata": {
    "collapsed": true
   },
   "outputs": [],
   "source": [
    "%gui qt"
   ]
  },
  {
   "cell_type": "code",
   "execution_count": null,
   "metadata": {
    "collapsed": false
   },
   "outputs": [],
   "source": [
    "import matplotlib.pyplot as plt\n",
    "from mpl_toolkits.mplot3d import Axes3D"
   ]
  },
  {
   "cell_type": "code",
   "execution_count": null,
   "metadata": {
    "collapsed": false
   },
   "outputs": [],
   "source": [
    "def plotMesh(_vertices):\n",
    "    import numpy\n",
    "    from matplotlib.collections import PolyCollection\n",
    "    fig = plt.figure()\n",
    "    ax = fig.add_subplot(111, projection='3d')\n",
    "    # draw ref\n",
    "    ax.plot((0, 1),(0, 0),(0, 0))\n",
    "    ax.plot((0, 0),(0, 1),(0, 0))\n",
    "    ax.plot((0, 0),(0, 0),(0, 1))\n",
    "\n",
    "    # draw the points created\n",
    "    x=[]\n",
    "    y=[]\n",
    "    z=[]\n",
    "    for vertice in _vertices:\n",
    "        x.append(vertice[2])\n",
    "        y.append(vertice[1])\n",
    "        z.append(vertice[0])\n",
    "\n",
    "    x=numpy.array(x)\n",
    "    y=numpy.array(y)\n",
    "    z=numpy.array(z)\n",
    "\n",
    "    x, y = numpy.meshgrid(x, y)\n",
    "\n",
    "    ax.plot_surface(x, y, z, color='orange')\n",
    "\n",
    "    ax.set_xlabel('dim2 (x)')\n",
    "    ax.set_ylabel('dim1 (y)')\n",
    "    ax.set_zlabel('dim0 (z)')\n",
    "    plt.show()"
   ]
  },
  {
   "cell_type": "code",
   "execution_count": null,
   "metadata": {
    "collapsed": false
   },
   "outputs": [],
   "source": [
    "plotMesh(vertices)"
   ]
  },
  {
   "cell_type": "markdown",
   "metadata": {},
   "source": [
    "Now you can play with the vertices iso values and isolevel to see what appends"
   ]
  }
 ],
 "metadata": {
  "kernelspec": {
   "display_name": "Python 3",
   "language": "python",
   "name": "python3"
  },
  "language_info": {
   "codemirror_mode": {
    "name": "ipython",
    "version": 3
   },
   "file_extension": ".py",
   "mimetype": "text/x-python",
   "name": "python",
   "nbconvert_exporter": "python",
   "pygments_lexer": "ipython3",
   "version": "3.5.2"
  }
 },
 "nbformat": 4,
 "nbformat_minor": 0
}
