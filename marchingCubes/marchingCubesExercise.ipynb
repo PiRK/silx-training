{
 "cells": [
  {
   "cell_type": "markdown",
   "metadata": {},
   "source": [
    "# Isolevel in one cube:"
   ]
  },
  {
   "cell_type": "markdown",
   "metadata": {},
   "source": [
    "## Exercise : display the followinf mesh using the given plotMesh function and the marchingcubes module functions\n",
    "![larger-iso-surface-using-silx-plot3d](img/simpleCube.png)"
   ]
  },
  {
   "cell_type": "markdown",
   "metadata": {},
   "source": [
    "Help : for the following iso values at vertices, \n",
    "\n",
    "Index of vertices are : \n",
    "\n",
    "          dim 0 (Z)\n",
    "            ^\n",
    "            |\n",
    "          4 +------+ 5\n",
    "           /|     /|\n",
    "          / |    / |\n",
    "       6 +------+ 7|\n",
    "         |  |   |  |\n",
    "         |0 +---|--+ 1 -> dim 2 (X)\n",
    "         | /    | /\n",
    "         |/     |/\n",
    "       2 +------+ 3\n",
    "        /\n",
    "       dim 1 (Y)\n",
    "\n",
    "\n",
    " so for the following setup :\n",
    " \n",
    "          dim 0 (Z)\n",
    "            ^\n",
    "            |\n",
    "          1 +------+ 1\n",
    "           /|     /|\n",
    "          / |    / |\n",
    "       0 +------+ 0|\n",
    "         |  |   |  |\n",
    "         |1 +---|--+ 1 -> dim 2 (X)\n",
    "         | /    | /\n",
    "         |/     |/\n",
    "       0 +------+ 0\n",
    "        /\n",
    "       dim 1 (Y)\n",
    "       \n",
    "       \n",
    "cube is defined by :\n",
    "\n",
    "<code>\n",
    "    cube = numpy.array(\n",
    "            (((1., 1.), (0., 0.)),\n",
    "             ((1., 1.), (0., 0.))), dtype=numpy.float32)\n",
    "</code>        "
   ]
  },
  {
   "cell_type": "code",
   "execution_count": null,
   "metadata": {
    "collapsed": false
   },
   "outputs": [],
   "source": [
    "import matplotlib.pyplot as plt\n",
    "from mpl_toolkits.mplot3d import Axes3D"
   ]
  },
  {
   "cell_type": "code",
   "execution_count": null,
   "metadata": {
    "collapsed": false
   },
   "outputs": [],
   "source": [
    "def plotMesh(_vertices):\n",
    "    import numpy\n",
    "    from matplotlib.collections import PolyCollection\n",
    "    fig = plt.figure()\n",
    "    ax = fig.add_subplot(111, projection='3d')\n",
    "    # draw ref\n",
    "    ax.plot((0, 1),(0, 0),(0, 0))\n",
    "    ax.plot((0, 0),(0, 1),(0, 0))\n",
    "    ax.plot((0, 0),(0, 0),(0, 1))\n",
    "\n",
    "    # draw the points created\n",
    "    x=[]\n",
    "    y=[]\n",
    "    z=[]\n",
    "    for vertice in _vertices:\n",
    "        x.append(vertice[2])\n",
    "        y.append(vertice[1])\n",
    "        z.append(vertice[0])\n",
    "\n",
    "    x=numpy.array(x)\n",
    "    y=numpy.array(y)\n",
    "    z=numpy.array(z)\n",
    "\n",
    "    x, y = numpy.meshgrid(x, y)\n",
    "\n",
    "    ax.plot_surface(x, y, z, color='orange')\n",
    "\n",
    "    ax.set_xlabel('dim2 (x)')\n",
    "    ax.set_ylabel('dim1 (y)')\n",
    "    ax.set_zlabel('dim0 (z)')\n",
    "    plt.show()"
   ]
  },
  {
   "cell_type": "code",
   "execution_count": null,
   "metadata": {
    "collapsed": false
   },
   "outputs": [],
   "source": [
    "..."
   ]
  },
  {
   "cell_type": "markdown",
   "metadata": {},
   "source": [
    "Now you can play with the vertices iso values and isolevel to see what appends"
   ]
  }
 ],
 "metadata": {
  "kernelspec": {
   "display_name": "Python 3",
   "language": "python",
   "name": "python3"
  },
  "language_info": {
   "codemirror_mode": {
    "name": "ipython",
    "version": 3
   },
   "file_extension": ".py",
   "mimetype": "text/x-python",
   "name": "python",
   "nbconvert_exporter": "python",
   "pygments_lexer": "ipython3",
   "version": "3.5.2"
  }
 },
 "nbformat": 4,
 "nbformat_minor": 0
}
